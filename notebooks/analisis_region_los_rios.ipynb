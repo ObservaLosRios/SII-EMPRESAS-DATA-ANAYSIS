{
 "cells": [
  {
   "cell_type": "markdown",
   "id": "08ee4447",
   "metadata": {},
   "source": [
    "# Análisis de Datos Empresariales - Región de Los Ríos\n",
    "\n",
    "Este notebook se enfoca en el análisis de datos de empresas exclusivamente en la **Región de Los Ríos** de Chile, utilizando el dataset `PUB_COMU_RUBR.csv` del SII (Servicio de Impuestos Internos).\n",
    "\n",
    "## Objetivos\n",
    "\n",
    "- Filtrar y limpiar datos específicos de la Región de Los Ríos\n",
    "- Analizar la distribución geográfica de empresas por comuna\n",
    "- Estudiar la evolución temporal del sector empresarial en la región\n",
    "- Identificar los rubros económicos predominantes\n",
    "- Visualizar relaciones entre variables clave\n",
    "- Generar estadísticas y métricas relevantes para la toma de decisiones"
   ]
  },
  {
   "cell_type": "markdown",
   "id": "92fa2108",
   "metadata": {},
   "source": [
    "## 1. Cargar Bibliotecas Necesarias\n",
    "\n",
    "Importamos las bibliotecas que utilizaremos para el análisis de datos y visualización."
   ]
  },
  {
   "cell_type": "code",
   "execution_count": 2,
   "id": "ce16a300",
   "metadata": {},
   "outputs": [],
   "source": [
    "# Importación de bibliotecas\n",
    "import pandas as pd\n",
    "import numpy as np\n",
    "import matplotlib.pyplot as plt\n",
    "import seaborn as sns\n",
    "import plotly.express as px\n",
    "import plotly.graph_objects as go\n",
    "from plotly.subplots import make_subplots\n",
    "import os\n",
    "from pathlib import Path\n",
    "\n",
    "# Configuración para mostrar todas las columnas en pandas\n",
    "pd.set_option('display.max_columns', None)\n",
    "\n",
    "# Paleta de colores para gráficos (accesible para daltonismo)\n",
    "COLORBLIND_PALETTE = [\n",
    "    '#1F77B4',  # Azul\n",
    "    '#FF7F0E',  # Naranja\n",
    "    '#2CA02C',  # Verde\n",
    "    '#D62728',  # Rojo\n",
    "    '#9467BD',  # Morado\n",
    "    '#8C564B',  # Marrón\n",
    "    '#E377C2',  # Rosa\n",
    "    '#7F7F7F',  # Gris\n",
    "    '#BCBD22',  # Oliva\n",
    "    '#17BECF'   # Turquesa\n",
    "]\n",
    "\n",
    "# Función para aplicar estilo \"The Economist\" a los gráficos de Plotly\n",
    "def apply_economist_style(fig, title=\"\", xaxis_title=\"\", yaxis_title=\"\"):\n",
    "    \"\"\"\n",
    "    Aplica el estilo de The Economist a un gráfico de Plotly\n",
    "    \n",
    "    Args:\n",
    "        fig: Figura de Plotly\n",
    "        title: Título del gráfico\n",
    "        xaxis_title: Título del eje X\n",
    "        yaxis_title: Título del eje Y\n",
    "    \n",
    "    Returns:\n",
    "        fig: Figura con el estilo aplicado\n",
    "    \"\"\"\n",
    "    fig.update_layout(\n",
    "        font=dict(family='Georgia, serif', color='#1e293b'),\n",
    "        title=dict(\n",
    "            text=title,\n",
    "            font=dict(size=18, family='Georgia, serif', color='#1e293b'),\n",
    "            x=0.01,  # Alineado a la izquierda al estilo \"The Economist\"\n",
    "            y=0.95\n",
    "        ),\n",
    "        paper_bgcolor='white',\n",
    "        plot_bgcolor='white',\n",
    "        xaxis=dict(\n",
    "            title=dict(text=xaxis_title, font=dict(family='Georgia, serif', size=14)),\n",
    "            tickfont=dict(family='Georgia, serif'),\n",
    "            showgrid=True,\n",
    "            gridcolor='lightgray',\n",
    "            zeroline=False,\n",
    "        ),\n",
    "        yaxis=dict(\n",
    "            title=dict(text=yaxis_title, font=dict(family='Georgia, serif', size=14)),\n",
    "            tickfont=dict(family='Georgia, serif'),\n",
    "            showgrid=False,  # Sin líneas de cuadrícula en Y (como especificaste)\n",
    "            zeroline=False,\n",
    "        ),\n",
    "        legend=dict(\n",
    "            font=dict(family='Georgia, serif'),\n",
    "            bgcolor='rgba(255, 255, 255, 0.8)',\n",
    "        ),\n",
    "        margin=dict(l=80, r=40, t=100, b=80),\n",
    "    )\n",
    "    return fig"
   ]
  },
  {
   "cell_type": "markdown",
   "id": "66444a81",
   "metadata": {},
   "source": [
    "## 2. Cargar y Explorar Datos\n",
    "\n",
    "En esta sección, vamos a cargar el dataset `PUB_COMU_RUBR.csv` y filtrar específicamente los datos correspondientes a la Región de Los Ríos. Luego exploraremos la estructura del dataset resultante."
   ]
  },
  {
   "cell_type": "code",
   "execution_count": 3,
   "id": "89f88453",
   "metadata": {},
   "outputs": [
    {
     "name": "stdout",
     "output_type": "stream",
     "text": [
      "Leyendo archivo: /Users/brunosanmartin/Documents/Uach/sii-empresas-data-analysis/data/raw/PUB_COMU_RUBR.csv\n",
      "Dimensiones originales: (119406, 25)\n",
      "\n",
      "Primeras filas del dataset original:\n"
     ]
    },
    {
     "data": {
      "text/html": [
       "<div>\n",
       "<style scoped>\n",
       "    .dataframe tbody tr th:only-of-type {\n",
       "        vertical-align: middle;\n",
       "    }\n",
       "\n",
       "    .dataframe tbody tr th {\n",
       "        vertical-align: top;\n",
       "    }\n",
       "\n",
       "    .dataframe thead th {\n",
       "        text-align: right;\n",
       "    }\n",
       "</style>\n",
       "<table border=\"1\" class=\"dataframe\">\n",
       "  <thead>\n",
       "    <tr style=\"text-align: right;\">\n",
       "      <th></th>\n",
       "      <th>AÃ±o Comercial</th>\n",
       "      <th>Comuna del domicilio o casa matriz</th>\n",
       "      <th>Provincia del domicilio o casa matriz</th>\n",
       "      <th>Region del domicilio o casa matriz</th>\n",
       "      <th>Rubro economico</th>\n",
       "      <th>NÃºmero de empresas</th>\n",
       "      <th>Ventas anuales en UF</th>\n",
       "      <th>NÃºmero de trabajadores dependientes informados</th>\n",
       "      <th>Renta neta informada en UF</th>\n",
       "      <th>Trabajadores ponderados por meses trabajados</th>\n",
       "      <th>NÃºmero de trabajadores dependientes de gÃ©nero femenino informados</th>\n",
       "      <th>Renta neta informada en UF, trabajadores de gÃ©nero femenino</th>\n",
       "      <th>Trabajadores de gÃ©nero femenino ponderados por meses trabajados</th>\n",
       "      <th>NÃºmero de trabajadores dependientes de gÃ©nero masculino informados</th>\n",
       "      <th>Renta neta informada en UF, trabajadores de gÃ©nero masculino</th>\n",
       "      <th>Trabajadores de gÃ©nero masculino ponderados por meses trabajados</th>\n",
       "      <th>NÃºmero de trabajadores a honorarios informados</th>\n",
       "      <th>Honorarios pagados informados en UF</th>\n",
       "      <th>Trabajadores a honorarios ponderados por meses trabajados</th>\n",
       "      <th>NÃºmero de trabajadores a honorarios de gÃ©nero femenino informados</th>\n",
       "      <th>Honorarios pagados informados a trabajadores de gÃ©nero femenino en UF</th>\n",
       "      <th>Trabajadores a honorarios de gÃ©nero femenino ponderados por meses trabajados</th>\n",
       "      <th>NÃºmero de trabajadores a honorarios de gÃ©nero masculino informados</th>\n",
       "      <th>Honorarios pagados informados a trabajadores de gÃ©nero masculino en UF</th>\n",
       "      <th>Trabajadores a honorarios de gÃ©nero masculino ponderados por meses trabajados</th>\n",
       "    </tr>\n",
       "  </thead>\n",
       "  <tbody>\n",
       "    <tr>\n",
       "      <th>0</th>\n",
       "      <td>2005</td>\n",
       "      <td>ÃuÃ±oa</td>\n",
       "      <td>Santiago</td>\n",
       "      <td>RegiÃ³n Metropolitana de Santiago</td>\n",
       "      <td>L - Actividades inmobiliarias</td>\n",
       "      <td>462</td>\n",
       "      <td>1654443.89</td>\n",
       "      <td>768</td>\n",
       "      <td>82367.248</td>\n",
       "      <td>441.916</td>\n",
       "      <td>243</td>\n",
       "      <td>26877.618</td>\n",
       "      <td>149.583</td>\n",
       "      <td>523</td>\n",
       "      <td>55250.368</td>\n",
       "      <td>292.250</td>\n",
       "      <td>843</td>\n",
       "      <td>75089.407</td>\n",
       "      <td>0.0</td>\n",
       "      <td>294</td>\n",
       "      <td>24645.941</td>\n",
       "      <td>0.0</td>\n",
       "      <td>549</td>\n",
       "      <td>49693.312</td>\n",
       "      <td>0.0</td>\n",
       "    </tr>\n",
       "    <tr>\n",
       "      <th>1</th>\n",
       "      <td>2005</td>\n",
       "      <td>Curaco de VÃ©lez</td>\n",
       "      <td>ChiloÃ©</td>\n",
       "      <td>RegiÃ³n de Los Lagos</td>\n",
       "      <td>P - EnseÃ±anza</td>\n",
       "      <td>1</td>\n",
       "      <td>*</td>\n",
       "      <td>126</td>\n",
       "      <td>*</td>\n",
       "      <td>121.000</td>\n",
       "      <td>70</td>\n",
       "      <td>*</td>\n",
       "      <td>67.083</td>\n",
       "      <td>56</td>\n",
       "      <td>*</td>\n",
       "      <td>53.917</td>\n",
       "      <td>62</td>\n",
       "      <td>*</td>\n",
       "      <td>0.0</td>\n",
       "      <td>37</td>\n",
       "      <td>*</td>\n",
       "      <td>0.0</td>\n",
       "      <td>25</td>\n",
       "      <td>*</td>\n",
       "      <td>0.0</td>\n",
       "    </tr>\n",
       "    <tr>\n",
       "      <th>2</th>\n",
       "      <td>2005</td>\n",
       "      <td>Providencia</td>\n",
       "      <td>Santiago</td>\n",
       "      <td>RegiÃ³n Metropolitana de Santiago</td>\n",
       "      <td>J - InformaciÃ³n y comunicaciones</td>\n",
       "      <td>1255</td>\n",
       "      <td>72361801.23</td>\n",
       "      <td>21192</td>\n",
       "      <td>7892597.657</td>\n",
       "      <td>14539.329</td>\n",
       "      <td>7796</td>\n",
       "      <td>1898729.158</td>\n",
       "      <td>5010.665</td>\n",
       "      <td>13341</td>\n",
       "      <td>5985607.244</td>\n",
       "      <td>9514.498</td>\n",
       "      <td>20946</td>\n",
       "      <td>1440638.44</td>\n",
       "      <td>0.0</td>\n",
       "      <td>9473</td>\n",
       "      <td>592098.854</td>\n",
       "      <td>0.0</td>\n",
       "      <td>11473</td>\n",
       "      <td>843335.533</td>\n",
       "      <td>0.0</td>\n",
       "    </tr>\n",
       "  </tbody>\n",
       "</table>\n",
       "</div>"
      ],
      "text/plain": [
       "   AÃ±o Comercial Comuna del domicilio o casa matriz  \\\n",
       "0            2005                            ÃuÃ±oa   \n",
       "1            2005                   Curaco de VÃ©lez   \n",
       "2            2005                        Providencia   \n",
       "\n",
       "  Provincia del domicilio o casa matriz Region del domicilio o casa matriz  \\\n",
       "0                              Santiago  RegiÃ³n Metropolitana de Santiago   \n",
       "1                               ChiloÃ©               RegiÃ³n de Los Lagos   \n",
       "2                              Santiago  RegiÃ³n Metropolitana de Santiago   \n",
       "\n",
       "                     Rubro economico  NÃºmero de empresas  \\\n",
       "0      L - Actividades inmobiliarias                  462   \n",
       "1                     P - EnseÃ±anza                    1   \n",
       "2  J - InformaciÃ³n y comunicaciones                 1255   \n",
       "\n",
       "  Ventas anuales en UF  NÃºmero de trabajadores dependientes informados  \\\n",
       "0           1654443.89                                              768   \n",
       "1                    *                                              126   \n",
       "2          72361801.23                                            21192   \n",
       "\n",
       "  Renta neta informada en UF  Trabajadores ponderados por meses trabajados  \\\n",
       "0                  82367.248                                       441.916   \n",
       "1                          *                                       121.000   \n",
       "2                7892597.657                                     14539.329   \n",
       "\n",
       "   NÃºmero de trabajadores dependientes de gÃ©nero femenino informados  \\\n",
       "0                                                243                     \n",
       "1                                                 70                     \n",
       "2                                               7796                     \n",
       "\n",
       "  Renta neta informada en UF, trabajadores de gÃ©nero femenino  \\\n",
       "0                                          26877.618             \n",
       "1                                                  *             \n",
       "2                                        1898729.158             \n",
       "\n",
       "   Trabajadores de gÃ©nero femenino ponderados por meses trabajados  \\\n",
       "0                                            149.583                  \n",
       "1                                             67.083                  \n",
       "2                                           5010.665                  \n",
       "\n",
       "   NÃºmero de trabajadores dependientes de gÃ©nero masculino informados  \\\n",
       "0                                                523                      \n",
       "1                                                 56                      \n",
       "2                                              13341                      \n",
       "\n",
       "  Renta neta informada en UF, trabajadores de gÃ©nero masculino  \\\n",
       "0                                          55250.368              \n",
       "1                                                  *              \n",
       "2                                        5985607.244              \n",
       "\n",
       "   Trabajadores de gÃ©nero masculino ponderados por meses trabajados  \\\n",
       "0                                            292.250                   \n",
       "1                                             53.917                   \n",
       "2                                           9514.498                   \n",
       "\n",
       "   NÃºmero de trabajadores a honorarios informados  \\\n",
       "0                                              843   \n",
       "1                                               62   \n",
       "2                                            20946   \n",
       "\n",
       "  Honorarios pagados informados en UF  \\\n",
       "0                           75089.407   \n",
       "1                                   *   \n",
       "2                          1440638.44   \n",
       "\n",
       "   Trabajadores a honorarios ponderados por meses trabajados  \\\n",
       "0                                                0.0           \n",
       "1                                                0.0           \n",
       "2                                                0.0           \n",
       "\n",
       "   NÃºmero de trabajadores a honorarios de gÃ©nero femenino informados  \\\n",
       "0                                                294                     \n",
       "1                                                 37                     \n",
       "2                                               9473                     \n",
       "\n",
       "  Honorarios pagados informados a trabajadores de gÃ©nero femenino en UF  \\\n",
       "0                                          24645.941                       \n",
       "1                                                  *                       \n",
       "2                                         592098.854                       \n",
       "\n",
       "   Trabajadores a honorarios de gÃ©nero femenino ponderados por meses trabajados  \\\n",
       "0                                                0.0                               \n",
       "1                                                0.0                               \n",
       "2                                                0.0                               \n",
       "\n",
       "   NÃºmero de trabajadores a honorarios de gÃ©nero masculino informados  \\\n",
       "0                                                549                      \n",
       "1                                                 25                      \n",
       "2                                              11473                      \n",
       "\n",
       "  Honorarios pagados informados a trabajadores de gÃ©nero masculino en UF  \\\n",
       "0                                          49693.312                        \n",
       "1                                                  *                        \n",
       "2                                         843335.533                        \n",
       "\n",
       "   Trabajadores a honorarios de gÃ©nero masculino ponderados por meses trabajados  \n",
       "0                                                0.0                               \n",
       "1                                                0.0                               \n",
       "2                                                0.0                               "
      ]
     },
     "metadata": {},
     "output_type": "display_data"
    }
   ],
   "source": [
    "# Definir rutas\n",
    "import os\n",
    "from pathlib import Path\n",
    "\n",
    "# Obtener el directorio base\n",
    "BASE_DIR = Path.cwd().parent\n",
    "INPUT_FILE = BASE_DIR / \"data\" / \"raw\" / \"PUB_COMU_RUBR.csv\"\n",
    "OUTPUT_DIR = BASE_DIR / \"data\" / \"processed\"\n",
    "OUTPUT_FILE = OUTPUT_DIR / \"region_los_rios.csv\"\n",
    "\n",
    "# Crear directorio de salida si no existe\n",
    "os.makedirs(OUTPUT_DIR, exist_ok=True)\n",
    "\n",
    "print(f\"Leyendo archivo: {INPUT_FILE}\")\n",
    "\n",
    "# Leer el archivo CSV\n",
    "# Usamos encoding='latin1' para manejar caracteres especiales del español\n",
    "df = pd.read_csv(INPUT_FILE, encoding='latin1')\n",
    "\n",
    "# Mostrar dimensiones originales del dataset\n",
    "print(f\"Dimensiones originales: {df.shape}\")\n",
    "\n",
    "# Mostrar las primeras filas para entender su estructura\n",
    "print(\"\\nPrimeras filas del dataset original:\")\n",
    "display(df.head(3))"
   ]
  },
  {
   "cell_type": "code",
   "execution_count": 4,
   "id": "b26e0db7",
   "metadata": {},
   "outputs": [
    {
     "name": "stdout",
     "output_type": "stream",
     "text": [
      "Registros filtrados: 0 (de 119406 originales)\n",
      "Porcentaje del dataset original: 0.00%\n",
      "\n",
      "Primeras filas del dataset filtrado (Región de Los Ríos):\n"
     ]
    },
    {
     "data": {
      "text/html": [
       "<div>\n",
       "<style scoped>\n",
       "    .dataframe tbody tr th:only-of-type {\n",
       "        vertical-align: middle;\n",
       "    }\n",
       "\n",
       "    .dataframe tbody tr th {\n",
       "        vertical-align: top;\n",
       "    }\n",
       "\n",
       "    .dataframe thead th {\n",
       "        text-align: right;\n",
       "    }\n",
       "</style>\n",
       "<table border=\"1\" class=\"dataframe\">\n",
       "  <thead>\n",
       "    <tr style=\"text-align: right;\">\n",
       "      <th></th>\n",
       "      <th>AÃ±o Comercial</th>\n",
       "      <th>Comuna del domicilio o casa matriz</th>\n",
       "      <th>Provincia del domicilio o casa matriz</th>\n",
       "      <th>Region del domicilio o casa matriz</th>\n",
       "      <th>Rubro economico</th>\n",
       "      <th>NÃºmero de empresas</th>\n",
       "      <th>Ventas anuales en UF</th>\n",
       "      <th>NÃºmero de trabajadores dependientes informados</th>\n",
       "      <th>Renta neta informada en UF</th>\n",
       "      <th>Trabajadores ponderados por meses trabajados</th>\n",
       "      <th>NÃºmero de trabajadores dependientes de gÃ©nero femenino informados</th>\n",
       "      <th>Renta neta informada en UF, trabajadores de gÃ©nero femenino</th>\n",
       "      <th>Trabajadores de gÃ©nero femenino ponderados por meses trabajados</th>\n",
       "      <th>NÃºmero de trabajadores dependientes de gÃ©nero masculino informados</th>\n",
       "      <th>Renta neta informada en UF, trabajadores de gÃ©nero masculino</th>\n",
       "      <th>Trabajadores de gÃ©nero masculino ponderados por meses trabajados</th>\n",
       "      <th>NÃºmero de trabajadores a honorarios informados</th>\n",
       "      <th>Honorarios pagados informados en UF</th>\n",
       "      <th>Trabajadores a honorarios ponderados por meses trabajados</th>\n",
       "      <th>NÃºmero de trabajadores a honorarios de gÃ©nero femenino informados</th>\n",
       "      <th>Honorarios pagados informados a trabajadores de gÃ©nero femenino en UF</th>\n",
       "      <th>Trabajadores a honorarios de gÃ©nero femenino ponderados por meses trabajados</th>\n",
       "      <th>NÃºmero de trabajadores a honorarios de gÃ©nero masculino informados</th>\n",
       "      <th>Honorarios pagados informados a trabajadores de gÃ©nero masculino en UF</th>\n",
       "      <th>Trabajadores a honorarios de gÃ©nero masculino ponderados por meses trabajados</th>\n",
       "    </tr>\n",
       "  </thead>\n",
       "  <tbody>\n",
       "  </tbody>\n",
       "</table>\n",
       "</div>"
      ],
      "text/plain": [
       "Empty DataFrame\n",
       "Columns: [AÃ±o Comercial, Comuna del domicilio o casa matriz, Provincia del domicilio o casa matriz, Region del domicilio o casa matriz, Rubro economico, NÃºmero de empresas, Ventas anuales en UF, NÃºmero de trabajadores dependientes informados, Renta neta informada en UF, Trabajadores ponderados por meses trabajados, NÃºmero de trabajadores dependientes de gÃ©nero femenino informados, Renta neta informada en UF, trabajadores de gÃ©nero femenino, Trabajadores de gÃ©nero femenino ponderados por meses trabajados, NÃºmero de trabajadores dependientes de gÃ©nero masculino informados, Renta neta informada en UF, trabajadores de gÃ©nero masculino, Trabajadores de gÃ©nero masculino ponderados por meses trabajados, NÃºmero de trabajadores a honorarios informados, Honorarios pagados informados en UF, Trabajadores a honorarios ponderados por meses trabajados, NÃºmero de trabajadores a honorarios de gÃ©nero femenino informados, Honorarios pagados informados a trabajadores de gÃ©nero femenino en UF, Trabajadores a honorarios de gÃ©nero femenino ponderados por meses trabajados, NÃºmero de trabajadores a honorarios de gÃ©nero masculino informados, Honorarios pagados informados a trabajadores de gÃ©nero masculino en UF, Trabajadores a honorarios de gÃ©nero masculino ponderados por meses trabajados]\n",
       "Index: []"
      ]
     },
     "metadata": {},
     "output_type": "display_data"
    },
    {
     "name": "stdout",
     "output_type": "stream",
     "text": [
      "Archivo guardado exitosamente en: /Users/brunosanmartin/Documents/Uach/sii-empresas-data-analysis/data/processed/region_los_rios.csv\n"
     ]
    }
   ],
   "source": [
    "# Filtrar solo los registros de la Región de Los Ríos\n",
    "region_los_rios = df[df[\"Region del domicilio o casa matriz\"] == \"Región de Los Ríos\"]\n",
    "\n",
    "# Verificar cuántos registros se obtuvieron\n",
    "print(f\"Registros filtrados: {region_los_rios.shape[0]} (de {df.shape[0]} originales)\")\n",
    "print(f\"Porcentaje del dataset original: {(region_los_rios.shape[0] / df.shape[0] * 100):.2f}%\")\n",
    "\n",
    "# Mostrar las primeras filas del dataset filtrado\n",
    "print(\"\\nPrimeras filas del dataset filtrado (Región de Los Ríos):\")\n",
    "display(region_los_rios.head())\n",
    "\n",
    "# Guardar en un nuevo archivo CSV\n",
    "region_los_rios.to_csv(OUTPUT_FILE, index=False, encoding='utf-8')\n",
    "print(f\"Archivo guardado exitosamente en: {OUTPUT_FILE}\")\n",
    "\n",
    "# Liberar memoria del dataset original\n",
    "del df"
   ]
  },
  {
   "cell_type": "code",
   "execution_count": 5,
   "id": "a02ac2e5",
   "metadata": {},
   "outputs": [
    {
     "name": "stdout",
     "output_type": "stream",
     "text": [
      "Regiones disponibles en el dataset:\n",
      "- RegiÃ³n AisÃ©n del Gral.Carlos IbÃ¡Ã±ez del Campo\n",
      "- RegiÃ³n Metropolitana de Santiago\n",
      "- RegiÃ³n de Antofagasta\n",
      "- RegiÃ³n de Arica y Parinacota\n",
      "- RegiÃ³n de Atacama\n",
      "- RegiÃ³n de Coquimbo\n",
      "- RegiÃ³n de La AraucanÃ­a\n",
      "- RegiÃ³n de Los Lagos\n",
      "- RegiÃ³n de Los RÃ­os\n",
      "- RegiÃ³n de Magallanes y de la AntÃ¡rtica Chilena\n",
      "- RegiÃ³n de TarapacÃ¡\n",
      "- RegiÃ³n de ValparaÃ­so\n",
      "- RegiÃ³n de Ãuble\n",
      "- RegiÃ³n del BiobÃ­o\n",
      "- RegiÃ³n del Libertador Gral. Bernardo OâHiggins\n",
      "- RegiÃ³n del Maule\n",
      "- Sin InformaciÃ³n\n",
      "\n",
      "Distribución por región:\n",
      "- RegiÃ³n Metropolitana de Santiago: 19581 registros (16.40%)\n",
      "- RegiÃ³n de ValparaÃ­so: 13763 registros (11.53%)\n",
      "- RegiÃ³n del Libertador Gral. Bernardo OâHiggins: 11634 registros (9.74%)\n",
      "- RegiÃ³n del BiobÃ­o: 11580 registros (9.70%)\n",
      "- RegiÃ³n de La AraucanÃ­a: 11173 registros (9.36%)\n",
      "- RegiÃ³n del Maule: 10533 registros (8.82%)\n",
      "- RegiÃ³n de Los Lagos: 10163 registros (8.51%)\n",
      "- RegiÃ³n de Ãuble: 6956 registros (5.83%)\n",
      "- RegiÃ³n de Coquimbo: 5165 registros (4.33%)\n",
      "- RegiÃ³n de Los RÃ­os: 4373 registros (3.66%)\n",
      "- RegiÃ³n de Atacama: 3190 registros (2.67%)\n",
      "- RegiÃ³n AisÃ©n del Gral.Carlos IbÃ¡Ã±ez del Campo: 2886 registros (2.42%)\n",
      "- RegiÃ³n de Antofagasta: 2847 registros (2.38%)\n",
      "- RegiÃ³n de Magallanes y de la AntÃ¡rtica Chilena: 2292 registros (1.92%)\n",
      "- RegiÃ³n de TarapacÃ¡: 1972 registros (1.65%)\n",
      "- RegiÃ³n de Arica y Parinacota: 962 registros (0.81%)\n",
      "- Sin InformaciÃ³n: 336 registros (0.28%)\n"
     ]
    }
   ],
   "source": [
    "# Necesitamos volver a cargar el dataset\n",
    "df = pd.read_csv(INPUT_FILE, encoding='latin1', low_memory=False)\n",
    "\n",
    "# Verificar las regiones disponibles (eliminando NaN)\n",
    "regiones = df[\"Region del domicilio o casa matriz\"].dropna().unique()\n",
    "print(\"Regiones disponibles en el dataset:\")\n",
    "for region in sorted(regiones):\n",
    "    print(f\"- {region}\")\n",
    "\n",
    "# Contar cuántos registros hay por región\n",
    "print(\"\\nDistribución por región:\")\n",
    "region_counts = df[\"Region del domicilio o casa matriz\"].value_counts(dropna=False)\n",
    "for region, count in region_counts.items():\n",
    "    if pd.isna(region):\n",
    "        print(f\"- NaN: {count} registros ({count/len(df)*100:.2f}%)\")\n",
    "    else:\n",
    "        print(f\"- {region}: {count} registros ({count/len(df)*100:.2f}%)\")"
   ]
  },
  {
   "cell_type": "code",
   "execution_count": 6,
   "id": "cb97e0d7",
   "metadata": {},
   "outputs": [
    {
     "name": "stdout",
     "output_type": "stream",
     "text": [
      "Coincidencias encontradas para 'Ríos':\n",
      "\n",
      "No se encontró ninguna referencia a la Región de Los Ríos\n"
     ]
    }
   ],
   "source": [
    "# Buscar cualquier referencia a \"Ríos\" o \"Los Rios\" en las regiones\n",
    "rios_matches = [region for region in regiones if 'rios' in region.lower() or 'ríos' in region.lower()]\n",
    "print(\"Coincidencias encontradas para 'Ríos':\")\n",
    "for match in rios_matches:\n",
    "    print(f\"- {match}\")\n",
    "\n",
    "# Si encontramos alguna coincidencia, vamos a usar la primera\n",
    "if rios_matches:\n",
    "    region_los_rios_name = rios_matches[0]\n",
    "    print(f\"\\nUsando '{region_los_rios_name}' como nombre de la Región de Los Ríos\")\n",
    "else:\n",
    "    print(\"\\nNo se encontró ninguna referencia a la Región de Los Ríos\")\n",
    "    region_los_rios_name = None"
   ]
  },
  {
   "cell_type": "code",
   "execution_count": 7,
   "id": "cd5800a3",
   "metadata": {},
   "outputs": [
    {
     "name": "stdout",
     "output_type": "stream",
     "text": [
      "Registros encontrados por comunas: 3286\n",
      "\n",
      "Desglose por comuna:\n",
      "- Valdivia: 389 registros\n",
      "  Regiones asociadas: RegiÃ³n de Los RÃ­os\n",
      "- Panguipulli: 380 registros\n",
      "  Regiones asociadas: RegiÃ³n de Los RÃ­os\n",
      "- Mariquina: 370 registros\n",
      "  Regiones asociadas: RegiÃ³n de Los RÃ­os\n",
      "- Lanco: 378 registros\n",
      "  Regiones asociadas: RegiÃ³n de Los RÃ­os\n",
      "- Paillaco: 374 registros\n",
      "  Regiones asociadas: RegiÃ³n de Los RÃ­os\n",
      "- Los Lagos: 363 registros\n",
      "  Regiones asociadas: RegiÃ³n de Los RÃ­os\n",
      "- Futrono: 373 registros\n",
      "  Regiones asociadas: RegiÃ³n de Los RÃ­os\n",
      "- Lago Ranco: 351 registros\n",
      "  Regiones asociadas: RegiÃ³n de Los RÃ­os\n",
      "- Corral: 308 registros\n",
      "  Regiones asociadas: RegiÃ³n de Los RÃ­os\n"
     ]
    }
   ],
   "source": [
    "# Comunas conocidas de la Región de Los Ríos\n",
    "comunas_los_rios = ['Valdivia', 'La Unión', 'Río Bueno', 'Panguipulli', 'Mariquina', 'Lanco',\n",
    "                   'Paillaco', 'Los Lagos', 'Futrono', 'Lago Ranco', 'Máfil', 'Corral']\n",
    "\n",
    "# Filtrar el dataset por estas comunas\n",
    "filtro_comunas = df['Comuna del domicilio o casa matriz'].isin(comunas_los_rios)\n",
    "df_los_rios = df[filtro_comunas]\n",
    "\n",
    "print(f\"Registros encontrados por comunas: {len(df_los_rios)}\")\n",
    "print(\"\\nDesglose por comuna:\")\n",
    "for comuna in comunas_los_rios:\n",
    "    count = len(df[df['Comuna del domicilio o casa matriz'] == comuna])\n",
    "    if count > 0:\n",
    "        print(f\"- {comuna}: {count} registros\")\n",
    "        \n",
    "        # Mostrar las regiones asociadas a esta comuna\n",
    "        regiones_comuna = df[df['Comuna del domicilio o casa matriz'] == comuna]['Region del domicilio o casa matriz'].unique()\n",
    "        print(f\"  Regiones asociadas: {', '.join(str(r) for r in regiones_comuna)}\")"
   ]
  },
  {
   "cell_type": "code",
   "execution_count": 8,
   "id": "4035c9c7",
   "metadata": {},
   "outputs": [
    {
     "name": "stdout",
     "output_type": "stream",
     "text": [
      "Registros filtrados: 4373 (de 119406 originales)\n",
      "Porcentaje del dataset original: 3.66%\n",
      "\n",
      "Primeras filas del dataset filtrado (Región de Los Ríos):\n"
     ]
    },
    {
     "data": {
      "text/html": [
       "<div>\n",
       "<style scoped>\n",
       "    .dataframe tbody tr th:only-of-type {\n",
       "        vertical-align: middle;\n",
       "    }\n",
       "\n",
       "    .dataframe tbody tr th {\n",
       "        vertical-align: top;\n",
       "    }\n",
       "\n",
       "    .dataframe thead th {\n",
       "        text-align: right;\n",
       "    }\n",
       "</style>\n",
       "<table border=\"1\" class=\"dataframe\">\n",
       "  <thead>\n",
       "    <tr style=\"text-align: right;\">\n",
       "      <th></th>\n",
       "      <th>AÃ±o Comercial</th>\n",
       "      <th>Comuna del domicilio o casa matriz</th>\n",
       "      <th>Provincia del domicilio o casa matriz</th>\n",
       "      <th>Region del domicilio o casa matriz</th>\n",
       "      <th>Rubro economico</th>\n",
       "      <th>NÃºmero de empresas</th>\n",
       "      <th>Ventas anuales en UF</th>\n",
       "      <th>NÃºmero de trabajadores dependientes informados</th>\n",
       "      <th>Renta neta informada en UF</th>\n",
       "      <th>Trabajadores ponderados por meses trabajados</th>\n",
       "      <th>NÃºmero de trabajadores dependientes de gÃ©nero femenino informados</th>\n",
       "      <th>Renta neta informada en UF, trabajadores de gÃ©nero femenino</th>\n",
       "      <th>Trabajadores de gÃ©nero femenino ponderados por meses trabajados</th>\n",
       "      <th>NÃºmero de trabajadores dependientes de gÃ©nero masculino informados</th>\n",
       "      <th>Renta neta informada en UF, trabajadores de gÃ©nero masculino</th>\n",
       "      <th>Trabajadores de gÃ©nero masculino ponderados por meses trabajados</th>\n",
       "      <th>NÃºmero de trabajadores a honorarios informados</th>\n",
       "      <th>Honorarios pagados informados en UF</th>\n",
       "      <th>Trabajadores a honorarios ponderados por meses trabajados</th>\n",
       "      <th>NÃºmero de trabajadores a honorarios de gÃ©nero femenino informados</th>\n",
       "      <th>Honorarios pagados informados a trabajadores de gÃ©nero femenino en UF</th>\n",
       "      <th>Trabajadores a honorarios de gÃ©nero femenino ponderados por meses trabajados</th>\n",
       "      <th>NÃºmero de trabajadores a honorarios de gÃ©nero masculino informados</th>\n",
       "      <th>Honorarios pagados informados a trabajadores de gÃ©nero masculino en UF</th>\n",
       "      <th>Trabajadores a honorarios de gÃ©nero masculino ponderados por meses trabajados</th>\n",
       "    </tr>\n",
       "  </thead>\n",
       "  <tbody>\n",
       "    <tr>\n",
       "      <th>7</th>\n",
       "      <td>2005</td>\n",
       "      <td>Lanco</td>\n",
       "      <td>Valdivia</td>\n",
       "      <td>RegiÃ³n de Los RÃ­os</td>\n",
       "      <td>P - EnseÃ±anza</td>\n",
       "      <td>2</td>\n",
       "      <td>*</td>\n",
       "      <td>19</td>\n",
       "      <td>*</td>\n",
       "      <td>15.083</td>\n",
       "      <td>13</td>\n",
       "      <td>*</td>\n",
       "      <td>10.167</td>\n",
       "      <td>6</td>\n",
       "      <td>*</td>\n",
       "      <td>4.917</td>\n",
       "      <td>1</td>\n",
       "      <td>*</td>\n",
       "      <td>0.0</td>\n",
       "      <td>1</td>\n",
       "      <td>*</td>\n",
       "      <td>0.0</td>\n",
       "      <td>0</td>\n",
       "      <td>*</td>\n",
       "      <td>0.0</td>\n",
       "    </tr>\n",
       "    <tr>\n",
       "      <th>30</th>\n",
       "      <td>2005</td>\n",
       "      <td>Lago Ranco</td>\n",
       "      <td>Ranco</td>\n",
       "      <td>RegiÃ³n de Los RÃ­os</td>\n",
       "      <td>L - Actividades inmobiliarias</td>\n",
       "      <td>1</td>\n",
       "      <td>*</td>\n",
       "      <td>0</td>\n",
       "      <td>*</td>\n",
       "      <td>0.000</td>\n",
       "      <td>0</td>\n",
       "      <td>*</td>\n",
       "      <td>0.000</td>\n",
       "      <td>0</td>\n",
       "      <td>*</td>\n",
       "      <td>0.000</td>\n",
       "      <td>0</td>\n",
       "      <td>*</td>\n",
       "      <td>0.0</td>\n",
       "      <td>0</td>\n",
       "      <td>*</td>\n",
       "      <td>0.0</td>\n",
       "      <td>0</td>\n",
       "      <td>*</td>\n",
       "      <td>0.0</td>\n",
       "    </tr>\n",
       "    <tr>\n",
       "      <th>32</th>\n",
       "      <td>2005</td>\n",
       "      <td>MÃ¡fil</td>\n",
       "      <td>Valdivia</td>\n",
       "      <td>RegiÃ³n de Los RÃ­os</td>\n",
       "      <td>Sin informaciÃ³n</td>\n",
       "      <td>2</td>\n",
       "      <td>*</td>\n",
       "      <td>0</td>\n",
       "      <td>*</td>\n",
       "      <td>0.000</td>\n",
       "      <td>0</td>\n",
       "      <td>*</td>\n",
       "      <td>0.000</td>\n",
       "      <td>0</td>\n",
       "      <td>*</td>\n",
       "      <td>0.000</td>\n",
       "      <td>0</td>\n",
       "      <td>*</td>\n",
       "      <td>0.0</td>\n",
       "      <td>0</td>\n",
       "      <td>*</td>\n",
       "      <td>0.0</td>\n",
       "      <td>0</td>\n",
       "      <td>*</td>\n",
       "      <td>0.0</td>\n",
       "    </tr>\n",
       "    <tr>\n",
       "      <th>33</th>\n",
       "      <td>2005</td>\n",
       "      <td>Futrono</td>\n",
       "      <td>Ranco</td>\n",
       "      <td>RegiÃ³n de Los RÃ­os</td>\n",
       "      <td>I - Actividades de alojamiento y de servicio d...</td>\n",
       "      <td>28</td>\n",
       "      <td>25312.21</td>\n",
       "      <td>45</td>\n",
       "      <td>1693.188</td>\n",
       "      <td>22.000</td>\n",
       "      <td>27</td>\n",
       "      <td>976.605</td>\n",
       "      <td>12.583</td>\n",
       "      <td>18</td>\n",
       "      <td>716.583</td>\n",
       "      <td>9.417</td>\n",
       "      <td>27</td>\n",
       "      <td>675.139</td>\n",
       "      <td>0.0</td>\n",
       "      <td>10</td>\n",
       "      <td>124.941</td>\n",
       "      <td>0.0</td>\n",
       "      <td>17</td>\n",
       "      <td>550.198</td>\n",
       "      <td>0.0</td>\n",
       "    </tr>\n",
       "    <tr>\n",
       "      <th>93</th>\n",
       "      <td>2005</td>\n",
       "      <td>Corral</td>\n",
       "      <td>Valdivia</td>\n",
       "      <td>RegiÃ³n de Los RÃ­os</td>\n",
       "      <td>H - Transporte y almacenamiento</td>\n",
       "      <td>12</td>\n",
       "      <td>60986.22</td>\n",
       "      <td>22</td>\n",
       "      <td>2834.417</td>\n",
       "      <td>19.750</td>\n",
       "      <td>4</td>\n",
       "      <td>336.13</td>\n",
       "      <td>2.750</td>\n",
       "      <td>18</td>\n",
       "      <td>2498.288</td>\n",
       "      <td>17.000</td>\n",
       "      <td>22</td>\n",
       "      <td>578.851</td>\n",
       "      <td>0.0</td>\n",
       "      <td>3</td>\n",
       "      <td>75.533</td>\n",
       "      <td>0.0</td>\n",
       "      <td>19</td>\n",
       "      <td>503.318</td>\n",
       "      <td>0.0</td>\n",
       "    </tr>\n",
       "  </tbody>\n",
       "</table>\n",
       "</div>"
      ],
      "text/plain": [
       "    AÃ±o Comercial Comuna del domicilio o casa matriz  \\\n",
       "7             2005                              Lanco   \n",
       "30            2005                         Lago Ranco   \n",
       "32            2005                             MÃ¡fil   \n",
       "33            2005                            Futrono   \n",
       "93            2005                             Corral   \n",
       "\n",
       "   Provincia del domicilio o casa matriz Region del domicilio o casa matriz  \\\n",
       "7                               Valdivia               RegiÃ³n de Los RÃ­os   \n",
       "30                                 Ranco               RegiÃ³n de Los RÃ­os   \n",
       "32                              Valdivia               RegiÃ³n de Los RÃ­os   \n",
       "33                                 Ranco               RegiÃ³n de Los RÃ­os   \n",
       "93                              Valdivia               RegiÃ³n de Los RÃ­os   \n",
       "\n",
       "                                      Rubro economico  NÃºmero de empresas  \\\n",
       "7                                      P - EnseÃ±anza                    2   \n",
       "30                      L - Actividades inmobiliarias                    1   \n",
       "32                                   Sin informaciÃ³n                    2   \n",
       "33  I - Actividades de alojamiento y de servicio d...                   28   \n",
       "93                    H - Transporte y almacenamiento                   12   \n",
       "\n",
       "   Ventas anuales en UF  NÃºmero de trabajadores dependientes informados  \\\n",
       "7                     *                                               19   \n",
       "30                    *                                                0   \n",
       "32                    *                                                0   \n",
       "33             25312.21                                               45   \n",
       "93             60986.22                                               22   \n",
       "\n",
       "   Renta neta informada en UF  Trabajadores ponderados por meses trabajados  \\\n",
       "7                           *                                        15.083   \n",
       "30                          *                                         0.000   \n",
       "32                          *                                         0.000   \n",
       "33                   1693.188                                        22.000   \n",
       "93                   2834.417                                        19.750   \n",
       "\n",
       "    NÃºmero de trabajadores dependientes de gÃ©nero femenino informados  \\\n",
       "7                                                  13                     \n",
       "30                                                  0                     \n",
       "32                                                  0                     \n",
       "33                                                 27                     \n",
       "93                                                  4                     \n",
       "\n",
       "   Renta neta informada en UF, trabajadores de gÃ©nero femenino  \\\n",
       "7                                                   *             \n",
       "30                                                  *             \n",
       "32                                                  *             \n",
       "33                                            976.605             \n",
       "93                                             336.13             \n",
       "\n",
       "    Trabajadores de gÃ©nero femenino ponderados por meses trabajados  \\\n",
       "7                                              10.167                  \n",
       "30                                              0.000                  \n",
       "32                                              0.000                  \n",
       "33                                             12.583                  \n",
       "93                                              2.750                  \n",
       "\n",
       "    NÃºmero de trabajadores dependientes de gÃ©nero masculino informados  \\\n",
       "7                                                   6                      \n",
       "30                                                  0                      \n",
       "32                                                  0                      \n",
       "33                                                 18                      \n",
       "93                                                 18                      \n",
       "\n",
       "   Renta neta informada en UF, trabajadores de gÃ©nero masculino  \\\n",
       "7                                                   *              \n",
       "30                                                  *              \n",
       "32                                                  *              \n",
       "33                                            716.583              \n",
       "93                                           2498.288              \n",
       "\n",
       "    Trabajadores de gÃ©nero masculino ponderados por meses trabajados  \\\n",
       "7                                               4.917                   \n",
       "30                                              0.000                   \n",
       "32                                              0.000                   \n",
       "33                                              9.417                   \n",
       "93                                             17.000                   \n",
       "\n",
       "    NÃºmero de trabajadores a honorarios informados  \\\n",
       "7                                                 1   \n",
       "30                                                0   \n",
       "32                                                0   \n",
       "33                                               27   \n",
       "93                                               22   \n",
       "\n",
       "   Honorarios pagados informados en UF  \\\n",
       "7                                    *   \n",
       "30                                   *   \n",
       "32                                   *   \n",
       "33                             675.139   \n",
       "93                             578.851   \n",
       "\n",
       "    Trabajadores a honorarios ponderados por meses trabajados  \\\n",
       "7                                                 0.0           \n",
       "30                                                0.0           \n",
       "32                                                0.0           \n",
       "33                                                0.0           \n",
       "93                                                0.0           \n",
       "\n",
       "    NÃºmero de trabajadores a honorarios de gÃ©nero femenino informados  \\\n",
       "7                                                   1                     \n",
       "30                                                  0                     \n",
       "32                                                  0                     \n",
       "33                                                 10                     \n",
       "93                                                  3                     \n",
       "\n",
       "   Honorarios pagados informados a trabajadores de gÃ©nero femenino en UF  \\\n",
       "7                                                   *                       \n",
       "30                                                  *                       \n",
       "32                                                  *                       \n",
       "33                                            124.941                       \n",
       "93                                             75.533                       \n",
       "\n",
       "    Trabajadores a honorarios de gÃ©nero femenino ponderados por meses trabajados  \\\n",
       "7                                                 0.0                               \n",
       "30                                                0.0                               \n",
       "32                                                0.0                               \n",
       "33                                                0.0                               \n",
       "93                                                0.0                               \n",
       "\n",
       "    NÃºmero de trabajadores a honorarios de gÃ©nero masculino informados  \\\n",
       "7                                                   0                      \n",
       "30                                                  0                      \n",
       "32                                                  0                      \n",
       "33                                                 17                      \n",
       "93                                                 19                      \n",
       "\n",
       "   Honorarios pagados informados a trabajadores de gÃ©nero masculino en UF  \\\n",
       "7                                                   *                        \n",
       "30                                                  *                        \n",
       "32                                                  *                        \n",
       "33                                            550.198                        \n",
       "93                                            503.318                        \n",
       "\n",
       "    Trabajadores a honorarios de gÃ©nero masculino ponderados por meses trabajados  \n",
       "7                                                 0.0                               \n",
       "30                                                0.0                               \n",
       "32                                                0.0                               \n",
       "33                                                0.0                               \n",
       "93                                                0.0                               "
      ]
     },
     "metadata": {},
     "output_type": "display_data"
    },
    {
     "name": "stdout",
     "output_type": "stream",
     "text": [
      "Archivo guardado exitosamente en: /Users/brunosanmartin/Documents/Uach/sii-empresas-data-analysis/data/processed/region_los_rios.csv\n",
      "\n",
      "Comunas presentes en la Región de Los Ríos:\n",
      "- Corral: 308 registros\n",
      "- Futrono: 373 registros\n",
      "- La UniÃ³n: 376 registros\n",
      "- Lago Ranco: 351 registros\n",
      "- Lanco: 378 registros\n",
      "- Los Lagos: 363 registros\n",
      "- Mariquina: 370 registros\n",
      "- MÃ¡fil: 333 registros\n",
      "- Paillaco: 374 registros\n",
      "- Panguipulli: 380 registros\n",
      "- RÃ­o Bueno: 378 registros\n",
      "- Valdivia: 389 registros\n"
     ]
    }
   ],
   "source": [
    "# Ahora que sabemos el nombre correcto, filtramos\n",
    "region_name = \"RegiÃ³n de Los RÃ­os\"  # Nombre con encoding correcto\n",
    "region_los_rios = df[df[\"Region del domicilio o casa matriz\"] == region_name]\n",
    "\n",
    "# Verificar cuántos registros se obtuvieron\n",
    "print(f\"Registros filtrados: {region_los_rios.shape[0]} (de {df.shape[0]} originales)\")\n",
    "print(f\"Porcentaje del dataset original: {(region_los_rios.shape[0] / df.shape[0] * 100):.2f}%\")\n",
    "\n",
    "# Mostrar las primeras filas del dataset filtrado\n",
    "print(\"\\nPrimeras filas del dataset filtrado (Región de Los Ríos):\")\n",
    "display(region_los_rios.head())\n",
    "\n",
    "# Guardar en un nuevo archivo CSV\n",
    "region_los_rios.to_csv(OUTPUT_FILE, index=False, encoding='utf-8')\n",
    "print(f\"Archivo guardado exitosamente en: {OUTPUT_FILE}\")\n",
    "\n",
    "# Verificar las comunas presentes\n",
    "print(\"\\nComunas presentes en la Región de Los Ríos:\")\n",
    "comunas_presentes = sorted(region_los_rios['Comuna del domicilio o casa matriz'].unique())\n",
    "for comuna in comunas_presentes:\n",
    "    count = len(region_los_rios[region_los_rios['Comuna del domicilio o casa matriz'] == comuna])\n",
    "    print(f\"- {comuna}: {count} registros\")"
   ]
  },
  {
   "cell_type": "markdown",
   "id": "bab18473",
   "metadata": {},
   "source": [
    "## 3. Análisis por Comuna\n",
    "\n",
    "Ahora que tenemos los datos filtrados para la Región de Los Ríos, vamos a analizar la distribución de empresas por comuna."
   ]
  },
  {
   "cell_type": "code",
   "execution_count": 13,
   "id": "b4a2fd67",
   "metadata": {},
   "outputs": [
    {
     "name": "stdout",
     "output_type": "stream",
     "text": [
      "Columnas disponibles en el dataset:\n",
      "- AÃ±o Comercial\n",
      "- Comuna del domicilio o casa matriz\n",
      "- Provincia del domicilio o casa matriz\n",
      "- Region del domicilio o casa matriz\n",
      "- Rubro economico\n",
      "- NÃºmero de empresas\n",
      "- Ventas anuales en UF\n",
      "- NÃºmero de trabajadores dependientes informados\n",
      "- Renta neta informada en UF\n",
      "- Trabajadores ponderados por meses trabajados\n",
      "- NÃºmero de trabajadores dependientes de gÃ©nero femenino informados\n",
      "- Renta neta informada en UF, trabajadores de gÃ©nero femenino\n",
      "- Trabajadores de gÃ©nero femenino ponderados por meses trabajados\n",
      "- NÃºmero de trabajadores dependientes de gÃ©nero masculino informados\n",
      "- Renta neta informada en UF, trabajadores de gÃ©nero masculino\n",
      "- Trabajadores de gÃ©nero masculino ponderados por meses trabajados\n",
      "- NÃºmero de trabajadores a honorarios informados\n",
      "- Honorarios pagados informados en UF\n",
      "- Trabajadores a honorarios ponderados por meses trabajados\n",
      "- NÃºmero de trabajadores a honorarios de gÃ©nero femenino informados\n",
      "- Honorarios pagados informados a trabajadores de gÃ©nero femenino en UF\n",
      "- Trabajadores a honorarios de gÃ©nero femenino ponderados por meses trabajados\n",
      "- NÃºmero de trabajadores a honorarios de gÃ©nero masculino informados\n",
      "- Honorarios pagados informados a trabajadores de gÃ©nero masculino en UF\n",
      "- Trabajadores a honorarios de gÃ©nero masculino ponderados por meses trabajados\n",
      "- comuna_clean\n",
      "\n",
      "Primeras filas del dataset:\n"
     ]
    },
    {
     "data": {
      "text/html": [
       "<div>\n",
       "<style scoped>\n",
       "    .dataframe tbody tr th:only-of-type {\n",
       "        vertical-align: middle;\n",
       "    }\n",
       "\n",
       "    .dataframe tbody tr th {\n",
       "        vertical-align: top;\n",
       "    }\n",
       "\n",
       "    .dataframe thead th {\n",
       "        text-align: right;\n",
       "    }\n",
       "</style>\n",
       "<table border=\"1\" class=\"dataframe\">\n",
       "  <thead>\n",
       "    <tr style=\"text-align: right;\">\n",
       "      <th></th>\n",
       "      <th>AÃ±o Comercial</th>\n",
       "      <th>Comuna del domicilio o casa matriz</th>\n",
       "      <th>Provincia del domicilio o casa matriz</th>\n",
       "      <th>Region del domicilio o casa matriz</th>\n",
       "      <th>Rubro economico</th>\n",
       "      <th>NÃºmero de empresas</th>\n",
       "      <th>Ventas anuales en UF</th>\n",
       "      <th>NÃºmero de trabajadores dependientes informados</th>\n",
       "      <th>Renta neta informada en UF</th>\n",
       "      <th>Trabajadores ponderados por meses trabajados</th>\n",
       "      <th>NÃºmero de trabajadores dependientes de gÃ©nero femenino informados</th>\n",
       "      <th>Renta neta informada en UF, trabajadores de gÃ©nero femenino</th>\n",
       "      <th>Trabajadores de gÃ©nero femenino ponderados por meses trabajados</th>\n",
       "      <th>NÃºmero de trabajadores dependientes de gÃ©nero masculino informados</th>\n",
       "      <th>Renta neta informada en UF, trabajadores de gÃ©nero masculino</th>\n",
       "      <th>Trabajadores de gÃ©nero masculino ponderados por meses trabajados</th>\n",
       "      <th>NÃºmero de trabajadores a honorarios informados</th>\n",
       "      <th>Honorarios pagados informados en UF</th>\n",
       "      <th>Trabajadores a honorarios ponderados por meses trabajados</th>\n",
       "      <th>NÃºmero de trabajadores a honorarios de gÃ©nero femenino informados</th>\n",
       "      <th>Honorarios pagados informados a trabajadores de gÃ©nero femenino en UF</th>\n",
       "      <th>Trabajadores a honorarios de gÃ©nero femenino ponderados por meses trabajados</th>\n",
       "      <th>NÃºmero de trabajadores a honorarios de gÃ©nero masculino informados</th>\n",
       "      <th>Honorarios pagados informados a trabajadores de gÃ©nero masculino en UF</th>\n",
       "      <th>Trabajadores a honorarios de gÃ©nero masculino ponderados por meses trabajados</th>\n",
       "      <th>comuna_clean</th>\n",
       "    </tr>\n",
       "  </thead>\n",
       "  <tbody>\n",
       "    <tr>\n",
       "      <th>0</th>\n",
       "      <td>2005</td>\n",
       "      <td>Lanco</td>\n",
       "      <td>Valdivia</td>\n",
       "      <td>RegiÃ³n de Los RÃ­os</td>\n",
       "      <td>P - EnseÃ±anza</td>\n",
       "      <td>2</td>\n",
       "      <td>*</td>\n",
       "      <td>19</td>\n",
       "      <td>*</td>\n",
       "      <td>15.083</td>\n",
       "      <td>13</td>\n",
       "      <td>*</td>\n",
       "      <td>10.167</td>\n",
       "      <td>6</td>\n",
       "      <td>*</td>\n",
       "      <td>4.917</td>\n",
       "      <td>1</td>\n",
       "      <td>*</td>\n",
       "      <td>0.0</td>\n",
       "      <td>1</td>\n",
       "      <td>*</td>\n",
       "      <td>0.0</td>\n",
       "      <td>0</td>\n",
       "      <td>*</td>\n",
       "      <td>0.0</td>\n",
       "      <td>Lanco</td>\n",
       "    </tr>\n",
       "    <tr>\n",
       "      <th>1</th>\n",
       "      <td>2005</td>\n",
       "      <td>Lago Ranco</td>\n",
       "      <td>Ranco</td>\n",
       "      <td>RegiÃ³n de Los RÃ­os</td>\n",
       "      <td>L - Actividades inmobiliarias</td>\n",
       "      <td>1</td>\n",
       "      <td>*</td>\n",
       "      <td>0</td>\n",
       "      <td>*</td>\n",
       "      <td>0.000</td>\n",
       "      <td>0</td>\n",
       "      <td>*</td>\n",
       "      <td>0.000</td>\n",
       "      <td>0</td>\n",
       "      <td>*</td>\n",
       "      <td>0.000</td>\n",
       "      <td>0</td>\n",
       "      <td>*</td>\n",
       "      <td>0.0</td>\n",
       "      <td>0</td>\n",
       "      <td>*</td>\n",
       "      <td>0.0</td>\n",
       "      <td>0</td>\n",
       "      <td>*</td>\n",
       "      <td>0.0</td>\n",
       "      <td>Lago Ranco</td>\n",
       "    </tr>\n",
       "    <tr>\n",
       "      <th>2</th>\n",
       "      <td>2005</td>\n",
       "      <td>MÃ¡fil</td>\n",
       "      <td>Valdivia</td>\n",
       "      <td>RegiÃ³n de Los RÃ­os</td>\n",
       "      <td>Sin informaciÃ³n</td>\n",
       "      <td>2</td>\n",
       "      <td>*</td>\n",
       "      <td>0</td>\n",
       "      <td>*</td>\n",
       "      <td>0.000</td>\n",
       "      <td>0</td>\n",
       "      <td>*</td>\n",
       "      <td>0.000</td>\n",
       "      <td>0</td>\n",
       "      <td>*</td>\n",
       "      <td>0.000</td>\n",
       "      <td>0</td>\n",
       "      <td>*</td>\n",
       "      <td>0.0</td>\n",
       "      <td>0</td>\n",
       "      <td>*</td>\n",
       "      <td>0.0</td>\n",
       "      <td>0</td>\n",
       "      <td>*</td>\n",
       "      <td>0.0</td>\n",
       "      <td>Máfil</td>\n",
       "    </tr>\n",
       "  </tbody>\n",
       "</table>\n",
       "</div>"
      ],
      "text/plain": [
       "   AÃ±o Comercial Comuna del domicilio o casa matriz  \\\n",
       "0            2005                              Lanco   \n",
       "1            2005                         Lago Ranco   \n",
       "2            2005                             MÃ¡fil   \n",
       "\n",
       "  Provincia del domicilio o casa matriz Region del domicilio o casa matriz  \\\n",
       "0                              Valdivia               RegiÃ³n de Los RÃ­os   \n",
       "1                                 Ranco               RegiÃ³n de Los RÃ­os   \n",
       "2                              Valdivia               RegiÃ³n de Los RÃ­os   \n",
       "\n",
       "                 Rubro economico  NÃºmero de empresas Ventas anuales en UF  \\\n",
       "0                 P - EnseÃ±anza                    2                    *   \n",
       "1  L - Actividades inmobiliarias                    1                    *   \n",
       "2               Sin informaciÃ³n                    2                    *   \n",
       "\n",
       "   NÃºmero de trabajadores dependientes informados Renta neta informada en UF  \\\n",
       "0                                               19                          *   \n",
       "1                                                0                          *   \n",
       "2                                                0                          *   \n",
       "\n",
       "   Trabajadores ponderados por meses trabajados  \\\n",
       "0                                        15.083   \n",
       "1                                         0.000   \n",
       "2                                         0.000   \n",
       "\n",
       "   NÃºmero de trabajadores dependientes de gÃ©nero femenino informados  \\\n",
       "0                                                 13                     \n",
       "1                                                  0                     \n",
       "2                                                  0                     \n",
       "\n",
       "  Renta neta informada en UF, trabajadores de gÃ©nero femenino  \\\n",
       "0                                                  *             \n",
       "1                                                  *             \n",
       "2                                                  *             \n",
       "\n",
       "   Trabajadores de gÃ©nero femenino ponderados por meses trabajados  \\\n",
       "0                                             10.167                  \n",
       "1                                              0.000                  \n",
       "2                                              0.000                  \n",
       "\n",
       "   NÃºmero de trabajadores dependientes de gÃ©nero masculino informados  \\\n",
       "0                                                  6                      \n",
       "1                                                  0                      \n",
       "2                                                  0                      \n",
       "\n",
       "  Renta neta informada en UF, trabajadores de gÃ©nero masculino  \\\n",
       "0                                                  *              \n",
       "1                                                  *              \n",
       "2                                                  *              \n",
       "\n",
       "   Trabajadores de gÃ©nero masculino ponderados por meses trabajados  \\\n",
       "0                                              4.917                   \n",
       "1                                              0.000                   \n",
       "2                                              0.000                   \n",
       "\n",
       "   NÃºmero de trabajadores a honorarios informados  \\\n",
       "0                                                1   \n",
       "1                                                0   \n",
       "2                                                0   \n",
       "\n",
       "  Honorarios pagados informados en UF  \\\n",
       "0                                   *   \n",
       "1                                   *   \n",
       "2                                   *   \n",
       "\n",
       "   Trabajadores a honorarios ponderados por meses trabajados  \\\n",
       "0                                                0.0           \n",
       "1                                                0.0           \n",
       "2                                                0.0           \n",
       "\n",
       "   NÃºmero de trabajadores a honorarios de gÃ©nero femenino informados  \\\n",
       "0                                                  1                     \n",
       "1                                                  0                     \n",
       "2                                                  0                     \n",
       "\n",
       "  Honorarios pagados informados a trabajadores de gÃ©nero femenino en UF  \\\n",
       "0                                                  *                       \n",
       "1                                                  *                       \n",
       "2                                                  *                       \n",
       "\n",
       "   Trabajadores a honorarios de gÃ©nero femenino ponderados por meses trabajados  \\\n",
       "0                                                0.0                               \n",
       "1                                                0.0                               \n",
       "2                                                0.0                               \n",
       "\n",
       "   NÃºmero de trabajadores a honorarios de gÃ©nero masculino informados  \\\n",
       "0                                                  0                      \n",
       "1                                                  0                      \n",
       "2                                                  0                      \n",
       "\n",
       "  Honorarios pagados informados a trabajadores de gÃ©nero masculino en UF  \\\n",
       "0                                                  *                        \n",
       "1                                                  *                        \n",
       "2                                                  *                        \n",
       "\n",
       "   Trabajadores a honorarios de gÃ©nero masculino ponderados por meses trabajados  \\\n",
       "0                                                0.0                                \n",
       "1                                                0.0                                \n",
       "2                                                0.0                                \n",
       "\n",
       "  comuna_clean  \n",
       "0        Lanco  \n",
       "1   Lago Ranco  \n",
       "2        Máfil  "
      ]
     },
     "metadata": {},
     "output_type": "display_data"
    }
   ],
   "source": [
    "# Mostrar las columnas del dataset limpio\n",
    "print(\"Columnas disponibles en el dataset:\")\n",
    "for col in df_los_rios.columns:\n",
    "    print(f\"- {col}\")\n",
    "\n",
    "print(\"\\nPrimeras filas del dataset:\")\n",
    "display(df_los_rios.head(3))\n",
    "\n",
    "# Definir paletas de colores para daltonismo - compatibles con The Economist\n",
    "colors_daltonismo_elegante = [\n",
    "    '#1B4A6B',  # Azul marino elegante\n",
    "    '#2E7AA1',  # Azul medio\n",
    "    '#85C1E0',  # Azul claro\n",
    "    '#F4B942',  # Amarillo dorado\n",
    "    '#D2691E',  # Naranja elegante\n",
    "    '#8B4513',  # Marrón sofisticado\n",
    "    '#2F4F2F',  # Verde oscuro\n",
    "    '#696969',  # Gris elegante\n",
    "    '#DC143C',  # Rojo característico de The Economist\n",
    "    '#4682B4'   # Azul acero\n",
    "]\n",
    "\n",
    "# Paleta científica para daltonismo - perfecta para gráficos de líneas y análisis temporal\n",
    "colors_daltonismo_cientifica = [\n",
    "    '#2E5984',  # Azul científico oscuro\n",
    "    '#8B9DC3',  # Azul científico medio\n",
    "    '#DFB067'   # Dorado científico (complementario perfecto)\n",
    "]"
   ]
  },
  {
   "cell_type": "code",
   "execution_count": 67,
   "id": "25d0915b",
   "metadata": {},
   "outputs": [
    {
     "name": "stdout",
     "output_type": "stream",
     "text": [
      "Tipo de datos de 'Número de empresas': int64\n",
      "Primeros valores: 0     2\n",
      "1     1\n",
      "2     2\n",
      "3    28\n",
      "4    12\n",
      "Name: Número de empresas, dtype: int64\n",
      "Total de empresas: 441532\n",
      "\n",
      "Distribución de empresas por comuna en la Región de Los Ríos:\n",
      "Total de empresas en la región: 441,532\n",
      "\n"
     ]
    },
    {
     "data": {
      "text/html": [
       "<div>\n",
       "<style scoped>\n",
       "    .dataframe tbody tr th:only-of-type {\n",
       "        vertical-align: middle;\n",
       "    }\n",
       "\n",
       "    .dataframe tbody tr th {\n",
       "        vertical-align: top;\n",
       "    }\n",
       "\n",
       "    .dataframe thead th {\n",
       "        text-align: right;\n",
       "    }\n",
       "</style>\n",
       "<table border=\"1\" class=\"dataframe\">\n",
       "  <thead>\n",
       "    <tr style=\"text-align: right;\">\n",
       "      <th></th>\n",
       "      <th>comuna</th>\n",
       "      <th>empresas</th>\n",
       "      <th>porcentaje</th>\n",
       "    </tr>\n",
       "  </thead>\n",
       "  <tbody>\n",
       "    <tr>\n",
       "      <th>0</th>\n",
       "      <td>Valdivia</td>\n",
       "      <td>191845</td>\n",
       "      <td>43.449852</td>\n",
       "    </tr>\n",
       "    <tr>\n",
       "      <th>1</th>\n",
       "      <td>La Unión</td>\n",
       "      <td>48465</td>\n",
       "      <td>10.976554</td>\n",
       "    </tr>\n",
       "    <tr>\n",
       "      <th>2</th>\n",
       "      <td>Río Bueno</td>\n",
       "      <td>40709</td>\n",
       "      <td>9.219943</td>\n",
       "    </tr>\n",
       "    <tr>\n",
       "      <th>3</th>\n",
       "      <td>Panguipulli</td>\n",
       "      <td>38970</td>\n",
       "      <td>8.826087</td>\n",
       "    </tr>\n",
       "    <tr>\n",
       "      <th>4</th>\n",
       "      <td>Paillaco</td>\n",
       "      <td>24089</td>\n",
       "      <td>5.455777</td>\n",
       "    </tr>\n",
       "    <tr>\n",
       "      <th>5</th>\n",
       "      <td>Mariquina</td>\n",
       "      <td>20918</td>\n",
       "      <td>4.737595</td>\n",
       "    </tr>\n",
       "    <tr>\n",
       "      <th>6</th>\n",
       "      <td>Lanco</td>\n",
       "      <td>19538</td>\n",
       "      <td>4.425047</td>\n",
       "    </tr>\n",
       "    <tr>\n",
       "      <th>7</th>\n",
       "      <td>Los Lagos</td>\n",
       "      <td>19034</td>\n",
       "      <td>4.310899</td>\n",
       "    </tr>\n",
       "    <tr>\n",
       "      <th>8</th>\n",
       "      <td>Futrono</td>\n",
       "      <td>15996</td>\n",
       "      <td>3.622840</td>\n",
       "    </tr>\n",
       "    <tr>\n",
       "      <th>9</th>\n",
       "      <td>Lago Ranco</td>\n",
       "      <td>9436</td>\n",
       "      <td>2.137104</td>\n",
       "    </tr>\n",
       "    <tr>\n",
       "      <th>10</th>\n",
       "      <td>Máfil</td>\n",
       "      <td>7898</td>\n",
       "      <td>1.788772</td>\n",
       "    </tr>\n",
       "    <tr>\n",
       "      <th>11</th>\n",
       "      <td>Corral</td>\n",
       "      <td>4634</td>\n",
       "      <td>1.049528</td>\n",
       "    </tr>\n",
       "  </tbody>\n",
       "</table>\n",
       "</div>"
      ],
      "text/plain": [
       "         comuna  empresas  porcentaje\n",
       "0      Valdivia    191845   43.449852\n",
       "1      La Unión     48465   10.976554\n",
       "2     Río Bueno     40709    9.219943\n",
       "3   Panguipulli     38970    8.826087\n",
       "4      Paillaco     24089    5.455777\n",
       "5     Mariquina     20918    4.737595\n",
       "6         Lanco     19538    4.425047\n",
       "7     Los Lagos     19034    4.310899\n",
       "8       Futrono     15996    3.622840\n",
       "9    Lago Ranco      9436    2.137104\n",
       "10        Máfil      7898    1.788772\n",
       "11       Corral      4634    1.049528"
      ]
     },
     "metadata": {},
     "output_type": "display_data"
    },
    {
     "data": {
      "application/vnd.plotly.v1+json": {
       "config": {
        "plotlyServerURL": "https://plot.ly"
       },
       "data": [
        {
         "customdata": {
          "bdata": "nvUSv5S5RUDVKuTu/vMlQE8JHWiccCJAz0bT6/SmIUCDp+Qgt9IVQO4+njlM8xJAXYfPmz+zEUDOF2dkXD4RQMO1RsmT+wxAhBgqN8oYAUA8nqYzz578P3kjj2fdyvA/",
          "dtype": "f8"
         },
         "hovertemplate": "<b>%{y}</b><br>Empresas: %{x:,.0f}<br>Porcentaje: %{customdata:.1f}%<extra></extra>",
         "legendgroup": "Valdivia",
         "marker": {
          "color": "#1B4F72",
          "line": {
           "color": "white",
           "width": 0.5
          },
          "pattern": {
           "shape": ""
          }
         },
         "name": "Valdivia",
         "orientation": "h",
         "showlegend": false,
         "text": [
          "191,845 (43.4%)"
         ],
         "textfont": {
          "color": "#1e293b",
          "family": "Georgia, serif",
          "size": 11
         },
         "textposition": "outside",
         "type": "bar",
         "x": {
          "bdata": "Ze0CAA==",
          "dtype": "i4"
         },
         "xaxis": "x",
         "y": [
          "Valdivia"
         ],
         "yaxis": "y"
        },
        {
         "customdata": {
          "bdata": "nvUSv5S5RUDVKuTu/vMlQE8JHWiccCJAz0bT6/SmIUCDp+Qgt9IVQO4+njlM8xJAXYfPmz+zEUDOF2dkXD4RQMO1RsmT+wxAhBgqN8oYAUA8nqYzz578P3kjj2fdyvA/",
          "dtype": "f8"
         },
         "hovertemplate": "<b>%{y}</b><br>Empresas: %{x:,.0f}<br>Porcentaje: %{customdata:.1f}%<extra></extra>",
         "legendgroup": "La Unión",
         "marker": {
          "color": "#2E8B57",
          "line": {
           "color": "white",
           "width": 0.5
          },
          "pattern": {
           "shape": ""
          }
         },
         "name": "La Unión",
         "orientation": "h",
         "showlegend": false,
         "text": [
          "48,465 (11.0%)"
         ],
         "textfont": {
          "color": "#1e293b",
          "family": "Georgia, serif",
          "size": 11
         },
         "textposition": "outside",
         "type": "bar",
         "x": {
          "bdata": "Ub0AAA==",
          "dtype": "i4"
         },
         "xaxis": "x",
         "y": [
          "La Unión"
         ],
         "yaxis": "y"
        },
        {
         "customdata": {
          "bdata": "nvUSv5S5RUDVKuTu/vMlQE8JHWiccCJAz0bT6/SmIUCDp+Qgt9IVQO4+njlM8xJAXYfPmz+zEUDOF2dkXD4RQMO1RsmT+wxAhBgqN8oYAUA8nqYzz578P3kjj2fdyvA/",
          "dtype": "f8"
         },
         "hovertemplate": "<b>%{y}</b><br>Empresas: %{x:,.0f}<br>Porcentaje: %{customdata:.1f}%<extra></extra>",
         "legendgroup": "Río Bueno",
         "marker": {
          "color": "#B8860B",
          "line": {
           "color": "white",
           "width": 0.5
          },
          "pattern": {
           "shape": ""
          }
         },
         "name": "Río Bueno",
         "orientation": "h",
         "showlegend": false,
         "text": [
          "40,709 (9.2%)"
         ],
         "textfont": {
          "color": "#1e293b",
          "family": "Georgia, serif",
          "size": 11
         },
         "textposition": "outside",
         "type": "bar",
         "x": {
          "bdata": "BZ8AAA==",
          "dtype": "i4"
         },
         "xaxis": "x",
         "y": [
          "Río Bueno"
         ],
         "yaxis": "y"
        },
        {
         "customdata": {
          "bdata": "nvUSv5S5RUDVKuTu/vMlQE8JHWiccCJAz0bT6/SmIUCDp+Qgt9IVQO4+njlM8xJAXYfPmz+zEUDOF2dkXD4RQMO1RsmT+wxAhBgqN8oYAUA8nqYzz578P3kjj2fdyvA/",
          "dtype": "f8"
         },
         "hovertemplate": "<b>%{y}</b><br>Empresas: %{x:,.0f}<br>Porcentaje: %{customdata:.1f}%<extra></extra>",
         "legendgroup": "Panguipulli",
         "marker": {
          "color": "#8B4513",
          "line": {
           "color": "white",
           "width": 0.5
          },
          "pattern": {
           "shape": ""
          }
         },
         "name": "Panguipulli",
         "orientation": "h",
         "showlegend": false,
         "text": [
          "38,970 (8.8%)"
         ],
         "textfont": {
          "color": "#1e293b",
          "family": "Georgia, serif",
          "size": 11
         },
         "textposition": "outside",
         "type": "bar",
         "x": {
          "bdata": "OpgAAA==",
          "dtype": "i4"
         },
         "xaxis": "x",
         "y": [
          "Panguipulli"
         ],
         "yaxis": "y"
        },
        {
         "customdata": {
          "bdata": "nvUSv5S5RUDVKuTu/vMlQE8JHWiccCJAz0bT6/SmIUCDp+Qgt9IVQO4+njlM8xJAXYfPmz+zEUDOF2dkXD4RQMO1RsmT+wxAhBgqN8oYAUA8nqYzz578P3kjj2fdyvA/",
          "dtype": "f8"
         },
         "hovertemplate": "<b>%{y}</b><br>Empresas: %{x:,.0f}<br>Porcentaje: %{customdata:.1f}%<extra></extra>",
         "legendgroup": "Paillaco",
         "marker": {
          "color": "#4682B4",
          "line": {
           "color": "white",
           "width": 0.5
          },
          "pattern": {
           "shape": ""
          }
         },
         "name": "Paillaco",
         "orientation": "h",
         "showlegend": false,
         "text": [
          "24,089 (5.5%)"
         ],
         "textfont": {
          "color": "#1e293b",
          "family": "Georgia, serif",
          "size": 11
         },
         "textposition": "outside",
         "type": "bar",
         "x": {
          "bdata": "GV4=",
          "dtype": "i2"
         },
         "xaxis": "x",
         "y": [
          "Paillaco"
         ],
         "yaxis": "y"
        },
        {
         "customdata": {
          "bdata": "nvUSv5S5RUDVKuTu/vMlQE8JHWiccCJAz0bT6/SmIUCDp+Qgt9IVQO4+njlM8xJAXYfPmz+zEUDOF2dkXD4RQMO1RsmT+wxAhBgqN8oYAUA8nqYzz578P3kjj2fdyvA/",
          "dtype": "f8"
         },
         "hovertemplate": "<b>%{y}</b><br>Empresas: %{x:,.0f}<br>Porcentaje: %{customdata:.1f}%<extra></extra>",
         "legendgroup": "Mariquina",
         "marker": {
          "color": "#6B8E23",
          "line": {
           "color": "white",
           "width": 0.5
          },
          "pattern": {
           "shape": ""
          }
         },
         "name": "Mariquina",
         "orientation": "h",
         "showlegend": false,
         "text": [
          "20,918 (4.7%)"
         ],
         "textfont": {
          "color": "#1e293b",
          "family": "Georgia, serif",
          "size": 11
         },
         "textposition": "outside",
         "type": "bar",
         "x": {
          "bdata": "tlE=",
          "dtype": "i2"
         },
         "xaxis": "x",
         "y": [
          "Mariquina"
         ],
         "yaxis": "y"
        },
        {
         "customdata": {
          "bdata": "nvUSv5S5RUDVKuTu/vMlQE8JHWiccCJAz0bT6/SmIUCDp+Qgt9IVQO4+njlM8xJAXYfPmz+zEUDOF2dkXD4RQMO1RsmT+wxAhBgqN8oYAUA8nqYzz578P3kjj2fdyvA/",
          "dtype": "f8"
         },
         "hovertemplate": "<b>%{y}</b><br>Empresas: %{x:,.0f}<br>Porcentaje: %{customdata:.1f}%<extra></extra>",
         "legendgroup": "Lanco",
         "marker": {
          "color": "#CD853F",
          "line": {
           "color": "white",
           "width": 0.5
          },
          "pattern": {
           "shape": ""
          }
         },
         "name": "Lanco",
         "orientation": "h",
         "showlegend": false,
         "text": [
          "19,538 (4.4%)"
         ],
         "textfont": {
          "color": "#1e293b",
          "family": "Georgia, serif",
          "size": 11
         },
         "textposition": "outside",
         "type": "bar",
         "x": {
          "bdata": "Ukw=",
          "dtype": "i2"
         },
         "xaxis": "x",
         "y": [
          "Lanco"
         ],
         "yaxis": "y"
        },
        {
         "customdata": {
          "bdata": "nvUSv5S5RUDVKuTu/vMlQE8JHWiccCJAz0bT6/SmIUCDp+Qgt9IVQO4+njlM8xJAXYfPmz+zEUDOF2dkXD4RQMO1RsmT+wxAhBgqN8oYAUA8nqYzz578P3kjj2fdyvA/",
          "dtype": "f8"
         },
         "hovertemplate": "<b>%{y}</b><br>Empresas: %{x:,.0f}<br>Porcentaje: %{customdata:.1f}%<extra></extra>",
         "legendgroup": "Los Lagos",
         "marker": {
          "color": "#2F4F4F",
          "line": {
           "color": "white",
           "width": 0.5
          },
          "pattern": {
           "shape": ""
          }
         },
         "name": "Los Lagos",
         "orientation": "h",
         "showlegend": false,
         "text": [
          "19,034 (4.3%)"
         ],
         "textfont": {
          "color": "#1e293b",
          "family": "Georgia, serif",
          "size": 11
         },
         "textposition": "outside",
         "type": "bar",
         "x": {
          "bdata": "Wko=",
          "dtype": "i2"
         },
         "xaxis": "x",
         "y": [
          "Los Lagos"
         ],
         "yaxis": "y"
        },
        {
         "customdata": {
          "bdata": "nvUSv5S5RUDVKuTu/vMlQE8JHWiccCJAz0bT6/SmIUCDp+Qgt9IVQO4+njlM8xJAXYfPmz+zEUDOF2dkXD4RQMO1RsmT+wxAhBgqN8oYAUA8nqYzz578P3kjj2fdyvA/",
          "dtype": "f8"
         },
         "hovertemplate": "<b>%{y}</b><br>Empresas: %{x:,.0f}<br>Porcentaje: %{customdata:.1f}%<extra></extra>",
         "legendgroup": "Futrono",
         "marker": {
          "color": "#483D8B",
          "line": {
           "color": "white",
           "width": 0.5
          },
          "pattern": {
           "shape": ""
          }
         },
         "name": "Futrono",
         "orientation": "h",
         "showlegend": false,
         "text": [
          "15,996 (3.6%)"
         ],
         "textfont": {
          "color": "#1e293b",
          "family": "Georgia, serif",
          "size": 11
         },
         "textposition": "outside",
         "type": "bar",
         "x": {
          "bdata": "fD4=",
          "dtype": "i2"
         },
         "xaxis": "x",
         "y": [
          "Futrono"
         ],
         "yaxis": "y"
        },
        {
         "customdata": {
          "bdata": "nvUSv5S5RUDVKuTu/vMlQE8JHWiccCJAz0bT6/SmIUCDp+Qgt9IVQO4+njlM8xJAXYfPmz+zEUDOF2dkXD4RQMO1RsmT+wxAhBgqN8oYAUA8nqYzz578P3kjj2fdyvA/",
          "dtype": "f8"
         },
         "hovertemplate": "<b>%{y}</b><br>Empresas: %{x:,.0f}<br>Porcentaje: %{customdata:.1f}%<extra></extra>",
         "legendgroup": "Lago Ranco",
         "marker": {
          "color": "#556B2F",
          "line": {
           "color": "white",
           "width": 0.5
          },
          "pattern": {
           "shape": ""
          }
         },
         "name": "Lago Ranco",
         "orientation": "h",
         "showlegend": false,
         "text": [
          "9,436 (2.1%)"
         ],
         "textfont": {
          "color": "#1e293b",
          "family": "Georgia, serif",
          "size": 11
         },
         "textposition": "outside",
         "type": "bar",
         "x": {
          "bdata": "3CQ=",
          "dtype": "i2"
         },
         "xaxis": "x",
         "y": [
          "Lago Ranco"
         ],
         "yaxis": "y"
        },
        {
         "customdata": {
          "bdata": "nvUSv5S5RUDVKuTu/vMlQE8JHWiccCJAz0bT6/SmIUCDp+Qgt9IVQO4+njlM8xJAXYfPmz+zEUDOF2dkXD4RQMO1RsmT+wxAhBgqN8oYAUA8nqYzz578P3kjj2fdyvA/",
          "dtype": "f8"
         },
         "hovertemplate": "<b>%{y}</b><br>Empresas: %{x:,.0f}<br>Porcentaje: %{customdata:.1f}%<extra></extra>",
         "legendgroup": "Máfil",
         "marker": {
          "color": "#8B6914",
          "line": {
           "color": "white",
           "width": 0.5
          },
          "pattern": {
           "shape": ""
          }
         },
         "name": "Máfil",
         "orientation": "h",
         "showlegend": false,
         "text": [
          "7,898 (1.8%)"
         ],
         "textfont": {
          "color": "#1e293b",
          "family": "Georgia, serif",
          "size": 11
         },
         "textposition": "outside",
         "type": "bar",
         "x": {
          "bdata": "2h4=",
          "dtype": "i2"
         },
         "xaxis": "x",
         "y": [
          "Máfil"
         ],
         "yaxis": "y"
        },
        {
         "customdata": {
          "bdata": "nvUSv5S5RUDVKuTu/vMlQE8JHWiccCJAz0bT6/SmIUCDp+Qgt9IVQO4+njlM8xJAXYfPmz+zEUDOF2dkXD4RQMO1RsmT+wxAhBgqN8oYAUA8nqYzz578P3kjj2fdyvA/",
          "dtype": "f8"
         },
         "hovertemplate": "<b>%{y}</b><br>Empresas: %{x:,.0f}<br>Porcentaje: %{customdata:.1f}%<extra></extra>",
         "legendgroup": "Corral",
         "marker": {
          "color": "#654321",
          "line": {
           "color": "white",
           "width": 0.5
          },
          "pattern": {
           "shape": ""
          }
         },
         "name": "Corral",
         "orientation": "h",
         "showlegend": false,
         "text": [
          "4,634 (1.0%)"
         ],
         "textfont": {
          "color": "#1e293b",
          "family": "Georgia, serif",
          "size": 11
         },
         "textposition": "outside",
         "type": "bar",
         "x": {
          "bdata": "GhI=",
          "dtype": "i2"
         },
         "xaxis": "x",
         "y": [
          "Corral"
         ],
         "yaxis": "y"
        }
       ],
       "layout": {
        "barmode": "relative",
        "font": {
         "color": "#1e293b",
         "family": "Georgia, serif"
        },
        "height": 700,
        "legend": {
         "font": {
          "family": "Georgia, serif"
         },
         "title": {
          "text": "Comuna"
         },
         "tracegroupgap": 0
        },
        "margin": {
         "b": 50,
         "l": 120,
         "r": 50,
         "t": 80
        },
        "paper_bgcolor": "white",
        "plot_bgcolor": "white",
        "template": {
         "data": {
          "bar": [
           {
            "error_x": {
             "color": "#2a3f5f"
            },
            "error_y": {
             "color": "#2a3f5f"
            },
            "marker": {
             "line": {
              "color": "#E5ECF6",
              "width": 0.5
             },
             "pattern": {
              "fillmode": "overlay",
              "size": 10,
              "solidity": 0.2
             }
            },
            "type": "bar"
           }
          ],
          "barpolar": [
           {
            "marker": {
             "line": {
              "color": "#E5ECF6",
              "width": 0.5
             },
             "pattern": {
              "fillmode": "overlay",
              "size": 10,
              "solidity": 0.2
             }
            },
            "type": "barpolar"
           }
          ],
          "carpet": [
           {
            "aaxis": {
             "endlinecolor": "#2a3f5f",
             "gridcolor": "white",
             "linecolor": "white",
             "minorgridcolor": "white",
             "startlinecolor": "#2a3f5f"
            },
            "baxis": {
             "endlinecolor": "#2a3f5f",
             "gridcolor": "white",
             "linecolor": "white",
             "minorgridcolor": "white",
             "startlinecolor": "#2a3f5f"
            },
            "type": "carpet"
           }
          ],
          "choropleth": [
           {
            "colorbar": {
             "outlinewidth": 0,
             "ticks": ""
            },
            "type": "choropleth"
           }
          ],
          "contour": [
           {
            "colorbar": {
             "outlinewidth": 0,
             "ticks": ""
            },
            "colorscale": [
             [
              0,
              "#0d0887"
             ],
             [
              0.1111111111111111,
              "#46039f"
             ],
             [
              0.2222222222222222,
              "#7201a8"
             ],
             [
              0.3333333333333333,
              "#9c179e"
             ],
             [
              0.4444444444444444,
              "#bd3786"
             ],
             [
              0.5555555555555556,
              "#d8576b"
             ],
             [
              0.6666666666666666,
              "#ed7953"
             ],
             [
              0.7777777777777778,
              "#fb9f3a"
             ],
             [
              0.8888888888888888,
              "#fdca26"
             ],
             [
              1,
              "#f0f921"
             ]
            ],
            "type": "contour"
           }
          ],
          "contourcarpet": [
           {
            "colorbar": {
             "outlinewidth": 0,
             "ticks": ""
            },
            "type": "contourcarpet"
           }
          ],
          "heatmap": [
           {
            "colorbar": {
             "outlinewidth": 0,
             "ticks": ""
            },
            "colorscale": [
             [
              0,
              "#0d0887"
             ],
             [
              0.1111111111111111,
              "#46039f"
             ],
             [
              0.2222222222222222,
              "#7201a8"
             ],
             [
              0.3333333333333333,
              "#9c179e"
             ],
             [
              0.4444444444444444,
              "#bd3786"
             ],
             [
              0.5555555555555556,
              "#d8576b"
             ],
             [
              0.6666666666666666,
              "#ed7953"
             ],
             [
              0.7777777777777778,
              "#fb9f3a"
             ],
             [
              0.8888888888888888,
              "#fdca26"
             ],
             [
              1,
              "#f0f921"
             ]
            ],
            "type": "heatmap"
           }
          ],
          "histogram": [
           {
            "marker": {
             "pattern": {
              "fillmode": "overlay",
              "size": 10,
              "solidity": 0.2
             }
            },
            "type": "histogram"
           }
          ],
          "histogram2d": [
           {
            "colorbar": {
             "outlinewidth": 0,
             "ticks": ""
            },
            "colorscale": [
             [
              0,
              "#0d0887"
             ],
             [
              0.1111111111111111,
              "#46039f"
             ],
             [
              0.2222222222222222,
              "#7201a8"
             ],
             [
              0.3333333333333333,
              "#9c179e"
             ],
             [
              0.4444444444444444,
              "#bd3786"
             ],
             [
              0.5555555555555556,
              "#d8576b"
             ],
             [
              0.6666666666666666,
              "#ed7953"
             ],
             [
              0.7777777777777778,
              "#fb9f3a"
             ],
             [
              0.8888888888888888,
              "#fdca26"
             ],
             [
              1,
              "#f0f921"
             ]
            ],
            "type": "histogram2d"
           }
          ],
          "histogram2dcontour": [
           {
            "colorbar": {
             "outlinewidth": 0,
             "ticks": ""
            },
            "colorscale": [
             [
              0,
              "#0d0887"
             ],
             [
              0.1111111111111111,
              "#46039f"
             ],
             [
              0.2222222222222222,
              "#7201a8"
             ],
             [
              0.3333333333333333,
              "#9c179e"
             ],
             [
              0.4444444444444444,
              "#bd3786"
             ],
             [
              0.5555555555555556,
              "#d8576b"
             ],
             [
              0.6666666666666666,
              "#ed7953"
             ],
             [
              0.7777777777777778,
              "#fb9f3a"
             ],
             [
              0.8888888888888888,
              "#fdca26"
             ],
             [
              1,
              "#f0f921"
             ]
            ],
            "type": "histogram2dcontour"
           }
          ],
          "mesh3d": [
           {
            "colorbar": {
             "outlinewidth": 0,
             "ticks": ""
            },
            "type": "mesh3d"
           }
          ],
          "parcoords": [
           {
            "line": {
             "colorbar": {
              "outlinewidth": 0,
              "ticks": ""
             }
            },
            "type": "parcoords"
           }
          ],
          "pie": [
           {
            "automargin": true,
            "type": "pie"
           }
          ],
          "scatter": [
           {
            "fillpattern": {
             "fillmode": "overlay",
             "size": 10,
             "solidity": 0.2
            },
            "type": "scatter"
           }
          ],
          "scatter3d": [
           {
            "line": {
             "colorbar": {
              "outlinewidth": 0,
              "ticks": ""
             }
            },
            "marker": {
             "colorbar": {
              "outlinewidth": 0,
              "ticks": ""
             }
            },
            "type": "scatter3d"
           }
          ],
          "scattercarpet": [
           {
            "marker": {
             "colorbar": {
              "outlinewidth": 0,
              "ticks": ""
             }
            },
            "type": "scattercarpet"
           }
          ],
          "scattergeo": [
           {
            "marker": {
             "colorbar": {
              "outlinewidth": 0,
              "ticks": ""
             }
            },
            "type": "scattergeo"
           }
          ],
          "scattergl": [
           {
            "marker": {
             "colorbar": {
              "outlinewidth": 0,
              "ticks": ""
             }
            },
            "type": "scattergl"
           }
          ],
          "scattermap": [
           {
            "marker": {
             "colorbar": {
              "outlinewidth": 0,
              "ticks": ""
             }
            },
            "type": "scattermap"
           }
          ],
          "scattermapbox": [
           {
            "marker": {
             "colorbar": {
              "outlinewidth": 0,
              "ticks": ""
             }
            },
            "type": "scattermapbox"
           }
          ],
          "scatterpolar": [
           {
            "marker": {
             "colorbar": {
              "outlinewidth": 0,
              "ticks": ""
             }
            },
            "type": "scatterpolar"
           }
          ],
          "scatterpolargl": [
           {
            "marker": {
             "colorbar": {
              "outlinewidth": 0,
              "ticks": ""
             }
            },
            "type": "scatterpolargl"
           }
          ],
          "scatterternary": [
           {
            "marker": {
             "colorbar": {
              "outlinewidth": 0,
              "ticks": ""
             }
            },
            "type": "scatterternary"
           }
          ],
          "surface": [
           {
            "colorbar": {
             "outlinewidth": 0,
             "ticks": ""
            },
            "colorscale": [
             [
              0,
              "#0d0887"
             ],
             [
              0.1111111111111111,
              "#46039f"
             ],
             [
              0.2222222222222222,
              "#7201a8"
             ],
             [
              0.3333333333333333,
              "#9c179e"
             ],
             [
              0.4444444444444444,
              "#bd3786"
             ],
             [
              0.5555555555555556,
              "#d8576b"
             ],
             [
              0.6666666666666666,
              "#ed7953"
             ],
             [
              0.7777777777777778,
              "#fb9f3a"
             ],
             [
              0.8888888888888888,
              "#fdca26"
             ],
             [
              1,
              "#f0f921"
             ]
            ],
            "type": "surface"
           }
          ],
          "table": [
           {
            "cells": {
             "fill": {
              "color": "#EBF0F8"
             },
             "line": {
              "color": "white"
             }
            },
            "header": {
             "fill": {
              "color": "#C8D4E3"
             },
             "line": {
              "color": "white"
             }
            },
            "type": "table"
           }
          ]
         },
         "layout": {
          "annotationdefaults": {
           "arrowcolor": "#2a3f5f",
           "arrowhead": 0,
           "arrowwidth": 1
          },
          "autotypenumbers": "strict",
          "coloraxis": {
           "colorbar": {
            "outlinewidth": 0,
            "ticks": ""
           }
          },
          "colorscale": {
           "diverging": [
            [
             0,
             "#8e0152"
            ],
            [
             0.1,
             "#c51b7d"
            ],
            [
             0.2,
             "#de77ae"
            ],
            [
             0.3,
             "#f1b6da"
            ],
            [
             0.4,
             "#fde0ef"
            ],
            [
             0.5,
             "#f7f7f7"
            ],
            [
             0.6,
             "#e6f5d0"
            ],
            [
             0.7,
             "#b8e186"
            ],
            [
             0.8,
             "#7fbc41"
            ],
            [
             0.9,
             "#4d9221"
            ],
            [
             1,
             "#276419"
            ]
           ],
           "sequential": [
            [
             0,
             "#0d0887"
            ],
            [
             0.1111111111111111,
             "#46039f"
            ],
            [
             0.2222222222222222,
             "#7201a8"
            ],
            [
             0.3333333333333333,
             "#9c179e"
            ],
            [
             0.4444444444444444,
             "#bd3786"
            ],
            [
             0.5555555555555556,
             "#d8576b"
            ],
            [
             0.6666666666666666,
             "#ed7953"
            ],
            [
             0.7777777777777778,
             "#fb9f3a"
            ],
            [
             0.8888888888888888,
             "#fdca26"
            ],
            [
             1,
             "#f0f921"
            ]
           ],
           "sequentialminus": [
            [
             0,
             "#0d0887"
            ],
            [
             0.1111111111111111,
             "#46039f"
            ],
            [
             0.2222222222222222,
             "#7201a8"
            ],
            [
             0.3333333333333333,
             "#9c179e"
            ],
            [
             0.4444444444444444,
             "#bd3786"
            ],
            [
             0.5555555555555556,
             "#d8576b"
            ],
            [
             0.6666666666666666,
             "#ed7953"
            ],
            [
             0.7777777777777778,
             "#fb9f3a"
            ],
            [
             0.8888888888888888,
             "#fdca26"
            ],
            [
             1,
             "#f0f921"
            ]
           ]
          },
          "colorway": [
           "#636efa",
           "#EF553B",
           "#00cc96",
           "#ab63fa",
           "#FFA15A",
           "#19d3f3",
           "#FF6692",
           "#B6E880",
           "#FF97FF",
           "#FECB52"
          ],
          "font": {
           "color": "#2a3f5f"
          },
          "geo": {
           "bgcolor": "white",
           "lakecolor": "white",
           "landcolor": "#E5ECF6",
           "showlakes": true,
           "showland": true,
           "subunitcolor": "white"
          },
          "hoverlabel": {
           "align": "left"
          },
          "hovermode": "closest",
          "mapbox": {
           "style": "light"
          },
          "paper_bgcolor": "white",
          "plot_bgcolor": "#E5ECF6",
          "polar": {
           "angularaxis": {
            "gridcolor": "white",
            "linecolor": "white",
            "ticks": ""
           },
           "bgcolor": "#E5ECF6",
           "radialaxis": {
            "gridcolor": "white",
            "linecolor": "white",
            "ticks": ""
           }
          },
          "scene": {
           "xaxis": {
            "backgroundcolor": "#E5ECF6",
            "gridcolor": "white",
            "gridwidth": 2,
            "linecolor": "white",
            "showbackground": true,
            "ticks": "",
            "zerolinecolor": "white"
           },
           "yaxis": {
            "backgroundcolor": "#E5ECF6",
            "gridcolor": "white",
            "gridwidth": 2,
            "linecolor": "white",
            "showbackground": true,
            "ticks": "",
            "zerolinecolor": "white"
           },
           "zaxis": {
            "backgroundcolor": "#E5ECF6",
            "gridcolor": "white",
            "gridwidth": 2,
            "linecolor": "white",
            "showbackground": true,
            "ticks": "",
            "zerolinecolor": "white"
           }
          },
          "shapedefaults": {
           "line": {
            "color": "#2a3f5f"
           }
          },
          "ternary": {
           "aaxis": {
            "gridcolor": "white",
            "linecolor": "white",
            "ticks": ""
           },
           "baxis": {
            "gridcolor": "white",
            "linecolor": "white",
            "ticks": ""
           },
           "bgcolor": "#E5ECF6",
           "caxis": {
            "gridcolor": "white",
            "linecolor": "white",
            "ticks": ""
           }
          },
          "title": {
           "x": 0.05
          },
          "xaxis": {
           "automargin": true,
           "gridcolor": "white",
           "linecolor": "white",
           "ticks": "",
           "title": {
            "standoff": 15
           },
           "zerolinecolor": "white",
           "zerolinewidth": 2
          },
          "yaxis": {
           "automargin": true,
           "gridcolor": "white",
           "linecolor": "white",
           "ticks": "",
           "title": {
            "standoff": 15
           },
           "zerolinecolor": "white",
           "zerolinewidth": 2
          }
         }
        },
        "title": {
         "font": {
          "color": "#1e293b",
          "family": "Georgia, serif",
          "size": 18
         },
         "text": "<span style=\"border-bottom: 5px solid #DC143C; padding-bottom: 5px;\">Número de Empresas por Comuna en la Región de Los Ríos</span>",
         "x": 0.01,
         "y": 0.95
        },
        "width": 1100,
        "xaxis": {
         "anchor": "y",
         "domain": [
          0,
          1
         ],
         "gridcolor": "lightgray",
         "showgrid": true,
         "tickfont": {
          "family": "Georgia, serif"
         },
         "title": {
          "font": {
           "family": "Georgia, serif",
           "size": 14
          },
          "text": "Número de Empresas"
         },
         "zeroline": false
        },
        "yaxis": {
         "anchor": "x",
         "categoryarray": [
          "Corral",
          "Máfil",
          "Lago Ranco",
          "Futrono",
          "Los Lagos",
          "Lanco",
          "Mariquina",
          "Paillaco",
          "Panguipulli",
          "Río Bueno",
          "La Unión",
          "Valdivia"
         ],
         "categoryorder": "total ascending",
         "domain": [
          0,
          1
         ],
         "showgrid": false,
         "tickfont": {
          "family": "Georgia, serif"
         },
         "title": {
          "font": {
           "family": "Georgia, serif",
           "size": 14
          },
          "text": "Comuna"
         },
         "zeroline": false
        }
       }
      }
     },
     "metadata": {},
     "output_type": "display_data"
    }
   ],
   "source": [
    "# Limpiar los nombres de las columnas para trabajar mejor\n",
    "df_los_rios.columns = [col.strip() for col in df_los_rios.columns]\n",
    "\n",
    "# Renombrar las columnas con caracteres especiales\n",
    "column_mapping = {\n",
    "    'ï»¿AÃ±o Comercial': 'Año Comercial',\n",
    "    'NÃºmero de empresas': 'Número de empresas',\n",
    "    'NÃºmero de trabajadores dependientes informados': 'Número de trabajadores dependientes',\n",
    "    'NÃºmero de trabajadores dependientes de gÃ©nero femenino informados': 'Número trabajadores femeninos',\n",
    "    'NÃºmero de trabajadores dependientes de gÃ©nero masculino informados': 'Número trabajadores masculinos'\n",
    "}\n",
    "\n",
    "# Aplicar renombrado solo a las columnas que vamos a usar\n",
    "for old_name, new_name in column_mapping.items():\n",
    "    if old_name in df_los_rios.columns:\n",
    "        df_los_rios[new_name] = df_los_rios[old_name]\n",
    "\n",
    "# Agregar columnas con nombres corregidos para mejor visualización\n",
    "df_los_rios['Comuna'] = df_los_rios['Comuna del domicilio o casa matriz'].apply(\n",
    "    lambda x: x.replace('Ã³', 'ó').replace('Ã¡', 'á').replace('Ã­', 'í')\n",
    ")\n",
    "\n",
    "# Convertir columnas numéricas\n",
    "df_los_rios['Número de empresas'] = pd.to_numeric(df_los_rios['Número de empresas'], errors='coerce')\n",
    "\n",
    "# Verificar que la conversión fue exitosa\n",
    "print(\"Tipo de datos de 'Número de empresas':\", df_los_rios['Número de empresas'].dtype)\n",
    "print(\"Primeros valores:\", df_los_rios['Número de empresas'].head())\n",
    "\n",
    "# Analizar la distribución de empresas por comuna\n",
    "empresas_por_comuna = df_los_rios.groupby('Comuna')['Número de empresas'].sum().sort_values(ascending=False)\n",
    "total_empresas = empresas_por_comuna.sum()\n",
    "\n",
    "print(f\"Total de empresas: {total_empresas}\")\n",
    "\n",
    "# Crear un dataframe para análisis\n",
    "df_comunas = pd.DataFrame({\n",
    "    'comuna': empresas_por_comuna.index,\n",
    "    'empresas': empresas_por_comuna.values,\n",
    "    'porcentaje': (empresas_por_comuna.values / total_empresas * 100)\n",
    "})\n",
    "\n",
    "# Mostrar tabla de distribución\n",
    "print(\"\\nDistribución de empresas por comuna en la Región de Los Ríos:\")\n",
    "print(f\"Total de empresas en la región: {total_empresas:,.0f}\\n\")\n",
    "display(df_comunas)\n",
    "\n",
    "# Paleta de colores elegante para daltonismo (Tol qualitative + tonos refinados)\n",
    "colors_daltonismo_elegante = [\n",
    "    '#1B4F72',  # Azul marino elegante\n",
    "    '#2E8B57',  # Verde bosque\n",
    "    '#B8860B',  # Dorado oscuro\n",
    "    '#8B4513',  # Marrón elegante\n",
    "    '#4682B4',  # Azul acero\n",
    "    '#6B8E23',  # Verde oliva\n",
    "    '#CD853F',  # Beige dorado\n",
    "    '#2F4F4F',  # Gris pizarra oscuro\n",
    "    '#483D8B',  # Azul pizarra oscuro\n",
    "    '#556B2F',  # Verde militar\n",
    "    '#8B6914',  # Dorado oscuro\n",
    "    '#654321'   # Marrón chocolate\n",
    "]\n",
    "\n",
    "# Crear gráfico de barras horizontal interactivo con Plotly (tamaño optimizado para pantalla)\n",
    "fig = px.bar(\n",
    "    df_comunas,\n",
    "    x='empresas',\n",
    "    y='comuna',\n",
    "    orientation='h',  # Barras horizontales\n",
    "    color='comuna',  # Usar colores diferentes para cada comuna\n",
    "    color_discrete_sequence=colors_daltonismo_elegante,  # Paleta elegante para daltonismo\n",
    "    text=df_comunas.apply(lambda x: f\"{x['empresas']:,.0f} ({x['porcentaje']:.1f}%)\", axis=1),\n",
    "    labels={'empresas': 'Número de Empresas', 'comuna': 'Comuna'},\n",
    "    height=700,  # Altura reducida para caber en pantalla\n",
    "    width=1100,  # Ancho optimizado\n",
    ")\n",
    "\n",
    "# Aplicar estilo \"The Economist\" con fuente Georgia\n",
    "fig.update_layout(\n",
    "    font=dict(family='Georgia, serif', color='#1e293b'),\n",
    "    title=dict(\n",
    "        text='<span style=\"border-bottom: 5px solid #DC143C; padding-bottom: 5px;\">Número de Empresas por Comuna en la Región de Los Ríos</span>',\n",
    "        font=dict(size=18, family='Georgia, serif', color='#1e293b'),\n",
    "        x=0.01,  # Título alineado a la izquierda\n",
    "        y=0.95\n",
    "    ),\n",
    "    xaxis=dict(\n",
    "        title=dict(text='Número de Empresas', font=dict(family='Georgia, serif', size=14)),\n",
    "        tickfont=dict(family='Georgia, serif'),\n",
    "        showgrid=True,\n",
    "        gridcolor='lightgray',\n",
    "        zeroline=False\n",
    "    ),\n",
    "    yaxis=dict(\n",
    "        title=dict(text='Comuna', font=dict(family='Georgia, serif', size=14)),\n",
    "        tickfont=dict(family='Georgia, serif'),\n",
    "        showgrid=False,  # Sin líneas de cuadrícula en Y\n",
    "        zeroline=False,\n",
    "        categoryorder='total ascending'  # Ordenar comunas por valor\n",
    "    ),\n",
    "    legend=dict(\n",
    "        font=dict(family='Georgia, serif')\n",
    "    ),\n",
    "    plot_bgcolor='white',\n",
    "    paper_bgcolor='white',\n",
    "    margin=dict(l=120, r=50, t=80, b=50)  # Margen izquierdo ajustado para nombres de comunas\n",
    ")\n",
    "\n",
    "# Personalizar las barras y texto\n",
    "fig.update_traces(\n",
    "    textposition='outside',\n",
    "    textfont=dict(family='Georgia, serif', size=11, color='#1e293b'),\n",
    "    marker=dict(\n",
    "        line=dict(color='white', width=0.5)\n",
    "    ),\n",
    "    hovertemplate='<b>%{y}</b><br>Empresas: %{x:,.0f}<br>Porcentaje: %{customdata:.1f}%<extra></extra>',\n",
    "    customdata=df_comunas['porcentaje'],  # Agregar datos del porcentaje para el hover\n",
    "    showlegend=False  # Ocultar leyenda ya que los colores son por comuna\n",
    ")\n",
    "\n",
    "# Mostrar el gráfico\n",
    "fig.show()"
   ]
  },
  {
   "cell_type": "markdown",
   "id": "97b7eb4f",
   "metadata": {},
   "source": [
    "## 4. Análisis Temporal\n",
    "\n",
    "En esta sección, vamos a analizar la evolución de las empresas a lo largo del tiempo en la Región de Los Ríos."
   ]
  },
  {
   "cell_type": "code",
   "execution_count": 20,
   "id": "7a60e974",
   "metadata": {},
   "outputs": [
    {
     "data": {
      "application/vnd.plotly.v1+json": {
       "config": {
        "plotlyServerURL": "https://plot.ly"
       },
       "data": [
        {
         "hovertemplate": "Año=%{x}<br>Número de Empresas=%{y}<extra></extra>",
         "legendgroup": "",
         "line": {
          "color": "#4477AA",
          "dash": "solid",
          "width": 3
         },
         "marker": {
          "color": "#4477AA",
          "size": 10,
          "symbol": "circle"
         },
         "mode": "lines+markers",
         "name": "",
         "orientation": "v",
         "showlegend": false,
         "text": [
          "17,846",
          "18,222",
          "18,463",
          "18,631",
          "18,929",
          "19,371",
          "20,043",
          "20,653",
          "21,196",
          "21,901",
          "22,413",
          "22,983",
          "24,267",
          "26,399",
          "27,385",
          "27,709",
          "30,389",
          "32,129",
          "32,603"
         ],
         "textfont": {
          "color": "#1e293b",
          "family": "Georgia, serif",
          "size": 10
         },
         "textposition": "top center",
         "type": "scatter",
         "x": {
          "bdata": "1QfWB9cH2AfZB9oH2wfcB90H3gffB+AH4QfiB+MH5AflB+YH5wc=",
          "dtype": "i2"
         },
         "xaxis": "x",
         "y": {
          "bdata": "tkUuRx9Ix0jxSatLS06tUMxSjVWNV8dZy14fZ/lqPWy1doF9W38=",
          "dtype": "i2"
         },
         "yaxis": "y"
        }
       ],
       "layout": {
        "font": {
         "color": "#1e293b",
         "family": "Georgia, serif"
        },
        "height": 600,
        "legend": {
         "tracegroupgap": 0
        },
        "margin": {
         "b": 80,
         "l": 80,
         "r": 40,
         "t": 100
        },
        "paper_bgcolor": "white",
        "plot_bgcolor": "white",
        "template": {
         "data": {
          "bar": [
           {
            "error_x": {
             "color": "#2a3f5f"
            },
            "error_y": {
             "color": "#2a3f5f"
            },
            "marker": {
             "line": {
              "color": "#E5ECF6",
              "width": 0.5
             },
             "pattern": {
              "fillmode": "overlay",
              "size": 10,
              "solidity": 0.2
             }
            },
            "type": "bar"
           }
          ],
          "barpolar": [
           {
            "marker": {
             "line": {
              "color": "#E5ECF6",
              "width": 0.5
             },
             "pattern": {
              "fillmode": "overlay",
              "size": 10,
              "solidity": 0.2
             }
            },
            "type": "barpolar"
           }
          ],
          "carpet": [
           {
            "aaxis": {
             "endlinecolor": "#2a3f5f",
             "gridcolor": "white",
             "linecolor": "white",
             "minorgridcolor": "white",
             "startlinecolor": "#2a3f5f"
            },
            "baxis": {
             "endlinecolor": "#2a3f5f",
             "gridcolor": "white",
             "linecolor": "white",
             "minorgridcolor": "white",
             "startlinecolor": "#2a3f5f"
            },
            "type": "carpet"
           }
          ],
          "choropleth": [
           {
            "colorbar": {
             "outlinewidth": 0,
             "ticks": ""
            },
            "type": "choropleth"
           }
          ],
          "contour": [
           {
            "colorbar": {
             "outlinewidth": 0,
             "ticks": ""
            },
            "colorscale": [
             [
              0,
              "#0d0887"
             ],
             [
              0.1111111111111111,
              "#46039f"
             ],
             [
              0.2222222222222222,
              "#7201a8"
             ],
             [
              0.3333333333333333,
              "#9c179e"
             ],
             [
              0.4444444444444444,
              "#bd3786"
             ],
             [
              0.5555555555555556,
              "#d8576b"
             ],
             [
              0.6666666666666666,
              "#ed7953"
             ],
             [
              0.7777777777777778,
              "#fb9f3a"
             ],
             [
              0.8888888888888888,
              "#fdca26"
             ],
             [
              1,
              "#f0f921"
             ]
            ],
            "type": "contour"
           }
          ],
          "contourcarpet": [
           {
            "colorbar": {
             "outlinewidth": 0,
             "ticks": ""
            },
            "type": "contourcarpet"
           }
          ],
          "heatmap": [
           {
            "colorbar": {
             "outlinewidth": 0,
             "ticks": ""
            },
            "colorscale": [
             [
              0,
              "#0d0887"
             ],
             [
              0.1111111111111111,
              "#46039f"
             ],
             [
              0.2222222222222222,
              "#7201a8"
             ],
             [
              0.3333333333333333,
              "#9c179e"
             ],
             [
              0.4444444444444444,
              "#bd3786"
             ],
             [
              0.5555555555555556,
              "#d8576b"
             ],
             [
              0.6666666666666666,
              "#ed7953"
             ],
             [
              0.7777777777777778,
              "#fb9f3a"
             ],
             [
              0.8888888888888888,
              "#fdca26"
             ],
             [
              1,
              "#f0f921"
             ]
            ],
            "type": "heatmap"
           }
          ],
          "histogram": [
           {
            "marker": {
             "pattern": {
              "fillmode": "overlay",
              "size": 10,
              "solidity": 0.2
             }
            },
            "type": "histogram"
           }
          ],
          "histogram2d": [
           {
            "colorbar": {
             "outlinewidth": 0,
             "ticks": ""
            },
            "colorscale": [
             [
              0,
              "#0d0887"
             ],
             [
              0.1111111111111111,
              "#46039f"
             ],
             [
              0.2222222222222222,
              "#7201a8"
             ],
             [
              0.3333333333333333,
              "#9c179e"
             ],
             [
              0.4444444444444444,
              "#bd3786"
             ],
             [
              0.5555555555555556,
              "#d8576b"
             ],
             [
              0.6666666666666666,
              "#ed7953"
             ],
             [
              0.7777777777777778,
              "#fb9f3a"
             ],
             [
              0.8888888888888888,
              "#fdca26"
             ],
             [
              1,
              "#f0f921"
             ]
            ],
            "type": "histogram2d"
           }
          ],
          "histogram2dcontour": [
           {
            "colorbar": {
             "outlinewidth": 0,
             "ticks": ""
            },
            "colorscale": [
             [
              0,
              "#0d0887"
             ],
             [
              0.1111111111111111,
              "#46039f"
             ],
             [
              0.2222222222222222,
              "#7201a8"
             ],
             [
              0.3333333333333333,
              "#9c179e"
             ],
             [
              0.4444444444444444,
              "#bd3786"
             ],
             [
              0.5555555555555556,
              "#d8576b"
             ],
             [
              0.6666666666666666,
              "#ed7953"
             ],
             [
              0.7777777777777778,
              "#fb9f3a"
             ],
             [
              0.8888888888888888,
              "#fdca26"
             ],
             [
              1,
              "#f0f921"
             ]
            ],
            "type": "histogram2dcontour"
           }
          ],
          "mesh3d": [
           {
            "colorbar": {
             "outlinewidth": 0,
             "ticks": ""
            },
            "type": "mesh3d"
           }
          ],
          "parcoords": [
           {
            "line": {
             "colorbar": {
              "outlinewidth": 0,
              "ticks": ""
             }
            },
            "type": "parcoords"
           }
          ],
          "pie": [
           {
            "automargin": true,
            "type": "pie"
           }
          ],
          "scatter": [
           {
            "fillpattern": {
             "fillmode": "overlay",
             "size": 10,
             "solidity": 0.2
            },
            "type": "scatter"
           }
          ],
          "scatter3d": [
           {
            "line": {
             "colorbar": {
              "outlinewidth": 0,
              "ticks": ""
             }
            },
            "marker": {
             "colorbar": {
              "outlinewidth": 0,
              "ticks": ""
             }
            },
            "type": "scatter3d"
           }
          ],
          "scattercarpet": [
           {
            "marker": {
             "colorbar": {
              "outlinewidth": 0,
              "ticks": ""
             }
            },
            "type": "scattercarpet"
           }
          ],
          "scattergeo": [
           {
            "marker": {
             "colorbar": {
              "outlinewidth": 0,
              "ticks": ""
             }
            },
            "type": "scattergeo"
           }
          ],
          "scattergl": [
           {
            "marker": {
             "colorbar": {
              "outlinewidth": 0,
              "ticks": ""
             }
            },
            "type": "scattergl"
           }
          ],
          "scattermap": [
           {
            "marker": {
             "colorbar": {
              "outlinewidth": 0,
              "ticks": ""
             }
            },
            "type": "scattermap"
           }
          ],
          "scattermapbox": [
           {
            "marker": {
             "colorbar": {
              "outlinewidth": 0,
              "ticks": ""
             }
            },
            "type": "scattermapbox"
           }
          ],
          "scatterpolar": [
           {
            "marker": {
             "colorbar": {
              "outlinewidth": 0,
              "ticks": ""
             }
            },
            "type": "scatterpolar"
           }
          ],
          "scatterpolargl": [
           {
            "marker": {
             "colorbar": {
              "outlinewidth": 0,
              "ticks": ""
             }
            },
            "type": "scatterpolargl"
           }
          ],
          "scatterternary": [
           {
            "marker": {
             "colorbar": {
              "outlinewidth": 0,
              "ticks": ""
             }
            },
            "type": "scatterternary"
           }
          ],
          "surface": [
           {
            "colorbar": {
             "outlinewidth": 0,
             "ticks": ""
            },
            "colorscale": [
             [
              0,
              "#0d0887"
             ],
             [
              0.1111111111111111,
              "#46039f"
             ],
             [
              0.2222222222222222,
              "#7201a8"
             ],
             [
              0.3333333333333333,
              "#9c179e"
             ],
             [
              0.4444444444444444,
              "#bd3786"
             ],
             [
              0.5555555555555556,
              "#d8576b"
             ],
             [
              0.6666666666666666,
              "#ed7953"
             ],
             [
              0.7777777777777778,
              "#fb9f3a"
             ],
             [
              0.8888888888888888,
              "#fdca26"
             ],
             [
              1,
              "#f0f921"
             ]
            ],
            "type": "surface"
           }
          ],
          "table": [
           {
            "cells": {
             "fill": {
              "color": "#EBF0F8"
             },
             "line": {
              "color": "white"
             }
            },
            "header": {
             "fill": {
              "color": "#C8D4E3"
             },
             "line": {
              "color": "white"
             }
            },
            "type": "table"
           }
          ]
         },
         "layout": {
          "annotationdefaults": {
           "arrowcolor": "#2a3f5f",
           "arrowhead": 0,
           "arrowwidth": 1
          },
          "autotypenumbers": "strict",
          "coloraxis": {
           "colorbar": {
            "outlinewidth": 0,
            "ticks": ""
           }
          },
          "colorscale": {
           "diverging": [
            [
             0,
             "#8e0152"
            ],
            [
             0.1,
             "#c51b7d"
            ],
            [
             0.2,
             "#de77ae"
            ],
            [
             0.3,
             "#f1b6da"
            ],
            [
             0.4,
             "#fde0ef"
            ],
            [
             0.5,
             "#f7f7f7"
            ],
            [
             0.6,
             "#e6f5d0"
            ],
            [
             0.7,
             "#b8e186"
            ],
            [
             0.8,
             "#7fbc41"
            ],
            [
             0.9,
             "#4d9221"
            ],
            [
             1,
             "#276419"
            ]
           ],
           "sequential": [
            [
             0,
             "#0d0887"
            ],
            [
             0.1111111111111111,
             "#46039f"
            ],
            [
             0.2222222222222222,
             "#7201a8"
            ],
            [
             0.3333333333333333,
             "#9c179e"
            ],
            [
             0.4444444444444444,
             "#bd3786"
            ],
            [
             0.5555555555555556,
             "#d8576b"
            ],
            [
             0.6666666666666666,
             "#ed7953"
            ],
            [
             0.7777777777777778,
             "#fb9f3a"
            ],
            [
             0.8888888888888888,
             "#fdca26"
            ],
            [
             1,
             "#f0f921"
            ]
           ],
           "sequentialminus": [
            [
             0,
             "#0d0887"
            ],
            [
             0.1111111111111111,
             "#46039f"
            ],
            [
             0.2222222222222222,
             "#7201a8"
            ],
            [
             0.3333333333333333,
             "#9c179e"
            ],
            [
             0.4444444444444444,
             "#bd3786"
            ],
            [
             0.5555555555555556,
             "#d8576b"
            ],
            [
             0.6666666666666666,
             "#ed7953"
            ],
            [
             0.7777777777777778,
             "#fb9f3a"
            ],
            [
             0.8888888888888888,
             "#fdca26"
            ],
            [
             1,
             "#f0f921"
            ]
           ]
          },
          "colorway": [
           "#636efa",
           "#EF553B",
           "#00cc96",
           "#ab63fa",
           "#FFA15A",
           "#19d3f3",
           "#FF6692",
           "#B6E880",
           "#FF97FF",
           "#FECB52"
          ],
          "font": {
           "color": "#2a3f5f"
          },
          "geo": {
           "bgcolor": "white",
           "lakecolor": "white",
           "landcolor": "#E5ECF6",
           "showlakes": true,
           "showland": true,
           "subunitcolor": "white"
          },
          "hoverlabel": {
           "align": "left"
          },
          "hovermode": "closest",
          "mapbox": {
           "style": "light"
          },
          "paper_bgcolor": "white",
          "plot_bgcolor": "#E5ECF6",
          "polar": {
           "angularaxis": {
            "gridcolor": "white",
            "linecolor": "white",
            "ticks": ""
           },
           "bgcolor": "#E5ECF6",
           "radialaxis": {
            "gridcolor": "white",
            "linecolor": "white",
            "ticks": ""
           }
          },
          "scene": {
           "xaxis": {
            "backgroundcolor": "#E5ECF6",
            "gridcolor": "white",
            "gridwidth": 2,
            "linecolor": "white",
            "showbackground": true,
            "ticks": "",
            "zerolinecolor": "white"
           },
           "yaxis": {
            "backgroundcolor": "#E5ECF6",
            "gridcolor": "white",
            "gridwidth": 2,
            "linecolor": "white",
            "showbackground": true,
            "ticks": "",
            "zerolinecolor": "white"
           },
           "zaxis": {
            "backgroundcolor": "#E5ECF6",
            "gridcolor": "white",
            "gridwidth": 2,
            "linecolor": "white",
            "showbackground": true,
            "ticks": "",
            "zerolinecolor": "white"
           }
          },
          "shapedefaults": {
           "line": {
            "color": "#2a3f5f"
           }
          },
          "ternary": {
           "aaxis": {
            "gridcolor": "white",
            "linecolor": "white",
            "ticks": ""
           },
           "baxis": {
            "gridcolor": "white",
            "linecolor": "white",
            "ticks": ""
           },
           "bgcolor": "#E5ECF6",
           "caxis": {
            "gridcolor": "white",
            "linecolor": "white",
            "ticks": ""
           }
          },
          "title": {
           "x": 0.05
          },
          "xaxis": {
           "automargin": true,
           "gridcolor": "white",
           "linecolor": "white",
           "ticks": "",
           "title": {
            "standoff": 15
           },
           "zerolinecolor": "white",
           "zerolinewidth": 2
          },
          "yaxis": {
           "automargin": true,
           "gridcolor": "white",
           "linecolor": "white",
           "ticks": "",
           "title": {
            "standoff": 15
           },
           "zerolinecolor": "white",
           "zerolinewidth": 2
          }
         }
        },
        "title": {
         "font": {
          "color": "#1e293b",
          "family": "Georgia, serif",
          "size": 18
         },
         "text": "<span style=\"border-bottom: 5px solid #DC143C; padding-bottom: 5px;\">Evolución del Número de Empresas en la Región de Los Ríos</span>",
         "x": 0.01,
         "y": 0.95
        },
        "width": 1200,
        "xaxis": {
         "anchor": "y",
         "domain": [
          0,
          1
         ],
         "gridcolor": "lightgray",
         "showgrid": false,
         "tickfont": {
          "family": "Georgia, serif"
         },
         "title": {
          "font": {
           "family": "Georgia, serif",
           "size": 14
          },
          "text": "Año"
         },
         "zeroline": false
        },
        "yaxis": {
         "anchor": "x",
         "domain": [
          0,
          1
         ],
         "gridcolor": "lightgray",
         "showgrid": true,
         "tickfont": {
          "family": "Georgia, serif"
         },
         "title": {
          "font": {
           "family": "Georgia, serif",
           "size": 14
          },
          "text": "Número de Empresas"
         },
         "zeroline": false
        }
       }
      }
     },
     "metadata": {},
     "output_type": "display_data"
    },
    {
     "name": "stdout",
     "output_type": "stream",
     "text": [
      "Evolución del número de empresas por año en la Región de Los Ríos:\n"
     ]
    },
    {
     "data": {
      "text/html": [
       "<div>\n",
       "<style scoped>\n",
       "    .dataframe tbody tr th:only-of-type {\n",
       "        vertical-align: middle;\n",
       "    }\n",
       "\n",
       "    .dataframe tbody tr th {\n",
       "        vertical-align: top;\n",
       "    }\n",
       "\n",
       "    .dataframe thead th {\n",
       "        text-align: right;\n",
       "    }\n",
       "</style>\n",
       "<table border=\"1\" class=\"dataframe\">\n",
       "  <thead>\n",
       "    <tr style=\"text-align: right;\">\n",
       "      <th></th>\n",
       "      <th>Año Comercial</th>\n",
       "      <th>Número de empresas</th>\n",
       "    </tr>\n",
       "  </thead>\n",
       "  <tbody>\n",
       "    <tr>\n",
       "      <th>0</th>\n",
       "      <td>2005</td>\n",
       "      <td>17846</td>\n",
       "    </tr>\n",
       "    <tr>\n",
       "      <th>1</th>\n",
       "      <td>2006</td>\n",
       "      <td>18222</td>\n",
       "    </tr>\n",
       "    <tr>\n",
       "      <th>2</th>\n",
       "      <td>2007</td>\n",
       "      <td>18463</td>\n",
       "    </tr>\n",
       "    <tr>\n",
       "      <th>3</th>\n",
       "      <td>2008</td>\n",
       "      <td>18631</td>\n",
       "    </tr>\n",
       "    <tr>\n",
       "      <th>4</th>\n",
       "      <td>2009</td>\n",
       "      <td>18929</td>\n",
       "    </tr>\n",
       "    <tr>\n",
       "      <th>5</th>\n",
       "      <td>2010</td>\n",
       "      <td>19371</td>\n",
       "    </tr>\n",
       "    <tr>\n",
       "      <th>6</th>\n",
       "      <td>2011</td>\n",
       "      <td>20043</td>\n",
       "    </tr>\n",
       "    <tr>\n",
       "      <th>7</th>\n",
       "      <td>2012</td>\n",
       "      <td>20653</td>\n",
       "    </tr>\n",
       "    <tr>\n",
       "      <th>8</th>\n",
       "      <td>2013</td>\n",
       "      <td>21196</td>\n",
       "    </tr>\n",
       "    <tr>\n",
       "      <th>9</th>\n",
       "      <td>2014</td>\n",
       "      <td>21901</td>\n",
       "    </tr>\n",
       "    <tr>\n",
       "      <th>10</th>\n",
       "      <td>2015</td>\n",
       "      <td>22413</td>\n",
       "    </tr>\n",
       "    <tr>\n",
       "      <th>11</th>\n",
       "      <td>2016</td>\n",
       "      <td>22983</td>\n",
       "    </tr>\n",
       "    <tr>\n",
       "      <th>12</th>\n",
       "      <td>2017</td>\n",
       "      <td>24267</td>\n",
       "    </tr>\n",
       "    <tr>\n",
       "      <th>13</th>\n",
       "      <td>2018</td>\n",
       "      <td>26399</td>\n",
       "    </tr>\n",
       "    <tr>\n",
       "      <th>14</th>\n",
       "      <td>2019</td>\n",
       "      <td>27385</td>\n",
       "    </tr>\n",
       "    <tr>\n",
       "      <th>15</th>\n",
       "      <td>2020</td>\n",
       "      <td>27709</td>\n",
       "    </tr>\n",
       "    <tr>\n",
       "      <th>16</th>\n",
       "      <td>2021</td>\n",
       "      <td>30389</td>\n",
       "    </tr>\n",
       "    <tr>\n",
       "      <th>17</th>\n",
       "      <td>2022</td>\n",
       "      <td>32129</td>\n",
       "    </tr>\n",
       "    <tr>\n",
       "      <th>18</th>\n",
       "      <td>2023</td>\n",
       "      <td>32603</td>\n",
       "    </tr>\n",
       "  </tbody>\n",
       "</table>\n",
       "</div>"
      ],
      "text/plain": [
       "    Año Comercial  Número de empresas\n",
       "0            2005               17846\n",
       "1            2006               18222\n",
       "2            2007               18463\n",
       "3            2008               18631\n",
       "4            2009               18929\n",
       "5            2010               19371\n",
       "6            2011               20043\n",
       "7            2012               20653\n",
       "8            2013               21196\n",
       "9            2014               21901\n",
       "10           2015               22413\n",
       "11           2016               22983\n",
       "12           2017               24267\n",
       "13           2018               26399\n",
       "14           2019               27385\n",
       "15           2020               27709\n",
       "16           2021               30389\n",
       "17           2022               32129\n",
       "18           2023               32603"
      ]
     },
     "metadata": {},
     "output_type": "display_data"
    },
    {
     "name": "stdout",
     "output_type": "stream",
     "text": [
      "\n",
      "Tasas de crecimiento anual:\n"
     ]
    },
    {
     "data": {
      "text/html": [
       "<div>\n",
       "<style scoped>\n",
       "    .dataframe tbody tr th:only-of-type {\n",
       "        vertical-align: middle;\n",
       "    }\n",
       "\n",
       "    .dataframe tbody tr th {\n",
       "        vertical-align: top;\n",
       "    }\n",
       "\n",
       "    .dataframe thead th {\n",
       "        text-align: right;\n",
       "    }\n",
       "</style>\n",
       "<table border=\"1\" class=\"dataframe\">\n",
       "  <thead>\n",
       "    <tr style=\"text-align: right;\">\n",
       "      <th></th>\n",
       "      <th>Año Comercial</th>\n",
       "      <th>Número de empresas</th>\n",
       "      <th>Variación Absoluta</th>\n",
       "      <th>Tasa de Crecimiento (%)</th>\n",
       "    </tr>\n",
       "  </thead>\n",
       "  <tbody>\n",
       "    <tr>\n",
       "      <th>1</th>\n",
       "      <td>2006</td>\n",
       "      <td>18222</td>\n",
       "      <td>376.0</td>\n",
       "      <td>2.106915</td>\n",
       "    </tr>\n",
       "    <tr>\n",
       "      <th>2</th>\n",
       "      <td>2007</td>\n",
       "      <td>18463</td>\n",
       "      <td>241.0</td>\n",
       "      <td>1.322577</td>\n",
       "    </tr>\n",
       "    <tr>\n",
       "      <th>3</th>\n",
       "      <td>2008</td>\n",
       "      <td>18631</td>\n",
       "      <td>168.0</td>\n",
       "      <td>0.909928</td>\n",
       "    </tr>\n",
       "    <tr>\n",
       "      <th>4</th>\n",
       "      <td>2009</td>\n",
       "      <td>18929</td>\n",
       "      <td>298.0</td>\n",
       "      <td>1.599485</td>\n",
       "    </tr>\n",
       "    <tr>\n",
       "      <th>5</th>\n",
       "      <td>2010</td>\n",
       "      <td>19371</td>\n",
       "      <td>442.0</td>\n",
       "      <td>2.335041</td>\n",
       "    </tr>\n",
       "    <tr>\n",
       "      <th>6</th>\n",
       "      <td>2011</td>\n",
       "      <td>20043</td>\n",
       "      <td>672.0</td>\n",
       "      <td>3.469103</td>\n",
       "    </tr>\n",
       "    <tr>\n",
       "      <th>7</th>\n",
       "      <td>2012</td>\n",
       "      <td>20653</td>\n",
       "      <td>610.0</td>\n",
       "      <td>3.043457</td>\n",
       "    </tr>\n",
       "    <tr>\n",
       "      <th>8</th>\n",
       "      <td>2013</td>\n",
       "      <td>21196</td>\n",
       "      <td>543.0</td>\n",
       "      <td>2.629158</td>\n",
       "    </tr>\n",
       "    <tr>\n",
       "      <th>9</th>\n",
       "      <td>2014</td>\n",
       "      <td>21901</td>\n",
       "      <td>705.0</td>\n",
       "      <td>3.326099</td>\n",
       "    </tr>\n",
       "    <tr>\n",
       "      <th>10</th>\n",
       "      <td>2015</td>\n",
       "      <td>22413</td>\n",
       "      <td>512.0</td>\n",
       "      <td>2.337793</td>\n",
       "    </tr>\n",
       "    <tr>\n",
       "      <th>11</th>\n",
       "      <td>2016</td>\n",
       "      <td>22983</td>\n",
       "      <td>570.0</td>\n",
       "      <td>2.543167</td>\n",
       "    </tr>\n",
       "    <tr>\n",
       "      <th>12</th>\n",
       "      <td>2017</td>\n",
       "      <td>24267</td>\n",
       "      <td>1284.0</td>\n",
       "      <td>5.586738</td>\n",
       "    </tr>\n",
       "    <tr>\n",
       "      <th>13</th>\n",
       "      <td>2018</td>\n",
       "      <td>26399</td>\n",
       "      <td>2132.0</td>\n",
       "      <td>8.785594</td>\n",
       "    </tr>\n",
       "    <tr>\n",
       "      <th>14</th>\n",
       "      <td>2019</td>\n",
       "      <td>27385</td>\n",
       "      <td>986.0</td>\n",
       "      <td>3.734990</td>\n",
       "    </tr>\n",
       "    <tr>\n",
       "      <th>15</th>\n",
       "      <td>2020</td>\n",
       "      <td>27709</td>\n",
       "      <td>324.0</td>\n",
       "      <td>1.183129</td>\n",
       "    </tr>\n",
       "    <tr>\n",
       "      <th>16</th>\n",
       "      <td>2021</td>\n",
       "      <td>30389</td>\n",
       "      <td>2680.0</td>\n",
       "      <td>9.671948</td>\n",
       "    </tr>\n",
       "    <tr>\n",
       "      <th>17</th>\n",
       "      <td>2022</td>\n",
       "      <td>32129</td>\n",
       "      <td>1740.0</td>\n",
       "      <td>5.725756</td>\n",
       "    </tr>\n",
       "    <tr>\n",
       "      <th>18</th>\n",
       "      <td>2023</td>\n",
       "      <td>32603</td>\n",
       "      <td>474.0</td>\n",
       "      <td>1.475303</td>\n",
       "    </tr>\n",
       "  </tbody>\n",
       "</table>\n",
       "</div>"
      ],
      "text/plain": [
       "    Año Comercial  Número de empresas  Variación Absoluta  \\\n",
       "1            2006               18222               376.0   \n",
       "2            2007               18463               241.0   \n",
       "3            2008               18631               168.0   \n",
       "4            2009               18929               298.0   \n",
       "5            2010               19371               442.0   \n",
       "6            2011               20043               672.0   \n",
       "7            2012               20653               610.0   \n",
       "8            2013               21196               543.0   \n",
       "9            2014               21901               705.0   \n",
       "10           2015               22413               512.0   \n",
       "11           2016               22983               570.0   \n",
       "12           2017               24267              1284.0   \n",
       "13           2018               26399              2132.0   \n",
       "14           2019               27385               986.0   \n",
       "15           2020               27709               324.0   \n",
       "16           2021               30389              2680.0   \n",
       "17           2022               32129              1740.0   \n",
       "18           2023               32603               474.0   \n",
       "\n",
       "    Tasa de Crecimiento (%)  \n",
       "1                  2.106915  \n",
       "2                  1.322577  \n",
       "3                  0.909928  \n",
       "4                  1.599485  \n",
       "5                  2.335041  \n",
       "6                  3.469103  \n",
       "7                  3.043457  \n",
       "8                  2.629158  \n",
       "9                  3.326099  \n",
       "10                 2.337793  \n",
       "11                 2.543167  \n",
       "12                 5.586738  \n",
       "13                 8.785594  \n",
       "14                 3.734990  \n",
       "15                 1.183129  \n",
       "16                 9.671948  \n",
       "17                 5.725756  \n",
       "18                 1.475303  "
      ]
     },
     "metadata": {},
     "output_type": "display_data"
    }
   ],
   "source": [
    "# Convertir el año comercial a numérico\n",
    "df_los_rios['Año Comercial'] = pd.to_numeric(df_los_rios['Año Comercial'], errors='coerce')\n",
    "\n",
    "# Agrupar por año\n",
    "evolucion_temporal = df_los_rios.groupby('Año Comercial')['Número de empresas'].sum().reset_index()\n",
    "evolucion_temporal = evolucion_temporal.sort_values('Año Comercial')\n",
    "\n",
    "# Crear gráfico de líneas interactivo con Plotly\n",
    "fig = px.line(\n",
    "    evolucion_temporal,\n",
    "    x='Año Comercial',\n",
    "    y='Número de empresas',\n",
    "    markers=True,\n",
    "    labels={'Año Comercial': 'Año', 'Número de empresas': 'Número de Empresas'},\n",
    "    height=600,  # Más alto\n",
    "    width=1200,  # Más ancho para mejor visualización\n",
    ")\n",
    "\n",
    "# Agregar texto con valores\n",
    "fig.update_traces(\n",
    "    text=evolucion_temporal['Número de empresas'].apply(lambda x: f\"{x:,.0f}\"),\n",
    "    textposition=\"top center\",\n",
    "    line=dict(color='#4477AA', width=3),  # Color daltonismo científico\n",
    "    marker=dict(size=10, color='#4477AA'),\n",
    "    textfont=dict(family='Georgia, serif', size=10, color='#1e293b'),\n",
    ")\n",
    "\n",
    "# Aplicar estilo \"The Economist\" personalizado\n",
    "fig.update_layout(\n",
    "    font=dict(family='Georgia, serif', color='#1e293b'),\n",
    "    title=dict(\n",
    "        text='<span style=\"border-bottom: 5px solid #DC143C; padding-bottom: 5px;\">Evolución del Número de Empresas en la Región de Los Ríos</span>',\n",
    "        font=dict(size=18, family='Georgia, serif', color='#1e293b'),\n",
    "        x=0.01,  # Título alineado a la izquierda\n",
    "        y=0.95\n",
    "    ),\n",
    "    xaxis=dict(\n",
    "        title=dict(text='Año', font=dict(family='Georgia, serif', size=14)),\n",
    "        tickfont=dict(family='Georgia, serif'),\n",
    "        showgrid=False,  # Eliminar grid lines en X\n",
    "        gridcolor='lightgray',\n",
    "        zeroline=False,\n",
    "    ),\n",
    "    yaxis=dict(\n",
    "        title=dict(text='Número de Empresas', font=dict(family='Georgia, serif', size=14)),\n",
    "        tickfont=dict(family='Georgia, serif'),\n",
    "        showgrid=True,  # Mantener grid lines en Y\n",
    "        gridcolor='lightgray',\n",
    "        zeroline=False,\n",
    "    ),\n",
    "    plot_bgcolor='white',\n",
    "    paper_bgcolor='white',\n",
    "    margin=dict(l=80, r=40, t=100, b=80),\n",
    ")\n",
    "\n",
    "# Mostrar el gráfico\n",
    "fig.show()\n",
    "\n",
    "# Tabla con la evolución temporal\n",
    "print(\"Evolución del número de empresas por año en la Región de Los Ríos:\")\n",
    "display(evolucion_temporal)\n",
    "\n",
    "# Calcular tasas de crecimiento\n",
    "evolucion_temporal['Variación Absoluta'] = evolucion_temporal['Número de empresas'].diff()\n",
    "evolucion_temporal['Tasa de Crecimiento (%)'] = evolucion_temporal['Número de empresas'].pct_change() * 100\n",
    "\n",
    "print(\"\\nTasas de crecimiento anual:\")\n",
    "display(evolucion_temporal[['Año Comercial', 'Número de empresas', 'Variación Absoluta', 'Tasa de Crecimiento (%)']].dropna())"
   ]
  },
  {
   "cell_type": "markdown",
   "id": "ebf40448",
   "metadata": {},
   "source": [
    "## 5. Análisis por Rubro Económico\n",
    "\n",
    "En esta sección, analizaremos la distribución de empresas por rubro económico en la Región de Los Ríos."
   ]
  },
  {
   "cell_type": "code",
   "execution_count": 33,
   "id": "9bfa7706",
   "metadata": {},
   "outputs": [
    {
     "name": "stdout",
     "output_type": "stream",
     "text": [
      "Top 10 rubros económicos en la Región de Los Ríos:\n"
     ]
    },
    {
     "data": {
      "text/html": [
       "<div>\n",
       "<style scoped>\n",
       "    .dataframe tbody tr th:only-of-type {\n",
       "        vertical-align: middle;\n",
       "    }\n",
       "\n",
       "    .dataframe tbody tr th {\n",
       "        vertical-align: top;\n",
       "    }\n",
       "\n",
       "    .dataframe thead th {\n",
       "        text-align: right;\n",
       "    }\n",
       "</style>\n",
       "<table border=\"1\" class=\"dataframe\">\n",
       "  <thead>\n",
       "    <tr style=\"text-align: right;\">\n",
       "      <th></th>\n",
       "      <th>rubro</th>\n",
       "      <th>empresas</th>\n",
       "      <th>porcentaje</th>\n",
       "      <th>rubro_limpio</th>\n",
       "      <th>codigo</th>\n",
       "      <th>descripcion</th>\n",
       "    </tr>\n",
       "  </thead>\n",
       "  <tbody>\n",
       "    <tr>\n",
       "      <th>0</th>\n",
       "      <td>G - Comercio al por mayor y al por menor; repa...</td>\n",
       "      <td>124481</td>\n",
       "      <td>28.192974</td>\n",
       "      <td>G - Comercio al por mayor y al por menor; repa...</td>\n",
       "      <td>G</td>\n",
       "      <td>Comercio al por mayor y al por menor; reparaci...</td>\n",
       "    </tr>\n",
       "    <tr>\n",
       "      <th>1</th>\n",
       "      <td>A - Agricultura, ganaderÃ­a, silvicultura y pesca</td>\n",
       "      <td>80296</td>\n",
       "      <td>18.185771</td>\n",
       "      <td>A - Agricultura, ganadería, silvicultura y pesca</td>\n",
       "      <td>A</td>\n",
       "      <td>Agricultura, ganadería, silvicultura y pesca</td>\n",
       "    </tr>\n",
       "    <tr>\n",
       "      <th>2</th>\n",
       "      <td>H - Transporte y almacenamiento</td>\n",
       "      <td>43143</td>\n",
       "      <td>9.771206</td>\n",
       "      <td>H - Transporte y almacenamiento</td>\n",
       "      <td>H</td>\n",
       "      <td>Transporte y almacenamiento</td>\n",
       "    </tr>\n",
       "    <tr>\n",
       "      <th>3</th>\n",
       "      <td>F - ConstrucciÃ³n</td>\n",
       "      <td>36417</td>\n",
       "      <td>8.247873</td>\n",
       "      <td>F - Construcción</td>\n",
       "      <td>F</td>\n",
       "      <td>Construcción</td>\n",
       "    </tr>\n",
       "    <tr>\n",
       "      <th>4</th>\n",
       "      <td>C - Industria manufacturera</td>\n",
       "      <td>33625</td>\n",
       "      <td>7.615530</td>\n",
       "      <td>C - Industria manufacturera</td>\n",
       "      <td>C</td>\n",
       "      <td>Industria manufacturera</td>\n",
       "    </tr>\n",
       "    <tr>\n",
       "      <th>5</th>\n",
       "      <td>I - Actividades de alojamiento y de servicio d...</td>\n",
       "      <td>32561</td>\n",
       "      <td>7.374550</td>\n",
       "      <td>I - Actividades de alojamiento y de servicio d...</td>\n",
       "      <td>I</td>\n",
       "      <td>Actividades de alojamiento y de servicio de co...</td>\n",
       "    </tr>\n",
       "    <tr>\n",
       "      <th>6</th>\n",
       "      <td>N - Actividades de servicios administrativos y...</td>\n",
       "      <td>14974</td>\n",
       "      <td>3.391374</td>\n",
       "      <td>N - Actividades de servicios administrativos y...</td>\n",
       "      <td>N</td>\n",
       "      <td>Actividades de servicios administrativos y de ...</td>\n",
       "    </tr>\n",
       "    <tr>\n",
       "      <th>7</th>\n",
       "      <td>S - Otras actividades de servicios</td>\n",
       "      <td>14505</td>\n",
       "      <td>3.285153</td>\n",
       "      <td>S - Otras actividades de servicios</td>\n",
       "      <td>S</td>\n",
       "      <td>Otras actividades de servicios</td>\n",
       "    </tr>\n",
       "    <tr>\n",
       "      <th>8</th>\n",
       "      <td>M - Actividades profesionales, cientÃ­ficas y ...</td>\n",
       "      <td>13884</td>\n",
       "      <td>3.144506</td>\n",
       "      <td>M - Actividades profesionales, científicas y t...</td>\n",
       "      <td>M</td>\n",
       "      <td>Actividades profesionales, científicas y técnicas</td>\n",
       "    </tr>\n",
       "    <tr>\n",
       "      <th>9</th>\n",
       "      <td>L - Actividades inmobiliarias</td>\n",
       "      <td>10865</td>\n",
       "      <td>2.460750</td>\n",
       "      <td>L - Actividades inmobiliarias</td>\n",
       "      <td>L</td>\n",
       "      <td>Actividades inmobiliarias</td>\n",
       "    </tr>\n",
       "  </tbody>\n",
       "</table>\n",
       "</div>"
      ],
      "text/plain": [
       "                                               rubro  empresas  porcentaje  \\\n",
       "0  G - Comercio al por mayor y al por menor; repa...    124481   28.192974   \n",
       "1  A - Agricultura, ganaderÃ­a, silvicultura y pesca     80296   18.185771   \n",
       "2                    H - Transporte y almacenamiento     43143    9.771206   \n",
       "3                                  F - ConstrucciÃ³n     36417    8.247873   \n",
       "4                        C - Industria manufacturera     33625    7.615530   \n",
       "5  I - Actividades de alojamiento y de servicio d...     32561    7.374550   \n",
       "6  N - Actividades de servicios administrativos y...     14974    3.391374   \n",
       "7                 S - Otras actividades de servicios     14505    3.285153   \n",
       "8  M - Actividades profesionales, cientÃ­ficas y ...     13884    3.144506   \n",
       "9                      L - Actividades inmobiliarias     10865    2.460750   \n",
       "\n",
       "                                        rubro_limpio codigo  \\\n",
       "0  G - Comercio al por mayor y al por menor; repa...      G   \n",
       "1   A - Agricultura, ganadería, silvicultura y pesca      A   \n",
       "2                    H - Transporte y almacenamiento      H   \n",
       "3                                   F - Construcción      F   \n",
       "4                        C - Industria manufacturera      C   \n",
       "5  I - Actividades de alojamiento y de servicio d...      I   \n",
       "6  N - Actividades de servicios administrativos y...      N   \n",
       "7                 S - Otras actividades de servicios      S   \n",
       "8  M - Actividades profesionales, científicas y t...      M   \n",
       "9                      L - Actividades inmobiliarias      L   \n",
       "\n",
       "                                         descripcion  \n",
       "0  Comercio al por mayor y al por menor; reparaci...  \n",
       "1       Agricultura, ganadería, silvicultura y pesca  \n",
       "2                        Transporte y almacenamiento  \n",
       "3                                       Construcción  \n",
       "4                            Industria manufacturera  \n",
       "5  Actividades de alojamiento y de servicio de co...  \n",
       "6  Actividades de servicios administrativos y de ...  \n",
       "7                     Otras actividades de servicios  \n",
       "8  Actividades profesionales, científicas y técnicas  \n",
       "9                          Actividades inmobiliarias  "
      ]
     },
     "metadata": {},
     "output_type": "display_data"
    },
    {
     "data": {
      "application/vnd.plotly.v1+json": {
       "config": {
        "plotlyServerURL": "https://plot.ly"
       },
       "data": [
        {
         "domain": {
          "x": [
           0,
           1
          ],
          "y": [
           0,
           1
          ]
         },
         "hovertemplate": "<b>%{label}</b><br>Empresas: %{value:,.0f}<br>Porcentaje: %{percent}<extra></extra>",
         "insidetextfont": {
          "family": "Georgia, serif",
          "size": 12
         },
         "labels": [
          "Comercio y reparación automotriz.",
          "Agricultura y ganadería.",
          "Transporte y almacenamiento.",
          "Construcción.",
          "Industria manufacturera.",
          "Actividades de alojamiento y de servicio de comidas.",
          "Servicios administrativos.",
          "Otras actividades de servicios.",
          "Servicios profesionales.",
          "Inmobiliarias.",
          "Rubros económicos varios."
         ],
         "legendgroup": "",
         "marker": {
          "line": {
           "color": "white",
           "width": 1.5
          }
         },
         "name": "",
         "pull": [
          0.05,
          0,
          0,
          0,
          0,
          0,
          0,
          0,
          0,
          0,
          0
         ],
         "rotation": 90,
         "showlegend": true,
         "textinfo": "percent",
         "textposition": "inside",
         "type": "pie",
         "values": {
          "bdata": "QeYBAKg5AQCHqAAAQY4AAFmDAAAxfwAAfjoAAKk4AAA8NgAAcSoAAK2PAAA=",
          "dtype": "i4"
         }
        }
       ],
       "layout": {
        "font": {
         "color": "#1e293b",
         "family": "Georgia, serif"
        },
        "height": 700,
        "legend": {
         "font": {
          "family": "Georgia, serif",
          "size": 11
         },
         "itemwidth": 30,
         "orientation": "v",
         "tracegroupgap": 0,
         "x": 1.15,
         "xanchor": "right",
         "y": 0.5,
         "yanchor": "middle"
        },
        "margin": {
         "b": 80,
         "l": 80,
         "r": 40,
         "t": 100
        },
        "paper_bgcolor": "white",
        "piecolorway": [
         "#4477AA",
         "#66CCEE",
         "#228833",
         "#CCBB44",
         "#EE6677",
         "#AA3377",
         "#BBBBBB",
         "#99DDFF",
         "#44BB99",
         "#DDCC77",
         "#CC6677"
        ],
        "plot_bgcolor": "white",
        "template": {
         "data": {
          "bar": [
           {
            "error_x": {
             "color": "#2a3f5f"
            },
            "error_y": {
             "color": "#2a3f5f"
            },
            "marker": {
             "line": {
              "color": "#E5ECF6",
              "width": 0.5
             },
             "pattern": {
              "fillmode": "overlay",
              "size": 10,
              "solidity": 0.2
             }
            },
            "type": "bar"
           }
          ],
          "barpolar": [
           {
            "marker": {
             "line": {
              "color": "#E5ECF6",
              "width": 0.5
             },
             "pattern": {
              "fillmode": "overlay",
              "size": 10,
              "solidity": 0.2
             }
            },
            "type": "barpolar"
           }
          ],
          "carpet": [
           {
            "aaxis": {
             "endlinecolor": "#2a3f5f",
             "gridcolor": "white",
             "linecolor": "white",
             "minorgridcolor": "white",
             "startlinecolor": "#2a3f5f"
            },
            "baxis": {
             "endlinecolor": "#2a3f5f",
             "gridcolor": "white",
             "linecolor": "white",
             "minorgridcolor": "white",
             "startlinecolor": "#2a3f5f"
            },
            "type": "carpet"
           }
          ],
          "choropleth": [
           {
            "colorbar": {
             "outlinewidth": 0,
             "ticks": ""
            },
            "type": "choropleth"
           }
          ],
          "contour": [
           {
            "colorbar": {
             "outlinewidth": 0,
             "ticks": ""
            },
            "colorscale": [
             [
              0,
              "#0d0887"
             ],
             [
              0.1111111111111111,
              "#46039f"
             ],
             [
              0.2222222222222222,
              "#7201a8"
             ],
             [
              0.3333333333333333,
              "#9c179e"
             ],
             [
              0.4444444444444444,
              "#bd3786"
             ],
             [
              0.5555555555555556,
              "#d8576b"
             ],
             [
              0.6666666666666666,
              "#ed7953"
             ],
             [
              0.7777777777777778,
              "#fb9f3a"
             ],
             [
              0.8888888888888888,
              "#fdca26"
             ],
             [
              1,
              "#f0f921"
             ]
            ],
            "type": "contour"
           }
          ],
          "contourcarpet": [
           {
            "colorbar": {
             "outlinewidth": 0,
             "ticks": ""
            },
            "type": "contourcarpet"
           }
          ],
          "heatmap": [
           {
            "colorbar": {
             "outlinewidth": 0,
             "ticks": ""
            },
            "colorscale": [
             [
              0,
              "#0d0887"
             ],
             [
              0.1111111111111111,
              "#46039f"
             ],
             [
              0.2222222222222222,
              "#7201a8"
             ],
             [
              0.3333333333333333,
              "#9c179e"
             ],
             [
              0.4444444444444444,
              "#bd3786"
             ],
             [
              0.5555555555555556,
              "#d8576b"
             ],
             [
              0.6666666666666666,
              "#ed7953"
             ],
             [
              0.7777777777777778,
              "#fb9f3a"
             ],
             [
              0.8888888888888888,
              "#fdca26"
             ],
             [
              1,
              "#f0f921"
             ]
            ],
            "type": "heatmap"
           }
          ],
          "histogram": [
           {
            "marker": {
             "pattern": {
              "fillmode": "overlay",
              "size": 10,
              "solidity": 0.2
             }
            },
            "type": "histogram"
           }
          ],
          "histogram2d": [
           {
            "colorbar": {
             "outlinewidth": 0,
             "ticks": ""
            },
            "colorscale": [
             [
              0,
              "#0d0887"
             ],
             [
              0.1111111111111111,
              "#46039f"
             ],
             [
              0.2222222222222222,
              "#7201a8"
             ],
             [
              0.3333333333333333,
              "#9c179e"
             ],
             [
              0.4444444444444444,
              "#bd3786"
             ],
             [
              0.5555555555555556,
              "#d8576b"
             ],
             [
              0.6666666666666666,
              "#ed7953"
             ],
             [
              0.7777777777777778,
              "#fb9f3a"
             ],
             [
              0.8888888888888888,
              "#fdca26"
             ],
             [
              1,
              "#f0f921"
             ]
            ],
            "type": "histogram2d"
           }
          ],
          "histogram2dcontour": [
           {
            "colorbar": {
             "outlinewidth": 0,
             "ticks": ""
            },
            "colorscale": [
             [
              0,
              "#0d0887"
             ],
             [
              0.1111111111111111,
              "#46039f"
             ],
             [
              0.2222222222222222,
              "#7201a8"
             ],
             [
              0.3333333333333333,
              "#9c179e"
             ],
             [
              0.4444444444444444,
              "#bd3786"
             ],
             [
              0.5555555555555556,
              "#d8576b"
             ],
             [
              0.6666666666666666,
              "#ed7953"
             ],
             [
              0.7777777777777778,
              "#fb9f3a"
             ],
             [
              0.8888888888888888,
              "#fdca26"
             ],
             [
              1,
              "#f0f921"
             ]
            ],
            "type": "histogram2dcontour"
           }
          ],
          "mesh3d": [
           {
            "colorbar": {
             "outlinewidth": 0,
             "ticks": ""
            },
            "type": "mesh3d"
           }
          ],
          "parcoords": [
           {
            "line": {
             "colorbar": {
              "outlinewidth": 0,
              "ticks": ""
             }
            },
            "type": "parcoords"
           }
          ],
          "pie": [
           {
            "automargin": true,
            "type": "pie"
           }
          ],
          "scatter": [
           {
            "fillpattern": {
             "fillmode": "overlay",
             "size": 10,
             "solidity": 0.2
            },
            "type": "scatter"
           }
          ],
          "scatter3d": [
           {
            "line": {
             "colorbar": {
              "outlinewidth": 0,
              "ticks": ""
             }
            },
            "marker": {
             "colorbar": {
              "outlinewidth": 0,
              "ticks": ""
             }
            },
            "type": "scatter3d"
           }
          ],
          "scattercarpet": [
           {
            "marker": {
             "colorbar": {
              "outlinewidth": 0,
              "ticks": ""
             }
            },
            "type": "scattercarpet"
           }
          ],
          "scattergeo": [
           {
            "marker": {
             "colorbar": {
              "outlinewidth": 0,
              "ticks": ""
             }
            },
            "type": "scattergeo"
           }
          ],
          "scattergl": [
           {
            "marker": {
             "colorbar": {
              "outlinewidth": 0,
              "ticks": ""
             }
            },
            "type": "scattergl"
           }
          ],
          "scattermap": [
           {
            "marker": {
             "colorbar": {
              "outlinewidth": 0,
              "ticks": ""
             }
            },
            "type": "scattermap"
           }
          ],
          "scattermapbox": [
           {
            "marker": {
             "colorbar": {
              "outlinewidth": 0,
              "ticks": ""
             }
            },
            "type": "scattermapbox"
           }
          ],
          "scatterpolar": [
           {
            "marker": {
             "colorbar": {
              "outlinewidth": 0,
              "ticks": ""
             }
            },
            "type": "scatterpolar"
           }
          ],
          "scatterpolargl": [
           {
            "marker": {
             "colorbar": {
              "outlinewidth": 0,
              "ticks": ""
             }
            },
            "type": "scatterpolargl"
           }
          ],
          "scatterternary": [
           {
            "marker": {
             "colorbar": {
              "outlinewidth": 0,
              "ticks": ""
             }
            },
            "type": "scatterternary"
           }
          ],
          "surface": [
           {
            "colorbar": {
             "outlinewidth": 0,
             "ticks": ""
            },
            "colorscale": [
             [
              0,
              "#0d0887"
             ],
             [
              0.1111111111111111,
              "#46039f"
             ],
             [
              0.2222222222222222,
              "#7201a8"
             ],
             [
              0.3333333333333333,
              "#9c179e"
             ],
             [
              0.4444444444444444,
              "#bd3786"
             ],
             [
              0.5555555555555556,
              "#d8576b"
             ],
             [
              0.6666666666666666,
              "#ed7953"
             ],
             [
              0.7777777777777778,
              "#fb9f3a"
             ],
             [
              0.8888888888888888,
              "#fdca26"
             ],
             [
              1,
              "#f0f921"
             ]
            ],
            "type": "surface"
           }
          ],
          "table": [
           {
            "cells": {
             "fill": {
              "color": "#EBF0F8"
             },
             "line": {
              "color": "white"
             }
            },
            "header": {
             "fill": {
              "color": "#C8D4E3"
             },
             "line": {
              "color": "white"
             }
            },
            "type": "table"
           }
          ]
         },
         "layout": {
          "annotationdefaults": {
           "arrowcolor": "#2a3f5f",
           "arrowhead": 0,
           "arrowwidth": 1
          },
          "autotypenumbers": "strict",
          "coloraxis": {
           "colorbar": {
            "outlinewidth": 0,
            "ticks": ""
           }
          },
          "colorscale": {
           "diverging": [
            [
             0,
             "#8e0152"
            ],
            [
             0.1,
             "#c51b7d"
            ],
            [
             0.2,
             "#de77ae"
            ],
            [
             0.3,
             "#f1b6da"
            ],
            [
             0.4,
             "#fde0ef"
            ],
            [
             0.5,
             "#f7f7f7"
            ],
            [
             0.6,
             "#e6f5d0"
            ],
            [
             0.7,
             "#b8e186"
            ],
            [
             0.8,
             "#7fbc41"
            ],
            [
             0.9,
             "#4d9221"
            ],
            [
             1,
             "#276419"
            ]
           ],
           "sequential": [
            [
             0,
             "#0d0887"
            ],
            [
             0.1111111111111111,
             "#46039f"
            ],
            [
             0.2222222222222222,
             "#7201a8"
            ],
            [
             0.3333333333333333,
             "#9c179e"
            ],
            [
             0.4444444444444444,
             "#bd3786"
            ],
            [
             0.5555555555555556,
             "#d8576b"
            ],
            [
             0.6666666666666666,
             "#ed7953"
            ],
            [
             0.7777777777777778,
             "#fb9f3a"
            ],
            [
             0.8888888888888888,
             "#fdca26"
            ],
            [
             1,
             "#f0f921"
            ]
           ],
           "sequentialminus": [
            [
             0,
             "#0d0887"
            ],
            [
             0.1111111111111111,
             "#46039f"
            ],
            [
             0.2222222222222222,
             "#7201a8"
            ],
            [
             0.3333333333333333,
             "#9c179e"
            ],
            [
             0.4444444444444444,
             "#bd3786"
            ],
            [
             0.5555555555555556,
             "#d8576b"
            ],
            [
             0.6666666666666666,
             "#ed7953"
            ],
            [
             0.7777777777777778,
             "#fb9f3a"
            ],
            [
             0.8888888888888888,
             "#fdca26"
            ],
            [
             1,
             "#f0f921"
            ]
           ]
          },
          "colorway": [
           "#636efa",
           "#EF553B",
           "#00cc96",
           "#ab63fa",
           "#FFA15A",
           "#19d3f3",
           "#FF6692",
           "#B6E880",
           "#FF97FF",
           "#FECB52"
          ],
          "font": {
           "color": "#2a3f5f"
          },
          "geo": {
           "bgcolor": "white",
           "lakecolor": "white",
           "landcolor": "#E5ECF6",
           "showlakes": true,
           "showland": true,
           "subunitcolor": "white"
          },
          "hoverlabel": {
           "align": "left"
          },
          "hovermode": "closest",
          "mapbox": {
           "style": "light"
          },
          "paper_bgcolor": "white",
          "plot_bgcolor": "#E5ECF6",
          "polar": {
           "angularaxis": {
            "gridcolor": "white",
            "linecolor": "white",
            "ticks": ""
           },
           "bgcolor": "#E5ECF6",
           "radialaxis": {
            "gridcolor": "white",
            "linecolor": "white",
            "ticks": ""
           }
          },
          "scene": {
           "xaxis": {
            "backgroundcolor": "#E5ECF6",
            "gridcolor": "white",
            "gridwidth": 2,
            "linecolor": "white",
            "showbackground": true,
            "ticks": "",
            "zerolinecolor": "white"
           },
           "yaxis": {
            "backgroundcolor": "#E5ECF6",
            "gridcolor": "white",
            "gridwidth": 2,
            "linecolor": "white",
            "showbackground": true,
            "ticks": "",
            "zerolinecolor": "white"
           },
           "zaxis": {
            "backgroundcolor": "#E5ECF6",
            "gridcolor": "white",
            "gridwidth": 2,
            "linecolor": "white",
            "showbackground": true,
            "ticks": "",
            "zerolinecolor": "white"
           }
          },
          "shapedefaults": {
           "line": {
            "color": "#2a3f5f"
           }
          },
          "ternary": {
           "aaxis": {
            "gridcolor": "white",
            "linecolor": "white",
            "ticks": ""
           },
           "baxis": {
            "gridcolor": "white",
            "linecolor": "white",
            "ticks": ""
           },
           "bgcolor": "#E5ECF6",
           "caxis": {
            "gridcolor": "white",
            "linecolor": "white",
            "ticks": ""
           }
          },
          "title": {
           "x": 0.05
          },
          "xaxis": {
           "automargin": true,
           "gridcolor": "white",
           "linecolor": "white",
           "ticks": "",
           "title": {
            "standoff": 15
           },
           "zerolinecolor": "white",
           "zerolinewidth": 2
          },
          "yaxis": {
           "automargin": true,
           "gridcolor": "white",
           "linecolor": "white",
           "ticks": "",
           "title": {
            "standoff": 15
           },
           "zerolinecolor": "white",
           "zerolinewidth": 2
          }
         }
        },
        "title": {
         "font": {
          "color": "#1e293b",
          "family": "Georgia, serif",
          "size": 18
         },
         "text": "<span style=\"border-bottom: 5px solid #DC143C; padding-bottom: 5px;\">Distribución de Empresas por Rubro Económico en la Región de Los Ríos</span>",
         "x": 0.01,
         "y": 0.95
        },
        "width": 1100
       }
      }
     },
     "metadata": {},
     "output_type": "display_data"
    },
    {
     "data": {
      "application/vnd.plotly.v1+json": {
       "config": {
        "plotlyServerURL": "https://plot.ly"
       },
       "data": [
        {
         "customdata": {
          "bdata": "DcUGt2YxPEAriDq2ji8yQAytlnnbiiNAA91AQOl+IECnueFhTXYeQFpczCWKfx1AbbgChYghC0AEd8cW/kcKQM/R87vyJwlAcmT/2Z2vA0Bj/se6Sf/8PyvnzW7RwPQ/uH++HEqU9D/i0GPvJdXyPwQLLv0/F+k/",
          "dtype": "f8"
         },
         "hovertemplate": "<b>%{y}</b><br>Empresas: %{x:,.0f}<br>Porcentaje: %{customdata:.1f}%<extra></extra>",
         "legendgroup": "Comercio y reparación<br>automotriz.",
         "marker": {
          "color": "#4477AA",
          "pattern": {
           "shape": ""
          }
         },
         "name": "Comercio y reparación<br>automotriz.",
         "orientation": "h",
         "showlegend": false,
         "text": [
          "124,481<br>(28.2%)"
         ],
         "textfont": {
          "family": "Georgia, serif",
          "size": 11
         },
         "textposition": "outside",
         "type": "bar",
         "x": {
          "bdata": "QeYBAA==",
          "dtype": "i4"
         },
         "xaxis": "x",
         "y": [
          "Comercio y reparación<br>automotriz."
         ],
         "yaxis": "y"
        },
        {
         "customdata": {
          "bdata": "DcUGt2YxPEAriDq2ji8yQAytlnnbiiNAA91AQOl+IECnueFhTXYeQFpczCWKfx1AbbgChYghC0AEd8cW/kcKQM/R87vyJwlAcmT/2Z2vA0Bj/se6Sf/8PyvnzW7RwPQ/uH++HEqU9D/i0GPvJdXyPwQLLv0/F+k/",
          "dtype": "f8"
         },
         "hovertemplate": "<b>%{y}</b><br>Empresas: %{x:,.0f}<br>Porcentaje: %{customdata:.1f}%<extra></extra>",
         "legendgroup": "Agricultura y ganadería.",
         "marker": {
          "color": "#66CCEE",
          "pattern": {
           "shape": ""
          }
         },
         "name": "Agricultura y ganadería.",
         "orientation": "h",
         "showlegend": false,
         "text": [
          "80,296<br>(18.2%)"
         ],
         "textfont": {
          "family": "Georgia, serif",
          "size": 11
         },
         "textposition": "outside",
         "type": "bar",
         "x": {
          "bdata": "qDkBAA==",
          "dtype": "i4"
         },
         "xaxis": "x",
         "y": [
          "Agricultura y ganadería."
         ],
         "yaxis": "y"
        },
        {
         "customdata": {
          "bdata": "DcUGt2YxPEAriDq2ji8yQAytlnnbiiNAA91AQOl+IECnueFhTXYeQFpczCWKfx1AbbgChYghC0AEd8cW/kcKQM/R87vyJwlAcmT/2Z2vA0Bj/se6Sf/8PyvnzW7RwPQ/uH++HEqU9D/i0GPvJdXyPwQLLv0/F+k/",
          "dtype": "f8"
         },
         "hovertemplate": "<b>%{y}</b><br>Empresas: %{x:,.0f}<br>Porcentaje: %{customdata:.1f}%<extra></extra>",
         "legendgroup": "Transporte y<br>almacenamiento.",
         "marker": {
          "color": "#228833",
          "pattern": {
           "shape": ""
          }
         },
         "name": "Transporte y<br>almacenamiento.",
         "orientation": "h",
         "showlegend": false,
         "text": [
          "43,143<br>(9.8%)"
         ],
         "textfont": {
          "family": "Georgia, serif",
          "size": 11
         },
         "textposition": "outside",
         "type": "bar",
         "x": {
          "bdata": "h6gAAA==",
          "dtype": "i4"
         },
         "xaxis": "x",
         "y": [
          "Transporte y<br>almacenamiento."
         ],
         "yaxis": "y"
        },
        {
         "customdata": {
          "bdata": "DcUGt2YxPEAriDq2ji8yQAytlnnbiiNAA91AQOl+IECnueFhTXYeQFpczCWKfx1AbbgChYghC0AEd8cW/kcKQM/R87vyJwlAcmT/2Z2vA0Bj/se6Sf/8PyvnzW7RwPQ/uH++HEqU9D/i0GPvJdXyPwQLLv0/F+k/",
          "dtype": "f8"
         },
         "hovertemplate": "<b>%{y}</b><br>Empresas: %{x:,.0f}<br>Porcentaje: %{customdata:.1f}%<extra></extra>",
         "legendgroup": "Construcción.",
         "marker": {
          "color": "#CCBB44",
          "pattern": {
           "shape": ""
          }
         },
         "name": "Construcción.",
         "orientation": "h",
         "showlegend": false,
         "text": [
          "36,417<br>(8.2%)"
         ],
         "textfont": {
          "family": "Georgia, serif",
          "size": 11
         },
         "textposition": "outside",
         "type": "bar",
         "x": {
          "bdata": "QY4AAA==",
          "dtype": "i4"
         },
         "xaxis": "x",
         "y": [
          "Construcción."
         ],
         "yaxis": "y"
        },
        {
         "customdata": {
          "bdata": "DcUGt2YxPEAriDq2ji8yQAytlnnbiiNAA91AQOl+IECnueFhTXYeQFpczCWKfx1AbbgChYghC0AEd8cW/kcKQM/R87vyJwlAcmT/2Z2vA0Bj/se6Sf/8PyvnzW7RwPQ/uH++HEqU9D/i0GPvJdXyPwQLLv0/F+k/",
          "dtype": "f8"
         },
         "hovertemplate": "<b>%{y}</b><br>Empresas: %{x:,.0f}<br>Porcentaje: %{customdata:.1f}%<extra></extra>",
         "legendgroup": "Industria manufacturera.",
         "marker": {
          "color": "#EE6677",
          "pattern": {
           "shape": ""
          }
         },
         "name": "Industria manufacturera.",
         "orientation": "h",
         "showlegend": false,
         "text": [
          "33,625<br>(7.6%)"
         ],
         "textfont": {
          "family": "Georgia, serif",
          "size": 11
         },
         "textposition": "outside",
         "type": "bar",
         "x": {
          "bdata": "WYMAAA==",
          "dtype": "i4"
         },
         "xaxis": "x",
         "y": [
          "Industria manufacturera."
         ],
         "yaxis": "y"
        },
        {
         "customdata": {
          "bdata": "DcUGt2YxPEAriDq2ji8yQAytlnnbiiNAA91AQOl+IECnueFhTXYeQFpczCWKfx1AbbgChYghC0AEd8cW/kcKQM/R87vyJwlAcmT/2Z2vA0Bj/se6Sf/8PyvnzW7RwPQ/uH++HEqU9D/i0GPvJdXyPwQLLv0/F+k/",
          "dtype": "f8"
         },
         "hovertemplate": "<b>%{y}</b><br>Empresas: %{x:,.0f}<br>Porcentaje: %{customdata:.1f}%<extra></extra>",
         "legendgroup": "Actividades de<br>alojamiento y de servicio<br>de comidas.",
         "marker": {
          "color": "#AA3377",
          "pattern": {
           "shape": ""
          }
         },
         "name": "Actividades de<br>alojamiento y de servicio<br>de comidas.",
         "orientation": "h",
         "showlegend": false,
         "text": [
          "32,561<br>(7.4%)"
         ],
         "textfont": {
          "family": "Georgia, serif",
          "size": 11
         },
         "textposition": "outside",
         "type": "bar",
         "x": {
          "bdata": "MX8=",
          "dtype": "i2"
         },
         "xaxis": "x",
         "y": [
          "Actividades de<br>alojamiento y de servicio<br>de comidas."
         ],
         "yaxis": "y"
        },
        {
         "customdata": {
          "bdata": "DcUGt2YxPEAriDq2ji8yQAytlnnbiiNAA91AQOl+IECnueFhTXYeQFpczCWKfx1AbbgChYghC0AEd8cW/kcKQM/R87vyJwlAcmT/2Z2vA0Bj/se6Sf/8PyvnzW7RwPQ/uH++HEqU9D/i0GPvJdXyPwQLLv0/F+k/",
          "dtype": "f8"
         },
         "hovertemplate": "<b>%{y}</b><br>Empresas: %{x:,.0f}<br>Porcentaje: %{customdata:.1f}%<extra></extra>",
         "legendgroup": "Servicios administrativos.",
         "marker": {
          "color": "#BBBBBB",
          "pattern": {
           "shape": ""
          }
         },
         "name": "Servicios administrativos.",
         "orientation": "h",
         "showlegend": false,
         "text": [
          "14,974<br>(3.4%)"
         ],
         "textfont": {
          "family": "Georgia, serif",
          "size": 11
         },
         "textposition": "outside",
         "type": "bar",
         "x": {
          "bdata": "fjo=",
          "dtype": "i2"
         },
         "xaxis": "x",
         "y": [
          "Servicios administrativos."
         ],
         "yaxis": "y"
        },
        {
         "customdata": {
          "bdata": "DcUGt2YxPEAriDq2ji8yQAytlnnbiiNAA91AQOl+IECnueFhTXYeQFpczCWKfx1AbbgChYghC0AEd8cW/kcKQM/R87vyJwlAcmT/2Z2vA0Bj/se6Sf/8PyvnzW7RwPQ/uH++HEqU9D/i0GPvJdXyPwQLLv0/F+k/",
          "dtype": "f8"
         },
         "hovertemplate": "<b>%{y}</b><br>Empresas: %{x:,.0f}<br>Porcentaje: %{customdata:.1f}%<extra></extra>",
         "legendgroup": "Otras actividades de<br>servicios.",
         "marker": {
          "color": "#99DDFF",
          "pattern": {
           "shape": ""
          }
         },
         "name": "Otras actividades de<br>servicios.",
         "orientation": "h",
         "showlegend": false,
         "text": [
          "14,505<br>(3.3%)"
         ],
         "textfont": {
          "family": "Georgia, serif",
          "size": 11
         },
         "textposition": "outside",
         "type": "bar",
         "x": {
          "bdata": "qTg=",
          "dtype": "i2"
         },
         "xaxis": "x",
         "y": [
          "Otras actividades de<br>servicios."
         ],
         "yaxis": "y"
        },
        {
         "customdata": {
          "bdata": "DcUGt2YxPEAriDq2ji8yQAytlnnbiiNAA91AQOl+IECnueFhTXYeQFpczCWKfx1AbbgChYghC0AEd8cW/kcKQM/R87vyJwlAcmT/2Z2vA0Bj/se6Sf/8PyvnzW7RwPQ/uH++HEqU9D/i0GPvJdXyPwQLLv0/F+k/",
          "dtype": "f8"
         },
         "hovertemplate": "<b>%{y}</b><br>Empresas: %{x:,.0f}<br>Porcentaje: %{customdata:.1f}%<extra></extra>",
         "legendgroup": "Servicios profesionales.",
         "marker": {
          "color": "#44BB99",
          "pattern": {
           "shape": ""
          }
         },
         "name": "Servicios profesionales.",
         "orientation": "h",
         "showlegend": false,
         "text": [
          "13,884<br>(3.1%)"
         ],
         "textfont": {
          "family": "Georgia, serif",
          "size": 11
         },
         "textposition": "outside",
         "type": "bar",
         "x": {
          "bdata": "PDY=",
          "dtype": "i2"
         },
         "xaxis": "x",
         "y": [
          "Servicios profesionales."
         ],
         "yaxis": "y"
        },
        {
         "customdata": {
          "bdata": "DcUGt2YxPEAriDq2ji8yQAytlnnbiiNAA91AQOl+IECnueFhTXYeQFpczCWKfx1AbbgChYghC0AEd8cW/kcKQM/R87vyJwlAcmT/2Z2vA0Bj/se6Sf/8PyvnzW7RwPQ/uH++HEqU9D/i0GPvJdXyPwQLLv0/F+k/",
          "dtype": "f8"
         },
         "hovertemplate": "<b>%{y}</b><br>Empresas: %{x:,.0f}<br>Porcentaje: %{customdata:.1f}%<extra></extra>",
         "legendgroup": "Inmobiliarias.",
         "marker": {
          "color": "#DDCC77",
          "pattern": {
           "shape": ""
          }
         },
         "name": "Inmobiliarias.",
         "orientation": "h",
         "showlegend": false,
         "text": [
          "10,865<br>(2.5%)"
         ],
         "textfont": {
          "family": "Georgia, serif",
          "size": 11
         },
         "textposition": "outside",
         "type": "bar",
         "x": {
          "bdata": "cSo=",
          "dtype": "i2"
         },
         "xaxis": "x",
         "y": [
          "Inmobiliarias."
         ],
         "yaxis": "y"
        },
        {
         "customdata": {
          "bdata": "DcUGt2YxPEAriDq2ji8yQAytlnnbiiNAA91AQOl+IECnueFhTXYeQFpczCWKfx1AbbgChYghC0AEd8cW/kcKQM/R87vyJwlAcmT/2Z2vA0Bj/se6Sf/8PyvnzW7RwPQ/uH++HEqU9D/i0GPvJdXyPwQLLv0/F+k/",
          "dtype": "f8"
         },
         "hovertemplate": "<b>%{y}</b><br>Empresas: %{x:,.0f}<br>Porcentaje: %{customdata:.1f}%<extra></extra>",
         "legendgroup": "Atención de salud<br>y asistencia social.",
         "marker": {
          "color": "#CC6677",
          "pattern": {
           "shape": ""
          }
         },
         "name": "Atención de salud<br>y asistencia social.",
         "orientation": "h",
         "showlegend": false,
         "text": [
          "8,002<br>(1.8%)"
         ],
         "textfont": {
          "family": "Georgia, serif",
          "size": 11
         },
         "textposition": "outside",
         "type": "bar",
         "x": {
          "bdata": "Qh8=",
          "dtype": "i2"
         },
         "xaxis": "x",
         "y": [
          "Atención de salud<br>y asistencia social."
         ],
         "yaxis": "y"
        },
        {
         "customdata": {
          "bdata": "DcUGt2YxPEAriDq2ji8yQAytlnnbiiNAA91AQOl+IECnueFhTXYeQFpczCWKfx1AbbgChYghC0AEd8cW/kcKQM/R87vyJwlAcmT/2Z2vA0Bj/se6Sf/8PyvnzW7RwPQ/uH++HEqU9D/i0GPvJdXyPwQLLv0/F+k/",
          "dtype": "f8"
         },
         "hovertemplate": "<b>%{y}</b><br>Empresas: %{x:,.0f}<br>Porcentaje: %{customdata:.1f}%<extra></extra>",
         "legendgroup": "Actividades financieras y<br>de seguros.",
         "marker": {
          "color": "#882255",
          "pattern": {
           "shape": ""
          }
         },
         "name": "Actividades financieras y<br>de seguros.",
         "orientation": "h",
         "showlegend": false,
         "text": [
          "5,727<br>(1.3%)"
         ],
         "textfont": {
          "family": "Georgia, serif",
          "size": 11
         },
         "textposition": "outside",
         "type": "bar",
         "x": {
          "bdata": "XxY=",
          "dtype": "i2"
         },
         "xaxis": "x",
         "y": [
          "Actividades financieras y<br>de seguros."
         ],
         "yaxis": "y"
        },
        {
         "customdata": {
          "bdata": "DcUGt2YxPEAriDq2ji8yQAytlnnbiiNAA91AQOl+IECnueFhTXYeQFpczCWKfx1AbbgChYghC0AEd8cW/kcKQM/R87vyJwlAcmT/2Z2vA0Bj/se6Sf/8PyvnzW7RwPQ/uH++HEqU9D/i0GPvJdXyPwQLLv0/F+k/",
          "dtype": "f8"
         },
         "hovertemplate": "<b>%{y}</b><br>Empresas: %{x:,.0f}<br>Porcentaje: %{customdata:.1f}%<extra></extra>",
         "legendgroup": "Información y<br>comunicaciones.",
         "marker": {
          "color": "#4477AA",
          "pattern": {
           "shape": ""
          }
         },
         "name": "Información y<br>comunicaciones.",
         "orientation": "h",
         "showlegend": false,
         "text": [
          "5,679<br>(1.3%)"
         ],
         "textfont": {
          "family": "Georgia, serif",
          "size": 11
         },
         "textposition": "outside",
         "type": "bar",
         "x": {
          "bdata": "LxY=",
          "dtype": "i2"
         },
         "xaxis": "x",
         "y": [
          "Información y<br>comunicaciones."
         ],
         "yaxis": "y"
        },
        {
         "customdata": {
          "bdata": "DcUGt2YxPEAriDq2ji8yQAytlnnbiiNAA91AQOl+IECnueFhTXYeQFpczCWKfx1AbbgChYghC0AEd8cW/kcKQM/R87vyJwlAcmT/2Z2vA0Bj/se6Sf/8PyvnzW7RwPQ/uH++HEqU9D/i0GPvJdXyPwQLLv0/F+k/",
          "dtype": "f8"
         },
         "hovertemplate": "<b>%{y}</b><br>Empresas: %{x:,.0f}<br>Porcentaje: %{customdata:.1f}%<extra></extra>",
         "legendgroup": "Enseñanza.",
         "marker": {
          "color": "#66CCEE",
          "pattern": {
           "shape": ""
          }
         },
         "name": "Enseñanza.",
         "orientation": "h",
         "showlegend": false,
         "text": [
          "5,197<br>(1.2%)"
         ],
         "textfont": {
          "family": "Georgia, serif",
          "size": 11
         },
         "textposition": "outside",
         "type": "bar",
         "x": {
          "bdata": "TRQ=",
          "dtype": "i2"
         },
         "xaxis": "x",
         "y": [
          "Enseñanza."
         ],
         "yaxis": "y"
        },
        {
         "customdata": {
          "bdata": "DcUGt2YxPEAriDq2ji8yQAytlnnbiiNAA91AQOl+IECnueFhTXYeQFpczCWKfx1AbbgChYghC0AEd8cW/kcKQM/R87vyJwlAcmT/2Z2vA0Bj/se6Sf/8PyvnzW7RwPQ/uH++HEqU9D/i0GPvJdXyPwQLLv0/F+k/",
          "dtype": "f8"
         },
         "hovertemplate": "<b>%{y}</b><br>Empresas: %{x:,.0f}<br>Porcentaje: %{customdata:.1f}%<extra></extra>",
         "legendgroup": "Actividades artísticas,<br>de entretenimiento y<br>recreativas.",
         "marker": {
          "color": "#228833",
          "pattern": {
           "shape": ""
          }
         },
         "name": "Actividades artísticas,<br>de entretenimiento y<br>recreativas.",
         "orientation": "h",
         "showlegend": false,
         "text": [
          "3,462<br>(0.8%)"
         ],
         "textfont": {
          "family": "Georgia, serif",
          "size": 11
         },
         "textposition": "outside",
         "type": "bar",
         "x": {
          "bdata": "hg0=",
          "dtype": "i2"
         },
         "xaxis": "x",
         "y": [
          "Actividades artísticas,<br>de entretenimiento y<br>recreativas."
         ],
         "yaxis": "y"
        }
       ],
       "layout": {
        "barmode": "relative",
        "font": {
         "color": "#1e293b",
         "family": "Georgia, serif"
        },
        "height": 900,
        "legend": {
         "title": {
          "text": "Rubro Económico"
         },
         "tracegroupgap": 0
        },
        "margin": {
         "b": 50,
         "l": 200,
         "r": 50,
         "t": 80
        },
        "paper_bgcolor": "white",
        "plot_bgcolor": "white",
        "template": {
         "data": {
          "bar": [
           {
            "error_x": {
             "color": "#2a3f5f"
            },
            "error_y": {
             "color": "#2a3f5f"
            },
            "marker": {
             "line": {
              "color": "#E5ECF6",
              "width": 0.5
             },
             "pattern": {
              "fillmode": "overlay",
              "size": 10,
              "solidity": 0.2
             }
            },
            "type": "bar"
           }
          ],
          "barpolar": [
           {
            "marker": {
             "line": {
              "color": "#E5ECF6",
              "width": 0.5
             },
             "pattern": {
              "fillmode": "overlay",
              "size": 10,
              "solidity": 0.2
             }
            },
            "type": "barpolar"
           }
          ],
          "carpet": [
           {
            "aaxis": {
             "endlinecolor": "#2a3f5f",
             "gridcolor": "white",
             "linecolor": "white",
             "minorgridcolor": "white",
             "startlinecolor": "#2a3f5f"
            },
            "baxis": {
             "endlinecolor": "#2a3f5f",
             "gridcolor": "white",
             "linecolor": "white",
             "minorgridcolor": "white",
             "startlinecolor": "#2a3f5f"
            },
            "type": "carpet"
           }
          ],
          "choropleth": [
           {
            "colorbar": {
             "outlinewidth": 0,
             "ticks": ""
            },
            "type": "choropleth"
           }
          ],
          "contour": [
           {
            "colorbar": {
             "outlinewidth": 0,
             "ticks": ""
            },
            "colorscale": [
             [
              0,
              "#0d0887"
             ],
             [
              0.1111111111111111,
              "#46039f"
             ],
             [
              0.2222222222222222,
              "#7201a8"
             ],
             [
              0.3333333333333333,
              "#9c179e"
             ],
             [
              0.4444444444444444,
              "#bd3786"
             ],
             [
              0.5555555555555556,
              "#d8576b"
             ],
             [
              0.6666666666666666,
              "#ed7953"
             ],
             [
              0.7777777777777778,
              "#fb9f3a"
             ],
             [
              0.8888888888888888,
              "#fdca26"
             ],
             [
              1,
              "#f0f921"
             ]
            ],
            "type": "contour"
           }
          ],
          "contourcarpet": [
           {
            "colorbar": {
             "outlinewidth": 0,
             "ticks": ""
            },
            "type": "contourcarpet"
           }
          ],
          "heatmap": [
           {
            "colorbar": {
             "outlinewidth": 0,
             "ticks": ""
            },
            "colorscale": [
             [
              0,
              "#0d0887"
             ],
             [
              0.1111111111111111,
              "#46039f"
             ],
             [
              0.2222222222222222,
              "#7201a8"
             ],
             [
              0.3333333333333333,
              "#9c179e"
             ],
             [
              0.4444444444444444,
              "#bd3786"
             ],
             [
              0.5555555555555556,
              "#d8576b"
             ],
             [
              0.6666666666666666,
              "#ed7953"
             ],
             [
              0.7777777777777778,
              "#fb9f3a"
             ],
             [
              0.8888888888888888,
              "#fdca26"
             ],
             [
              1,
              "#f0f921"
             ]
            ],
            "type": "heatmap"
           }
          ],
          "histogram": [
           {
            "marker": {
             "pattern": {
              "fillmode": "overlay",
              "size": 10,
              "solidity": 0.2
             }
            },
            "type": "histogram"
           }
          ],
          "histogram2d": [
           {
            "colorbar": {
             "outlinewidth": 0,
             "ticks": ""
            },
            "colorscale": [
             [
              0,
              "#0d0887"
             ],
             [
              0.1111111111111111,
              "#46039f"
             ],
             [
              0.2222222222222222,
              "#7201a8"
             ],
             [
              0.3333333333333333,
              "#9c179e"
             ],
             [
              0.4444444444444444,
              "#bd3786"
             ],
             [
              0.5555555555555556,
              "#d8576b"
             ],
             [
              0.6666666666666666,
              "#ed7953"
             ],
             [
              0.7777777777777778,
              "#fb9f3a"
             ],
             [
              0.8888888888888888,
              "#fdca26"
             ],
             [
              1,
              "#f0f921"
             ]
            ],
            "type": "histogram2d"
           }
          ],
          "histogram2dcontour": [
           {
            "colorbar": {
             "outlinewidth": 0,
             "ticks": ""
            },
            "colorscale": [
             [
              0,
              "#0d0887"
             ],
             [
              0.1111111111111111,
              "#46039f"
             ],
             [
              0.2222222222222222,
              "#7201a8"
             ],
             [
              0.3333333333333333,
              "#9c179e"
             ],
             [
              0.4444444444444444,
              "#bd3786"
             ],
             [
              0.5555555555555556,
              "#d8576b"
             ],
             [
              0.6666666666666666,
              "#ed7953"
             ],
             [
              0.7777777777777778,
              "#fb9f3a"
             ],
             [
              0.8888888888888888,
              "#fdca26"
             ],
             [
              1,
              "#f0f921"
             ]
            ],
            "type": "histogram2dcontour"
           }
          ],
          "mesh3d": [
           {
            "colorbar": {
             "outlinewidth": 0,
             "ticks": ""
            },
            "type": "mesh3d"
           }
          ],
          "parcoords": [
           {
            "line": {
             "colorbar": {
              "outlinewidth": 0,
              "ticks": ""
             }
            },
            "type": "parcoords"
           }
          ],
          "pie": [
           {
            "automargin": true,
            "type": "pie"
           }
          ],
          "scatter": [
           {
            "fillpattern": {
             "fillmode": "overlay",
             "size": 10,
             "solidity": 0.2
            },
            "type": "scatter"
           }
          ],
          "scatter3d": [
           {
            "line": {
             "colorbar": {
              "outlinewidth": 0,
              "ticks": ""
             }
            },
            "marker": {
             "colorbar": {
              "outlinewidth": 0,
              "ticks": ""
             }
            },
            "type": "scatter3d"
           }
          ],
          "scattercarpet": [
           {
            "marker": {
             "colorbar": {
              "outlinewidth": 0,
              "ticks": ""
             }
            },
            "type": "scattercarpet"
           }
          ],
          "scattergeo": [
           {
            "marker": {
             "colorbar": {
              "outlinewidth": 0,
              "ticks": ""
             }
            },
            "type": "scattergeo"
           }
          ],
          "scattergl": [
           {
            "marker": {
             "colorbar": {
              "outlinewidth": 0,
              "ticks": ""
             }
            },
            "type": "scattergl"
           }
          ],
          "scattermap": [
           {
            "marker": {
             "colorbar": {
              "outlinewidth": 0,
              "ticks": ""
             }
            },
            "type": "scattermap"
           }
          ],
          "scattermapbox": [
           {
            "marker": {
             "colorbar": {
              "outlinewidth": 0,
              "ticks": ""
             }
            },
            "type": "scattermapbox"
           }
          ],
          "scatterpolar": [
           {
            "marker": {
             "colorbar": {
              "outlinewidth": 0,
              "ticks": ""
             }
            },
            "type": "scatterpolar"
           }
          ],
          "scatterpolargl": [
           {
            "marker": {
             "colorbar": {
              "outlinewidth": 0,
              "ticks": ""
             }
            },
            "type": "scatterpolargl"
           }
          ],
          "scatterternary": [
           {
            "marker": {
             "colorbar": {
              "outlinewidth": 0,
              "ticks": ""
             }
            },
            "type": "scatterternary"
           }
          ],
          "surface": [
           {
            "colorbar": {
             "outlinewidth": 0,
             "ticks": ""
            },
            "colorscale": [
             [
              0,
              "#0d0887"
             ],
             [
              0.1111111111111111,
              "#46039f"
             ],
             [
              0.2222222222222222,
              "#7201a8"
             ],
             [
              0.3333333333333333,
              "#9c179e"
             ],
             [
              0.4444444444444444,
              "#bd3786"
             ],
             [
              0.5555555555555556,
              "#d8576b"
             ],
             [
              0.6666666666666666,
              "#ed7953"
             ],
             [
              0.7777777777777778,
              "#fb9f3a"
             ],
             [
              0.8888888888888888,
              "#fdca26"
             ],
             [
              1,
              "#f0f921"
             ]
            ],
            "type": "surface"
           }
          ],
          "table": [
           {
            "cells": {
             "fill": {
              "color": "#EBF0F8"
             },
             "line": {
              "color": "white"
             }
            },
            "header": {
             "fill": {
              "color": "#C8D4E3"
             },
             "line": {
              "color": "white"
             }
            },
            "type": "table"
           }
          ]
         },
         "layout": {
          "annotationdefaults": {
           "arrowcolor": "#2a3f5f",
           "arrowhead": 0,
           "arrowwidth": 1
          },
          "autotypenumbers": "strict",
          "coloraxis": {
           "colorbar": {
            "outlinewidth": 0,
            "ticks": ""
           }
          },
          "colorscale": {
           "diverging": [
            [
             0,
             "#8e0152"
            ],
            [
             0.1,
             "#c51b7d"
            ],
            [
             0.2,
             "#de77ae"
            ],
            [
             0.3,
             "#f1b6da"
            ],
            [
             0.4,
             "#fde0ef"
            ],
            [
             0.5,
             "#f7f7f7"
            ],
            [
             0.6,
             "#e6f5d0"
            ],
            [
             0.7,
             "#b8e186"
            ],
            [
             0.8,
             "#7fbc41"
            ],
            [
             0.9,
             "#4d9221"
            ],
            [
             1,
             "#276419"
            ]
           ],
           "sequential": [
            [
             0,
             "#0d0887"
            ],
            [
             0.1111111111111111,
             "#46039f"
            ],
            [
             0.2222222222222222,
             "#7201a8"
            ],
            [
             0.3333333333333333,
             "#9c179e"
            ],
            [
             0.4444444444444444,
             "#bd3786"
            ],
            [
             0.5555555555555556,
             "#d8576b"
            ],
            [
             0.6666666666666666,
             "#ed7953"
            ],
            [
             0.7777777777777778,
             "#fb9f3a"
            ],
            [
             0.8888888888888888,
             "#fdca26"
            ],
            [
             1,
             "#f0f921"
            ]
           ],
           "sequentialminus": [
            [
             0,
             "#0d0887"
            ],
            [
             0.1111111111111111,
             "#46039f"
            ],
            [
             0.2222222222222222,
             "#7201a8"
            ],
            [
             0.3333333333333333,
             "#9c179e"
            ],
            [
             0.4444444444444444,
             "#bd3786"
            ],
            [
             0.5555555555555556,
             "#d8576b"
            ],
            [
             0.6666666666666666,
             "#ed7953"
            ],
            [
             0.7777777777777778,
             "#fb9f3a"
            ],
            [
             0.8888888888888888,
             "#fdca26"
            ],
            [
             1,
             "#f0f921"
            ]
           ]
          },
          "colorway": [
           "#636efa",
           "#EF553B",
           "#00cc96",
           "#ab63fa",
           "#FFA15A",
           "#19d3f3",
           "#FF6692",
           "#B6E880",
           "#FF97FF",
           "#FECB52"
          ],
          "font": {
           "color": "#2a3f5f"
          },
          "geo": {
           "bgcolor": "white",
           "lakecolor": "white",
           "landcolor": "#E5ECF6",
           "showlakes": true,
           "showland": true,
           "subunitcolor": "white"
          },
          "hoverlabel": {
           "align": "left"
          },
          "hovermode": "closest",
          "mapbox": {
           "style": "light"
          },
          "paper_bgcolor": "white",
          "plot_bgcolor": "#E5ECF6",
          "polar": {
           "angularaxis": {
            "gridcolor": "white",
            "linecolor": "white",
            "ticks": ""
           },
           "bgcolor": "#E5ECF6",
           "radialaxis": {
            "gridcolor": "white",
            "linecolor": "white",
            "ticks": ""
           }
          },
          "scene": {
           "xaxis": {
            "backgroundcolor": "#E5ECF6",
            "gridcolor": "white",
            "gridwidth": 2,
            "linecolor": "white",
            "showbackground": true,
            "ticks": "",
            "zerolinecolor": "white"
           },
           "yaxis": {
            "backgroundcolor": "#E5ECF6",
            "gridcolor": "white",
            "gridwidth": 2,
            "linecolor": "white",
            "showbackground": true,
            "ticks": "",
            "zerolinecolor": "white"
           },
           "zaxis": {
            "backgroundcolor": "#E5ECF6",
            "gridcolor": "white",
            "gridwidth": 2,
            "linecolor": "white",
            "showbackground": true,
            "ticks": "",
            "zerolinecolor": "white"
           }
          },
          "shapedefaults": {
           "line": {
            "color": "#2a3f5f"
           }
          },
          "ternary": {
           "aaxis": {
            "gridcolor": "white",
            "linecolor": "white",
            "ticks": ""
           },
           "baxis": {
            "gridcolor": "white",
            "linecolor": "white",
            "ticks": ""
           },
           "bgcolor": "#E5ECF6",
           "caxis": {
            "gridcolor": "white",
            "linecolor": "white",
            "ticks": ""
           }
          },
          "title": {
           "x": 0.05
          },
          "xaxis": {
           "automargin": true,
           "gridcolor": "white",
           "linecolor": "white",
           "ticks": "",
           "title": {
            "standoff": 15
           },
           "zerolinecolor": "white",
           "zerolinewidth": 2
          },
          "yaxis": {
           "automargin": true,
           "gridcolor": "white",
           "linecolor": "white",
           "ticks": "",
           "title": {
            "standoff": 15
           },
           "zerolinecolor": "white",
           "zerolinewidth": 2
          }
         }
        },
        "title": {
         "font": {
          "color": "#1e293b",
          "family": "Georgia, serif",
          "size": 18
         },
         "text": "<span style=\"border-bottom: 5px solid #DC143C; padding-bottom: 5px;\">Top 15 Rubros Económicos en la Región de Los Ríos</span>",
         "x": 0.25,
         "y": 0.95
        },
        "width": 1100,
        "xaxis": {
         "anchor": "y",
         "domain": [
          0,
          1
         ],
         "gridcolor": "lightgray",
         "showgrid": true,
         "tickfont": {
          "family": "Georgia, serif"
         },
         "title": {
          "font": {
           "family": "Georgia, serif",
           "size": 14
          },
          "text": "Número de Empresas"
         },
         "zeroline": false
        },
        "yaxis": {
         "anchor": "x",
         "categoryarray": [
          "Actividades artísticas,<br>de entretenimiento y<br>recreativas.",
          "Enseñanza.",
          "Información y<br>comunicaciones.",
          "Actividades financieras y<br>de seguros.",
          "Atención de salud<br>y asistencia social.",
          "Inmobiliarias.",
          "Servicios profesionales.",
          "Otras actividades de<br>servicios.",
          "Servicios administrativos.",
          "Actividades de<br>alojamiento y de servicio<br>de comidas.",
          "Industria manufacturera.",
          "Construcción.",
          "Transporte y<br>almacenamiento.",
          "Agricultura y ganadería.",
          "Comercio y reparación<br>automotriz."
         ],
         "categoryorder": "total ascending",
         "domain": [
          0,
          1
         ],
         "showgrid": false,
         "tickfont": {
          "family": "Georgia, serif"
         },
         "title": {
          "font": {
           "family": "Georgia, serif",
           "size": 14
          },
          "text": "Rubro Económico"
         },
         "zeroline": false
        }
       }
      }
     },
     "metadata": {},
     "output_type": "display_data"
    }
   ],
   "source": [
    "# Análisis por rubro económico\n",
    "rubros_empresas = df_los_rios.groupby('Rubro economico')['Número de empresas'].sum().sort_values(ascending=False)\n",
    "total_empresas_rubros = rubros_empresas.sum()\n",
    "\n",
    "# Función para limpiar caracteres especiales\n",
    "def limpiar_texto(texto):\n",
    "    \"\"\"Limpia caracteres especiales en el texto\"\"\"\n",
    "    if pd.isna(texto):\n",
    "        return \"\"\n",
    "    texto = str(texto)\n",
    "    # Reemplazar caracteres con encoding problemático\n",
    "    replacements = {\n",
    "        'Ã³': 'ó', 'Ã¡': 'á', 'Ã­': 'í', 'Ã©': 'é', 'Ãº': 'ú',\n",
    "        'Ã±': 'ñ', 'Ã‰': 'É', 'Ã': 'Á', 'Ã\"': 'Ó', 'Ãš': 'Ú'\n",
    "    }\n",
    "    for old, new in replacements.items():\n",
    "        texto = texto.replace(old, new)\n",
    "    return texto\n",
    "\n",
    "# Crear un dataframe para análisis\n",
    "df_rubros = pd.DataFrame({\n",
    "    'rubro': rubros_empresas.index,\n",
    "    'empresas': rubros_empresas.values,\n",
    "    'porcentaje': (rubros_empresas.values / total_empresas_rubros * 100)\n",
    "})\n",
    "\n",
    "# Limpiar caracteres especiales en los rubros\n",
    "df_rubros['rubro_limpio'] = df_rubros['rubro'].apply(limpiar_texto)\n",
    "\n",
    "# Extraer el código del rubro (primera letra) para facilitar la visualización\n",
    "df_rubros['codigo'] = df_rubros['rubro_limpio'].str.split(' - ').str[0]\n",
    "df_rubros['descripcion'] = df_rubros['rubro_limpio'].str.split(' - ').str[1:]\n",
    "df_rubros['descripcion'] = df_rubros['descripcion'].apply(lambda x: ' - '.join(x) if isinstance(x, list) else '')\n",
    "\n",
    "# Mostrar top 10 rubros\n",
    "print(\"Top 10 rubros económicos en la Región de Los Ríos:\")\n",
    "display(df_rubros.head(10))\n",
    "\n",
    "# Preparar datos para el gráfico de torta\n",
    "# Si hay muchos rubros, mostrar solo los top 10 y agrupar el resto\n",
    "if len(df_rubros) > 10:\n",
    "    top_rubros = df_rubros.head(10).copy()\n",
    "    otros = pd.DataFrame({\n",
    "        'rubro': ['Otros rubros'],\n",
    "        'empresas': [df_rubros.iloc[10:]['empresas'].sum()],\n",
    "        'porcentaje': [df_rubros.iloc[10:]['porcentaje'].sum()],\n",
    "        'codigo': ['Otros'],\n",
    "        'descripcion': ['Rubros económicos varios'],\n",
    "        'rubro_limpio': ['Otros - Rubros económicos varios']\n",
    "    })\n",
    "    df_rubros_plot = pd.concat([top_rubros, otros])\n",
    "else:\n",
    "    df_rubros_plot = df_rubros\n",
    "\n",
    "# Función para abreviar nombres largos y añadir claridad\n",
    "def abreviar_descripcion(descripcion):\n",
    "    \"\"\"Abrevia descripciones largas y añade punto final para claridad\"\"\"\n",
    "    # Diccionario de abreviaciones específicas\n",
    "    abreviaciones = {\n",
    "        'Comercio al por mayor y al por menor; reparación de vehículos automotores y motocicletas': 'Comercio y reparación automotriz',\n",
    "        'Agricultura, ganadería, silvicultura y pesca': 'Agricultura y ganadería',\n",
    "        'Transporte y almacenamiento': 'Transporte y almacenamiento',\n",
    "        'Actividades de servicios administrativos y de apoyo': 'Servicios administrativos',\n",
    "        'Construcción': 'Construcción',\n",
    "        'Actividades inmobiliarias': 'Inmobiliarias',\n",
    "        'Alojamiento y servicios de comida': 'Hotelería y restaurantes',\n",
    "        'Industrias manufactureras': 'Industria manufacturera',\n",
    "        'Información y comunicaciones': 'Información y comunicaciones',\n",
    "        'Actividades profesionales, científicas y técnicas': 'Servicios profesionales',\n",
    "        'Actividades de atención de la salud humana y de asistencia social': 'Atención de salud<br>y asistencia social',\n",
    "        'Otros servicios': 'Otros servicios'\n",
    "    }\n",
    "    \n",
    "    # Aplicar abreviación si existe\n",
    "    descripcion_abreviada = abreviaciones.get(descripcion, descripcion)\n",
    "    \n",
    "    # Añadir punto al final si no lo tiene y no tiene salto de línea\n",
    "    if not descripcion_abreviada.endswith('.') and '<br>' not in descripcion_abreviada:\n",
    "        descripcion_abreviada += '.'\n",
    "    elif '<br>' in descripcion_abreviada and not descripcion_abreviada.endswith('.'):\n",
    "        descripcion_abreviada += '.'\n",
    "    \n",
    "    return descripcion_abreviada\n",
    "\n",
    "# Función específica para crear etiquetas elegantes en el gráfico de barras\n",
    "def crear_etiqueta_barras_elegante(descripcion):\n",
    "    \"\"\"Crea etiquetas con saltos de línea inteligentes para el gráfico de barras\"\"\"\n",
    "    \n",
    "    # Primero aplicar abreviaciones\n",
    "    descripcion_abreviada = abreviar_descripcion(descripcion)\n",
    "    \n",
    "    # Si ya tiene salto de línea, devolverla tal como está\n",
    "    if '<br>' in descripcion_abreviada:\n",
    "        return descripcion_abreviada\n",
    "    \n",
    "    # Si es corta (menos de 25 caracteres), devolverla tal como está\n",
    "    if len(descripcion_abreviada) <= 25:\n",
    "        return descripcion_abreviada\n",
    "    \n",
    "    # Para textos más largos, crear saltos de línea inteligentes\n",
    "    palabras = descripcion_abreviada.replace('.', '').split()  # Quitar punto temporalmente\n",
    "    lineas = []\n",
    "    linea_actual = \"\"\n",
    "    \n",
    "    for palabra in palabras:\n",
    "        # Si agregar la palabra no excede 25 caracteres, agregarla\n",
    "        if len(linea_actual + \" \" + palabra) <= 25:\n",
    "            linea_actual += (\" \" + palabra) if linea_actual else palabra\n",
    "        else:\n",
    "            # Si la línea actual no está vacía, guardarla y empezar nueva línea\n",
    "            if linea_actual:\n",
    "                lineas.append(linea_actual)\n",
    "            linea_actual = palabra\n",
    "    \n",
    "    # Agregar la última línea si no está vacía\n",
    "    if linea_actual:\n",
    "        lineas.append(linea_actual)\n",
    "    \n",
    "    # Unir las líneas con saltos de línea HTML y agregar punto al final\n",
    "    resultado = \"<br>\".join(lineas) + \".\"\n",
    "    \n",
    "    return resultado\n",
    "\n",
    "# Crear etiquetas para el gráfico con texto abreviado y punto final\n",
    "df_rubros_plot['label'] = df_rubros_plot.apply(\n",
    "    lambda row: abreviar_descripcion(row['descripcion']), \n",
    "    axis=1\n",
    ")\n",
    "\n",
    "# Crear gráfico de torta interactivo con Plotly\n",
    "fig = px.pie(\n",
    "    df_rubros_plot, \n",
    "    values='empresas', \n",
    "    names='label', \n",
    "    color_discrete_sequence=colors_daltonismo_cientifica[:len(df_rubros_plot)],  # Usar paleta científica\n",
    "    height=700,  # Más alto\n",
    "    width=1100,  # Más ancho para mejor legibilidad\n",
    ")\n",
    "\n",
    "# Aplicar estilo \"The Economist\" personalizado\n",
    "fig.update_layout(\n",
    "    font=dict(family='Georgia, serif', color='#1e293b'),\n",
    "    title=dict(\n",
    "        text='<span style=\"border-bottom: 5px solid #DC143C; padding-bottom: 5px;\">Distribución de Empresas por Rubro Económico en la Región de Los Ríos</span>',\n",
    "        font=dict(size=18, family='Georgia, serif', color='#1e293b'),\n",
    "        x=0.01,  # Título alineado a la izquierda\n",
    "        y=0.95\n",
    "    ),\n",
    "    paper_bgcolor='white',\n",
    "    plot_bgcolor='white',\n",
    "    margin=dict(l=80, r=40, t=100, b=80),\n",
    ")\n",
    "\n",
    "# Personalizar gráfico de torta\n",
    "fig.update_traces(\n",
    "    textposition='inside',\n",
    "    textinfo='percent',\n",
    "    insidetextfont=dict(family=\"Georgia, serif\", size=12),\n",
    "    pull=[0.05 if i == 0 else 0 for i in range(len(df_rubros_plot))],  # Destacar el primer sector\n",
    "    marker=dict(line=dict(color='white', width=1.5)),\n",
    "    rotation=90,\n",
    "    hovertemplate='<b>%{label}</b><br>Empresas: %{value:,.0f}<br>Porcentaje: %{percent}<extra></extra>',  # Tooltip personalizado\n",
    ")\n",
    "\n",
    "# Personalizar leyenda\n",
    "fig.update_layout(\n",
    "    legend=dict(\n",
    "        orientation=\"v\",\n",
    "        yanchor=\"middle\",\n",
    "        y=0.5,\n",
    "        xanchor=\"right\",\n",
    "        x=1.15,  # Más alejado del gráfico\n",
    "        font=dict(family=\"Georgia, serif\", size=11),  # Texto un poco más grande\n",
    "        itemwidth=30,  # Más espacio para las etiquetas\n",
    "    )\n",
    ")\n",
    "\n",
    "# Mostrar el gráfico\n",
    "fig.show()\n",
    "\n",
    "# Crear gráfico de barras horizontal para los top 15 rubros con Plotly\n",
    "top_15_rubros = df_rubros.head(15).copy()\n",
    "# Aplicar etiquetas elegantes con saltos de línea inteligentes\n",
    "top_15_rubros['etiqueta_rubro'] = top_15_rubros.apply(\n",
    "    lambda x: crear_etiqueta_barras_elegante(x['descripcion']), \n",
    "    axis=1\n",
    ")\n",
    "top_15_rubros['texto'] = top_15_rubros.apply(lambda x: f\"{x['empresas']:,.0f}<br>({x['porcentaje']:.1f}%)\", axis=1)\n",
    "\n",
    "# Crear el gráfico\n",
    "fig = px.bar(\n",
    "    top_15_rubros,\n",
    "    x='empresas',\n",
    "    y='etiqueta_rubro',\n",
    "    orientation='h',\n",
    "    color='etiqueta_rubro',  # Usar colores diferentes para cada rubro\n",
    "    color_discrete_sequence=colors_daltonismo_cientifica,  # Usar paleta científica completa\n",
    "    text='texto',\n",
    "    height=900,  # Más alto para acomodar mejor las etiquetas con múltiples líneas\n",
    "    width=1100,  # Más ancho para mejor visualización\n",
    "    labels={'empresas': 'Número de Empresas', 'etiqueta_rubro': 'Rubro Económico'},\n",
    ")\n",
    "\n",
    "# Aplicar estilo \"The Economist\" personalizado\n",
    "fig.update_layout(\n",
    "    font=dict(family='Georgia, serif', color='#1e293b'),\n",
    "    title=dict(\n",
    "        text='<span style=\"border-bottom: 5px solid #DC143C; padding-bottom: 5px;\">Top 15 Rubros Económicos en la Región de Los Ríos</span>',\n",
    "        font=dict(size=18, family='Georgia, serif', color='#1e293b'),\n",
    "        x=0.25,  # Título más hacia la derecha para alinearse con el gráfico\n",
    "        y=0.95\n",
    "    ),\n",
    "    xaxis=dict(\n",
    "        title=dict(text='Número de Empresas', font=dict(family='Georgia, serif', size=14)),\n",
    "        tickfont=dict(family='Georgia, serif'),\n",
    "        showgrid=True,  # Mantener grid lines en X\n",
    "        gridcolor='lightgray',\n",
    "        zeroline=False\n",
    "    ),\n",
    "    yaxis=dict(\n",
    "        title=dict(text='Rubro Económico', font=dict(family='Georgia, serif', size=14)),\n",
    "        tickfont=dict(family='Georgia, serif'),\n",
    "        showgrid=False,  # Eliminar grid lines en Y\n",
    "        zeroline=False,\n",
    "        categoryorder='total ascending'  # Ordenar rubros por valor\n",
    "    ),\n",
    "    plot_bgcolor='white',\n",
    "    paper_bgcolor='white',\n",
    "    margin=dict(l=200, r=50, t=80, b=50)  # Reducir margen izquierdo para pegar el gráfico más a la izquierda\n",
    ")\n",
    "\n",
    "# Personalizar la posición del texto\n",
    "fig.update_traces(\n",
    "    textposition='outside',\n",
    "    textfont=dict(family=\"Georgia, serif\", size=11),\n",
    "    hovertemplate='<b>%{y}</b><br>Empresas: %{x:,.0f}<br>Porcentaje: %{customdata:.1f}%<extra></extra>',  # Tooltip personalizado\n",
    "    customdata=top_15_rubros['porcentaje'],  # Agregar datos del porcentaje para el hover\n",
    "    showlegend=False  # Ocultar leyenda ya que los colores son por rubro\n",
    ")\n",
    "\n",
    "# Mostrar el gráfico\n",
    "fig.show()"
   ]
  },
  {
   "cell_type": "markdown",
   "id": "5d8107aa",
   "metadata": {},
   "source": [
    "## 6. Visualización de Resultados\n",
    "\n",
    "En esta sección, crearemos visualizaciones más avanzadas para explorar relaciones entre variables."
   ]
  },
  {
   "cell_type": "code",
   "execution_count": 64,
   "id": "9a5baf77",
   "metadata": {},
   "outputs": [
    {
     "data": {
      "application/vnd.plotly.v1+json": {
       "config": {
        "plotlyServerURL": "https://plot.ly"
       },
       "data": [
        {
         "coloraxis": "coloraxis",
         "hovertemplate": "<b>%{y}</b><br><b>%{x}</b><br>Empresas: %{z}<extra></extra>",
         "name": "0",
         "textfont": {
          "color": "#2C3E50",
          "family": "Georgia, serif",
          "size": 14
         },
         "texttemplate": "%{z}",
         "type": "heatmap",
         "x": [
          "Agricultura<br>y Ganadería",
          "Comercio y<br>Reparación<br>Automotriz",
          "Construcción",
          "Industria<br>manufacturera",
          "Transporte y<br>Almacenamiento"
         ],
         "xaxis": "x",
         "y": [
          "La Unión",
          "Paillaco",
          "Panguipulli",
          "Río Bueno",
          "Valdivia"
         ],
         "yaxis": "y",
         "z": {
          "bdata": "DDYAADgtAAApDgAAdgwAACwZAACVHQAAYxsAAAAFAADABQAAmwkAAKAUAACmMgAAXgsAAKALAAB9DAAA+zsAANMoAAAfCQAABQgAALAMAADNOQAAeM4AAP9KAAAyQAAAZUkAAA==",
          "dtype": "i4",
          "shape": "5, 5"
         }
        }
       ],
       "layout": {
        "annotations": [
         {
          "bgcolor": "rgba(0,0,0,0)",
          "font": {
           "color": "white",
           "family": "Georgia, serif",
           "size": 14
          },
          "showarrow": false,
          "text": "52.856k",
          "x": 1,
          "y": 4
         }
        ],
        "coloraxis": {
         "colorbar": {
          "bgcolor": "white",
          "borderwidth": 0,
          "len": 0.7,
          "orientation": "v",
          "outlinewidth": 0,
          "thickness": 20,
          "tickfont": {
           "color": "#2C3E50",
           "family": "Georgia, serif",
           "size": 10
          },
          "title": {
           "font": {
            "color": "#2C3E50",
            "family": "Georgia, serif",
            "size": 12
           },
           "text": ""
          },
          "x": 1.02,
          "xanchor": "left"
         },
         "colorscale": [
          [
           0,
           "#FAFBFC"
          ],
          [
           0.1,
           "#F4F6F8"
          ],
          [
           0.2,
           "#E8EDF3"
          ],
          [
           0.3,
           "#D6E3F0"
          ],
          [
           0.4,
           "#C1D5E0"
          ],
          [
           0.5,
           "#A8C2D0"
          ],
          [
           0.6,
           "#8BADC3"
          ],
          [
           0.7,
           "#6B96B6"
          ],
          [
           0.8,
           "#4C7FA3"
          ],
          [
           0.9,
           "#326590"
          ],
          [
           1,
           "#1B4A6B"
          ]
         ]
        },
        "font": {
         "color": "#1e293b",
         "family": "Georgia, serif"
        },
        "height": 700,
        "margin": {
         "b": 120,
         "l": 80,
         "r": 120,
         "t": 100
        },
        "paper_bgcolor": "white",
        "plot_bgcolor": "white",
        "template": {
         "data": {
          "bar": [
           {
            "error_x": {
             "color": "#2a3f5f"
            },
            "error_y": {
             "color": "#2a3f5f"
            },
            "marker": {
             "line": {
              "color": "#E5ECF6",
              "width": 0.5
             },
             "pattern": {
              "fillmode": "overlay",
              "size": 10,
              "solidity": 0.2
             }
            },
            "type": "bar"
           }
          ],
          "barpolar": [
           {
            "marker": {
             "line": {
              "color": "#E5ECF6",
              "width": 0.5
             },
             "pattern": {
              "fillmode": "overlay",
              "size": 10,
              "solidity": 0.2
             }
            },
            "type": "barpolar"
           }
          ],
          "carpet": [
           {
            "aaxis": {
             "endlinecolor": "#2a3f5f",
             "gridcolor": "white",
             "linecolor": "white",
             "minorgridcolor": "white",
             "startlinecolor": "#2a3f5f"
            },
            "baxis": {
             "endlinecolor": "#2a3f5f",
             "gridcolor": "white",
             "linecolor": "white",
             "minorgridcolor": "white",
             "startlinecolor": "#2a3f5f"
            },
            "type": "carpet"
           }
          ],
          "choropleth": [
           {
            "colorbar": {
             "outlinewidth": 0,
             "ticks": ""
            },
            "type": "choropleth"
           }
          ],
          "contour": [
           {
            "colorbar": {
             "outlinewidth": 0,
             "ticks": ""
            },
            "colorscale": [
             [
              0,
              "#0d0887"
             ],
             [
              0.1111111111111111,
              "#46039f"
             ],
             [
              0.2222222222222222,
              "#7201a8"
             ],
             [
              0.3333333333333333,
              "#9c179e"
             ],
             [
              0.4444444444444444,
              "#bd3786"
             ],
             [
              0.5555555555555556,
              "#d8576b"
             ],
             [
              0.6666666666666666,
              "#ed7953"
             ],
             [
              0.7777777777777778,
              "#fb9f3a"
             ],
             [
              0.8888888888888888,
              "#fdca26"
             ],
             [
              1,
              "#f0f921"
             ]
            ],
            "type": "contour"
           }
          ],
          "contourcarpet": [
           {
            "colorbar": {
             "outlinewidth": 0,
             "ticks": ""
            },
            "type": "contourcarpet"
           }
          ],
          "heatmap": [
           {
            "colorbar": {
             "outlinewidth": 0,
             "ticks": ""
            },
            "colorscale": [
             [
              0,
              "#0d0887"
             ],
             [
              0.1111111111111111,
              "#46039f"
             ],
             [
              0.2222222222222222,
              "#7201a8"
             ],
             [
              0.3333333333333333,
              "#9c179e"
             ],
             [
              0.4444444444444444,
              "#bd3786"
             ],
             [
              0.5555555555555556,
              "#d8576b"
             ],
             [
              0.6666666666666666,
              "#ed7953"
             ],
             [
              0.7777777777777778,
              "#fb9f3a"
             ],
             [
              0.8888888888888888,
              "#fdca26"
             ],
             [
              1,
              "#f0f921"
             ]
            ],
            "type": "heatmap"
           }
          ],
          "histogram": [
           {
            "marker": {
             "pattern": {
              "fillmode": "overlay",
              "size": 10,
              "solidity": 0.2
             }
            },
            "type": "histogram"
           }
          ],
          "histogram2d": [
           {
            "colorbar": {
             "outlinewidth": 0,
             "ticks": ""
            },
            "colorscale": [
             [
              0,
              "#0d0887"
             ],
             [
              0.1111111111111111,
              "#46039f"
             ],
             [
              0.2222222222222222,
              "#7201a8"
             ],
             [
              0.3333333333333333,
              "#9c179e"
             ],
             [
              0.4444444444444444,
              "#bd3786"
             ],
             [
              0.5555555555555556,
              "#d8576b"
             ],
             [
              0.6666666666666666,
              "#ed7953"
             ],
             [
              0.7777777777777778,
              "#fb9f3a"
             ],
             [
              0.8888888888888888,
              "#fdca26"
             ],
             [
              1,
              "#f0f921"
             ]
            ],
            "type": "histogram2d"
           }
          ],
          "histogram2dcontour": [
           {
            "colorbar": {
             "outlinewidth": 0,
             "ticks": ""
            },
            "colorscale": [
             [
              0,
              "#0d0887"
             ],
             [
              0.1111111111111111,
              "#46039f"
             ],
             [
              0.2222222222222222,
              "#7201a8"
             ],
             [
              0.3333333333333333,
              "#9c179e"
             ],
             [
              0.4444444444444444,
              "#bd3786"
             ],
             [
              0.5555555555555556,
              "#d8576b"
             ],
             [
              0.6666666666666666,
              "#ed7953"
             ],
             [
              0.7777777777777778,
              "#fb9f3a"
             ],
             [
              0.8888888888888888,
              "#fdca26"
             ],
             [
              1,
              "#f0f921"
             ]
            ],
            "type": "histogram2dcontour"
           }
          ],
          "mesh3d": [
           {
            "colorbar": {
             "outlinewidth": 0,
             "ticks": ""
            },
            "type": "mesh3d"
           }
          ],
          "parcoords": [
           {
            "line": {
             "colorbar": {
              "outlinewidth": 0,
              "ticks": ""
             }
            },
            "type": "parcoords"
           }
          ],
          "pie": [
           {
            "automargin": true,
            "type": "pie"
           }
          ],
          "scatter": [
           {
            "fillpattern": {
             "fillmode": "overlay",
             "size": 10,
             "solidity": 0.2
            },
            "type": "scatter"
           }
          ],
          "scatter3d": [
           {
            "line": {
             "colorbar": {
              "outlinewidth": 0,
              "ticks": ""
             }
            },
            "marker": {
             "colorbar": {
              "outlinewidth": 0,
              "ticks": ""
             }
            },
            "type": "scatter3d"
           }
          ],
          "scattercarpet": [
           {
            "marker": {
             "colorbar": {
              "outlinewidth": 0,
              "ticks": ""
             }
            },
            "type": "scattercarpet"
           }
          ],
          "scattergeo": [
           {
            "marker": {
             "colorbar": {
              "outlinewidth": 0,
              "ticks": ""
             }
            },
            "type": "scattergeo"
           }
          ],
          "scattergl": [
           {
            "marker": {
             "colorbar": {
              "outlinewidth": 0,
              "ticks": ""
             }
            },
            "type": "scattergl"
           }
          ],
          "scattermap": [
           {
            "marker": {
             "colorbar": {
              "outlinewidth": 0,
              "ticks": ""
             }
            },
            "type": "scattermap"
           }
          ],
          "scattermapbox": [
           {
            "marker": {
             "colorbar": {
              "outlinewidth": 0,
              "ticks": ""
             }
            },
            "type": "scattermapbox"
           }
          ],
          "scatterpolar": [
           {
            "marker": {
             "colorbar": {
              "outlinewidth": 0,
              "ticks": ""
             }
            },
            "type": "scatterpolar"
           }
          ],
          "scatterpolargl": [
           {
            "marker": {
             "colorbar": {
              "outlinewidth": 0,
              "ticks": ""
             }
            },
            "type": "scatterpolargl"
           }
          ],
          "scatterternary": [
           {
            "marker": {
             "colorbar": {
              "outlinewidth": 0,
              "ticks": ""
             }
            },
            "type": "scatterternary"
           }
          ],
          "surface": [
           {
            "colorbar": {
             "outlinewidth": 0,
             "ticks": ""
            },
            "colorscale": [
             [
              0,
              "#0d0887"
             ],
             [
              0.1111111111111111,
              "#46039f"
             ],
             [
              0.2222222222222222,
              "#7201a8"
             ],
             [
              0.3333333333333333,
              "#9c179e"
             ],
             [
              0.4444444444444444,
              "#bd3786"
             ],
             [
              0.5555555555555556,
              "#d8576b"
             ],
             [
              0.6666666666666666,
              "#ed7953"
             ],
             [
              0.7777777777777778,
              "#fb9f3a"
             ],
             [
              0.8888888888888888,
              "#fdca26"
             ],
             [
              1,
              "#f0f921"
             ]
            ],
            "type": "surface"
           }
          ],
          "table": [
           {
            "cells": {
             "fill": {
              "color": "#EBF0F8"
             },
             "line": {
              "color": "white"
             }
            },
            "header": {
             "fill": {
              "color": "#C8D4E3"
             },
             "line": {
              "color": "white"
             }
            },
            "type": "table"
           }
          ]
         },
         "layout": {
          "annotationdefaults": {
           "arrowcolor": "#2a3f5f",
           "arrowhead": 0,
           "arrowwidth": 1
          },
          "autotypenumbers": "strict",
          "coloraxis": {
           "colorbar": {
            "outlinewidth": 0,
            "ticks": ""
           }
          },
          "colorscale": {
           "diverging": [
            [
             0,
             "#8e0152"
            ],
            [
             0.1,
             "#c51b7d"
            ],
            [
             0.2,
             "#de77ae"
            ],
            [
             0.3,
             "#f1b6da"
            ],
            [
             0.4,
             "#fde0ef"
            ],
            [
             0.5,
             "#f7f7f7"
            ],
            [
             0.6,
             "#e6f5d0"
            ],
            [
             0.7,
             "#b8e186"
            ],
            [
             0.8,
             "#7fbc41"
            ],
            [
             0.9,
             "#4d9221"
            ],
            [
             1,
             "#276419"
            ]
           ],
           "sequential": [
            [
             0,
             "#0d0887"
            ],
            [
             0.1111111111111111,
             "#46039f"
            ],
            [
             0.2222222222222222,
             "#7201a8"
            ],
            [
             0.3333333333333333,
             "#9c179e"
            ],
            [
             0.4444444444444444,
             "#bd3786"
            ],
            [
             0.5555555555555556,
             "#d8576b"
            ],
            [
             0.6666666666666666,
             "#ed7953"
            ],
            [
             0.7777777777777778,
             "#fb9f3a"
            ],
            [
             0.8888888888888888,
             "#fdca26"
            ],
            [
             1,
             "#f0f921"
            ]
           ],
           "sequentialminus": [
            [
             0,
             "#0d0887"
            ],
            [
             0.1111111111111111,
             "#46039f"
            ],
            [
             0.2222222222222222,
             "#7201a8"
            ],
            [
             0.3333333333333333,
             "#9c179e"
            ],
            [
             0.4444444444444444,
             "#bd3786"
            ],
            [
             0.5555555555555556,
             "#d8576b"
            ],
            [
             0.6666666666666666,
             "#ed7953"
            ],
            [
             0.7777777777777778,
             "#fb9f3a"
            ],
            [
             0.8888888888888888,
             "#fdca26"
            ],
            [
             1,
             "#f0f921"
            ]
           ]
          },
          "colorway": [
           "#636efa",
           "#EF553B",
           "#00cc96",
           "#ab63fa",
           "#FFA15A",
           "#19d3f3",
           "#FF6692",
           "#B6E880",
           "#FF97FF",
           "#FECB52"
          ],
          "font": {
           "color": "#2a3f5f"
          },
          "geo": {
           "bgcolor": "white",
           "lakecolor": "white",
           "landcolor": "#E5ECF6",
           "showlakes": true,
           "showland": true,
           "subunitcolor": "white"
          },
          "hoverlabel": {
           "align": "left"
          },
          "hovermode": "closest",
          "mapbox": {
           "style": "light"
          },
          "paper_bgcolor": "white",
          "plot_bgcolor": "#E5ECF6",
          "polar": {
           "angularaxis": {
            "gridcolor": "white",
            "linecolor": "white",
            "ticks": ""
           },
           "bgcolor": "#E5ECF6",
           "radialaxis": {
            "gridcolor": "white",
            "linecolor": "white",
            "ticks": ""
           }
          },
          "scene": {
           "xaxis": {
            "backgroundcolor": "#E5ECF6",
            "gridcolor": "white",
            "gridwidth": 2,
            "linecolor": "white",
            "showbackground": true,
            "ticks": "",
            "zerolinecolor": "white"
           },
           "yaxis": {
            "backgroundcolor": "#E5ECF6",
            "gridcolor": "white",
            "gridwidth": 2,
            "linecolor": "white",
            "showbackground": true,
            "ticks": "",
            "zerolinecolor": "white"
           },
           "zaxis": {
            "backgroundcolor": "#E5ECF6",
            "gridcolor": "white",
            "gridwidth": 2,
            "linecolor": "white",
            "showbackground": true,
            "ticks": "",
            "zerolinecolor": "white"
           }
          },
          "shapedefaults": {
           "line": {
            "color": "#2a3f5f"
           }
          },
          "ternary": {
           "aaxis": {
            "gridcolor": "white",
            "linecolor": "white",
            "ticks": ""
           },
           "baxis": {
            "gridcolor": "white",
            "linecolor": "white",
            "ticks": ""
           },
           "bgcolor": "#E5ECF6",
           "caxis": {
            "gridcolor": "white",
            "linecolor": "white",
            "ticks": ""
           }
          },
          "title": {
           "x": 0.05
          },
          "xaxis": {
           "automargin": true,
           "gridcolor": "white",
           "linecolor": "white",
           "ticks": "",
           "title": {
            "standoff": 15
           },
           "zerolinecolor": "white",
           "zerolinewidth": 2
          },
          "yaxis": {
           "automargin": true,
           "gridcolor": "white",
           "linecolor": "white",
           "ticks": "",
           "title": {
            "standoff": 15
           },
           "zerolinecolor": "white",
           "zerolinewidth": 2
          }
         }
        },
        "title": {
         "font": {
          "color": "#1e293b",
          "family": "Georgia, serif",
          "size": 18
         },
         "text": "<span style=\"border-bottom: 5px solid #DC143C; padding-bottom: 5px;\">Distribución de Empresas por Comuna y Rubro Económico (Top 5)</span>",
         "x": 0.01,
         "y": 0.95
        },
        "width": 1200,
        "xaxis": {
         "anchor": "y",
         "domain": [
          0,
          1
         ],
         "gridcolor": "lightgray",
         "showgrid": true,
         "side": "bottom",
         "tickangle": 0,
         "tickfont": {
          "family": "Georgia, serif",
          "size": 11
         },
         "title": {
          "font": {
           "family": "Georgia, serif",
           "size": 14
          },
          "text": "Rubro Económico"
         },
         "zeroline": false
        },
        "yaxis": {
         "anchor": "x",
         "autorange": "reversed",
         "domain": [
          0,
          1
         ],
         "showgrid": false,
         "tickfont": {
          "family": "Georgia, serif",
          "size": 12
         },
         "title": {
          "font": {
           "family": "Georgia, serif",
           "size": 14
          },
          "text": "Comuna"
         },
         "zeroline": false
        }
       }
      }
     },
     "metadata": {},
     "output_type": "display_data"
    },
    {
     "data": {
      "application/vnd.plotly.v1+json": {
       "config": {
        "plotlyServerURL": "https://plot.ly"
       },
       "data": [
        {
         "hovertemplate": "<b>%{x}</b><br>%{fullData.name}: %{y:.1f}%<extra></extra>",
         "legendgroup": "Agricultura y Ganadería",
         "marker": {
          "color": "#2E5984",
          "pattern": {
           "shape": ""
          }
         },
         "name": "Agricultura y Ganadería",
         "orientation": "v",
         "showlegend": true,
         "text": [
          "35.8%",
          "38.3%",
          "19.3%",
          "45.9%",
          "12.1%"
         ],
         "textfont": {
          "color": "white",
          "family": "Georgia, serif",
          "size": 12
         },
         "textposition": "inside",
         "type": "bar",
         "x": [
          "La Unión",
          "Paillaco",
          "Panguipulli",
          "Río Bueno",
          "Valdivia"
         ],
         "xaxis": "x",
         "y": {
          "bdata": "zy2IC67jQUAA5BbS6SBDQHD60XD0UTNA5T60Eyn1RkB/Zs/EEj4oQA==",
          "dtype": "f8"
         },
         "yaxis": "y"
        },
        {
         "hovertemplate": "<b>%{x}</b><br>%{fullData.name}: %{y:.1f}%<extra></extra>",
         "legendgroup": "Comercio y Reparación Automotriz",
         "marker": {
          "color": "#8B9DC3",
          "pattern": {
           "shape": ""
          }
         },
         "name": "Comercio y Reparación Automotriz",
         "orientation": "v",
         "showlegend": true,
         "text": [
          "29.9%",
          "35.4%",
          "47.4%",
          "31.3%",
          "43.3%"
         ],
         "textfont": {
          "color": "white",
          "family": "Georgia, serif",
          "size": 12
         },
         "textposition": "inside",
         "type": "bar",
         "x": [
          "La Unión",
          "Paillaco",
          "Panguipulli",
          "Río Bueno",
          "Valdivia"
         ],
         "xaxis": "x",
         "y": {
          "bdata": "ZE9pZEDvPUB6UYwqgrVBQMWCeH/YuEdAdJkJfUlAP0Ayi/v2I6ZFQA==",
          "dtype": "f8"
         },
         "yaxis": "y"
        },
        {
         "hovertemplate": "<b>%{x}</b><br>%{fullData.name}: %{y:.1f}%<extra></extra>",
         "legendgroup": "Construcción",
         "marker": {
          "color": "#DFB067",
          "pattern": {
           "shape": ""
          }
         },
         "name": "Construcción",
         "orientation": "v",
         "showlegend": true,
         "text": [
          "9.4%",
          "6.5%",
          "10.6%",
          "7.0%",
          "15.7%"
         ],
         "textfont": {
          "color": "white",
          "family": "Georgia, serif",
          "size": 12
         },
         "textposition": "inside",
         "type": "bar",
         "x": [
          "La Unión",
          "Paillaco",
          "Panguipulli",
          "Río Bueno",
          "Valdivia"
         ],
         "xaxis": "x",
         "y": {
          "bdata": "GCYaTna/IkDFtWNWeN0ZQN65/ofKSyVAS7Pxxc/tG0BjWS3FVXQvQA==",
          "dtype": "f8"
         },
         "yaxis": "y"
        },
        {
         "hovertemplate": "<b>%{x}</b><br>%{fullData.name}: %{y:.1f}%<extra></extra>",
         "legendgroup": "Industria manufacturera",
         "marker": {
          "color": "#81A88D",
          "pattern": {
           "shape": ""
          }
         },
         "name": "Industria manufacturera",
         "orientation": "v",
         "showlegend": true,
         "text": [
          "8.2%",
          "7.4%",
          "10.9%",
          "6.1%",
          "13.5%"
         ],
         "textfont": {
          "color": "white",
          "family": "Georgia, serif",
          "size": 12
         },
         "textposition": "inside",
         "type": "bar",
         "x": [
          "La Unión",
          "Paillaco",
          "Panguipulli",
          "Río Bueno",
          "Valdivia"
         ],
         "xaxis": "x",
         "y": {
          "bdata": "zQIX1IZ/IEBvd7/JsL4dQCFgaqRwxyVAmqAmlVKOGEDCtlaOp+wqQA==",
          "dtype": "f8"
         },
         "yaxis": "y"
        },
        {
         "hovertemplate": "<b>%{x}</b><br>%{fullData.name}: %{y:.1f}%<extra></extra>",
         "legendgroup": "Transporte y Almacenamiento",
         "marker": {
          "color": "#C4A484",
          "pattern": {
           "shape": ""
          }
         },
         "name": "Transporte y Almacenamiento",
         "orientation": "v",
         "showlegend": true,
         "text": [
          "16.7%",
          "12.4%",
          "11.7%",
          "9.7%",
          "15.4%"
         ],
         "textfont": {
          "color": "white",
          "family": "Georgia, serif",
          "size": 12
         },
         "textposition": "inside",
         "type": "bar",
         "x": [
          "La Unión",
          "Paillaco",
          "Panguipulli",
          "Río Bueno",
          "Valdivia"
         ],
         "xaxis": "x",
         "y": {
          "bdata": "isBt8+SpMEB/k2F9O9goQA/mEPR5ZSdAkaePibdsI0CWXL4LYMguQA==",
          "dtype": "f8"
         },
         "yaxis": "y"
        }
       ],
       "layout": {
        "barmode": "stack",
        "font": {
         "color": "#1e293b",
         "family": "Georgia, serif"
        },
        "height": 700,
        "legend": {
         "bgcolor": "rgba(255, 255, 255, 0)",
         "bordercolor": "rgba(0,0,0,0)",
         "borderwidth": 0,
         "font": {
          "family": "Georgia, serif",
          "size": 11
         },
         "title": {
          "font": {
           "family": "Georgia, serif",
           "size": 12
          },
          "text": "Rubro Económico"
         },
         "tracegroupgap": 0
        },
        "margin": {
         "b": 80,
         "l": 80,
         "r": 40,
         "t": 100
        },
        "paper_bgcolor": "white",
        "plot_bgcolor": "white",
        "template": {
         "data": {
          "bar": [
           {
            "error_x": {
             "color": "#2a3f5f"
            },
            "error_y": {
             "color": "#2a3f5f"
            },
            "marker": {
             "line": {
              "color": "#E5ECF6",
              "width": 0.5
             },
             "pattern": {
              "fillmode": "overlay",
              "size": 10,
              "solidity": 0.2
             }
            },
            "type": "bar"
           }
          ],
          "barpolar": [
           {
            "marker": {
             "line": {
              "color": "#E5ECF6",
              "width": 0.5
             },
             "pattern": {
              "fillmode": "overlay",
              "size": 10,
              "solidity": 0.2
             }
            },
            "type": "barpolar"
           }
          ],
          "carpet": [
           {
            "aaxis": {
             "endlinecolor": "#2a3f5f",
             "gridcolor": "white",
             "linecolor": "white",
             "minorgridcolor": "white",
             "startlinecolor": "#2a3f5f"
            },
            "baxis": {
             "endlinecolor": "#2a3f5f",
             "gridcolor": "white",
             "linecolor": "white",
             "minorgridcolor": "white",
             "startlinecolor": "#2a3f5f"
            },
            "type": "carpet"
           }
          ],
          "choropleth": [
           {
            "colorbar": {
             "outlinewidth": 0,
             "ticks": ""
            },
            "type": "choropleth"
           }
          ],
          "contour": [
           {
            "colorbar": {
             "outlinewidth": 0,
             "ticks": ""
            },
            "colorscale": [
             [
              0,
              "#0d0887"
             ],
             [
              0.1111111111111111,
              "#46039f"
             ],
             [
              0.2222222222222222,
              "#7201a8"
             ],
             [
              0.3333333333333333,
              "#9c179e"
             ],
             [
              0.4444444444444444,
              "#bd3786"
             ],
             [
              0.5555555555555556,
              "#d8576b"
             ],
             [
              0.6666666666666666,
              "#ed7953"
             ],
             [
              0.7777777777777778,
              "#fb9f3a"
             ],
             [
              0.8888888888888888,
              "#fdca26"
             ],
             [
              1,
              "#f0f921"
             ]
            ],
            "type": "contour"
           }
          ],
          "contourcarpet": [
           {
            "colorbar": {
             "outlinewidth": 0,
             "ticks": ""
            },
            "type": "contourcarpet"
           }
          ],
          "heatmap": [
           {
            "colorbar": {
             "outlinewidth": 0,
             "ticks": ""
            },
            "colorscale": [
             [
              0,
              "#0d0887"
             ],
             [
              0.1111111111111111,
              "#46039f"
             ],
             [
              0.2222222222222222,
              "#7201a8"
             ],
             [
              0.3333333333333333,
              "#9c179e"
             ],
             [
              0.4444444444444444,
              "#bd3786"
             ],
             [
              0.5555555555555556,
              "#d8576b"
             ],
             [
              0.6666666666666666,
              "#ed7953"
             ],
             [
              0.7777777777777778,
              "#fb9f3a"
             ],
             [
              0.8888888888888888,
              "#fdca26"
             ],
             [
              1,
              "#f0f921"
             ]
            ],
            "type": "heatmap"
           }
          ],
          "histogram": [
           {
            "marker": {
             "pattern": {
              "fillmode": "overlay",
              "size": 10,
              "solidity": 0.2
             }
            },
            "type": "histogram"
           }
          ],
          "histogram2d": [
           {
            "colorbar": {
             "outlinewidth": 0,
             "ticks": ""
            },
            "colorscale": [
             [
              0,
              "#0d0887"
             ],
             [
              0.1111111111111111,
              "#46039f"
             ],
             [
              0.2222222222222222,
              "#7201a8"
             ],
             [
              0.3333333333333333,
              "#9c179e"
             ],
             [
              0.4444444444444444,
              "#bd3786"
             ],
             [
              0.5555555555555556,
              "#d8576b"
             ],
             [
              0.6666666666666666,
              "#ed7953"
             ],
             [
              0.7777777777777778,
              "#fb9f3a"
             ],
             [
              0.8888888888888888,
              "#fdca26"
             ],
             [
              1,
              "#f0f921"
             ]
            ],
            "type": "histogram2d"
           }
          ],
          "histogram2dcontour": [
           {
            "colorbar": {
             "outlinewidth": 0,
             "ticks": ""
            },
            "colorscale": [
             [
              0,
              "#0d0887"
             ],
             [
              0.1111111111111111,
              "#46039f"
             ],
             [
              0.2222222222222222,
              "#7201a8"
             ],
             [
              0.3333333333333333,
              "#9c179e"
             ],
             [
              0.4444444444444444,
              "#bd3786"
             ],
             [
              0.5555555555555556,
              "#d8576b"
             ],
             [
              0.6666666666666666,
              "#ed7953"
             ],
             [
              0.7777777777777778,
              "#fb9f3a"
             ],
             [
              0.8888888888888888,
              "#fdca26"
             ],
             [
              1,
              "#f0f921"
             ]
            ],
            "type": "histogram2dcontour"
           }
          ],
          "mesh3d": [
           {
            "colorbar": {
             "outlinewidth": 0,
             "ticks": ""
            },
            "type": "mesh3d"
           }
          ],
          "parcoords": [
           {
            "line": {
             "colorbar": {
              "outlinewidth": 0,
              "ticks": ""
             }
            },
            "type": "parcoords"
           }
          ],
          "pie": [
           {
            "automargin": true,
            "type": "pie"
           }
          ],
          "scatter": [
           {
            "fillpattern": {
             "fillmode": "overlay",
             "size": 10,
             "solidity": 0.2
            },
            "type": "scatter"
           }
          ],
          "scatter3d": [
           {
            "line": {
             "colorbar": {
              "outlinewidth": 0,
              "ticks": ""
             }
            },
            "marker": {
             "colorbar": {
              "outlinewidth": 0,
              "ticks": ""
             }
            },
            "type": "scatter3d"
           }
          ],
          "scattercarpet": [
           {
            "marker": {
             "colorbar": {
              "outlinewidth": 0,
              "ticks": ""
             }
            },
            "type": "scattercarpet"
           }
          ],
          "scattergeo": [
           {
            "marker": {
             "colorbar": {
              "outlinewidth": 0,
              "ticks": ""
             }
            },
            "type": "scattergeo"
           }
          ],
          "scattergl": [
           {
            "marker": {
             "colorbar": {
              "outlinewidth": 0,
              "ticks": ""
             }
            },
            "type": "scattergl"
           }
          ],
          "scattermap": [
           {
            "marker": {
             "colorbar": {
              "outlinewidth": 0,
              "ticks": ""
             }
            },
            "type": "scattermap"
           }
          ],
          "scattermapbox": [
           {
            "marker": {
             "colorbar": {
              "outlinewidth": 0,
              "ticks": ""
             }
            },
            "type": "scattermapbox"
           }
          ],
          "scatterpolar": [
           {
            "marker": {
             "colorbar": {
              "outlinewidth": 0,
              "ticks": ""
             }
            },
            "type": "scatterpolar"
           }
          ],
          "scatterpolargl": [
           {
            "marker": {
             "colorbar": {
              "outlinewidth": 0,
              "ticks": ""
             }
            },
            "type": "scatterpolargl"
           }
          ],
          "scatterternary": [
           {
            "marker": {
             "colorbar": {
              "outlinewidth": 0,
              "ticks": ""
             }
            },
            "type": "scatterternary"
           }
          ],
          "surface": [
           {
            "colorbar": {
             "outlinewidth": 0,
             "ticks": ""
            },
            "colorscale": [
             [
              0,
              "#0d0887"
             ],
             [
              0.1111111111111111,
              "#46039f"
             ],
             [
              0.2222222222222222,
              "#7201a8"
             ],
             [
              0.3333333333333333,
              "#9c179e"
             ],
             [
              0.4444444444444444,
              "#bd3786"
             ],
             [
              0.5555555555555556,
              "#d8576b"
             ],
             [
              0.6666666666666666,
              "#ed7953"
             ],
             [
              0.7777777777777778,
              "#fb9f3a"
             ],
             [
              0.8888888888888888,
              "#fdca26"
             ],
             [
              1,
              "#f0f921"
             ]
            ],
            "type": "surface"
           }
          ],
          "table": [
           {
            "cells": {
             "fill": {
              "color": "#EBF0F8"
             },
             "line": {
              "color": "white"
             }
            },
            "header": {
             "fill": {
              "color": "#C8D4E3"
             },
             "line": {
              "color": "white"
             }
            },
            "type": "table"
           }
          ]
         },
         "layout": {
          "annotationdefaults": {
           "arrowcolor": "#2a3f5f",
           "arrowhead": 0,
           "arrowwidth": 1
          },
          "autotypenumbers": "strict",
          "coloraxis": {
           "colorbar": {
            "outlinewidth": 0,
            "ticks": ""
           }
          },
          "colorscale": {
           "diverging": [
            [
             0,
             "#8e0152"
            ],
            [
             0.1,
             "#c51b7d"
            ],
            [
             0.2,
             "#de77ae"
            ],
            [
             0.3,
             "#f1b6da"
            ],
            [
             0.4,
             "#fde0ef"
            ],
            [
             0.5,
             "#f7f7f7"
            ],
            [
             0.6,
             "#e6f5d0"
            ],
            [
             0.7,
             "#b8e186"
            ],
            [
             0.8,
             "#7fbc41"
            ],
            [
             0.9,
             "#4d9221"
            ],
            [
             1,
             "#276419"
            ]
           ],
           "sequential": [
            [
             0,
             "#0d0887"
            ],
            [
             0.1111111111111111,
             "#46039f"
            ],
            [
             0.2222222222222222,
             "#7201a8"
            ],
            [
             0.3333333333333333,
             "#9c179e"
            ],
            [
             0.4444444444444444,
             "#bd3786"
            ],
            [
             0.5555555555555556,
             "#d8576b"
            ],
            [
             0.6666666666666666,
             "#ed7953"
            ],
            [
             0.7777777777777778,
             "#fb9f3a"
            ],
            [
             0.8888888888888888,
             "#fdca26"
            ],
            [
             1,
             "#f0f921"
            ]
           ],
           "sequentialminus": [
            [
             0,
             "#0d0887"
            ],
            [
             0.1111111111111111,
             "#46039f"
            ],
            [
             0.2222222222222222,
             "#7201a8"
            ],
            [
             0.3333333333333333,
             "#9c179e"
            ],
            [
             0.4444444444444444,
             "#bd3786"
            ],
            [
             0.5555555555555556,
             "#d8576b"
            ],
            [
             0.6666666666666666,
             "#ed7953"
            ],
            [
             0.7777777777777778,
             "#fb9f3a"
            ],
            [
             0.8888888888888888,
             "#fdca26"
            ],
            [
             1,
             "#f0f921"
            ]
           ]
          },
          "colorway": [
           "#636efa",
           "#EF553B",
           "#00cc96",
           "#ab63fa",
           "#FFA15A",
           "#19d3f3",
           "#FF6692",
           "#B6E880",
           "#FF97FF",
           "#FECB52"
          ],
          "font": {
           "color": "#2a3f5f"
          },
          "geo": {
           "bgcolor": "white",
           "lakecolor": "white",
           "landcolor": "#E5ECF6",
           "showlakes": true,
           "showland": true,
           "subunitcolor": "white"
          },
          "hoverlabel": {
           "align": "left"
          },
          "hovermode": "closest",
          "mapbox": {
           "style": "light"
          },
          "paper_bgcolor": "white",
          "plot_bgcolor": "#E5ECF6",
          "polar": {
           "angularaxis": {
            "gridcolor": "white",
            "linecolor": "white",
            "ticks": ""
           },
           "bgcolor": "#E5ECF6",
           "radialaxis": {
            "gridcolor": "white",
            "linecolor": "white",
            "ticks": ""
           }
          },
          "scene": {
           "xaxis": {
            "backgroundcolor": "#E5ECF6",
            "gridcolor": "white",
            "gridwidth": 2,
            "linecolor": "white",
            "showbackground": true,
            "ticks": "",
            "zerolinecolor": "white"
           },
           "yaxis": {
            "backgroundcolor": "#E5ECF6",
            "gridcolor": "white",
            "gridwidth": 2,
            "linecolor": "white",
            "showbackground": true,
            "ticks": "",
            "zerolinecolor": "white"
           },
           "zaxis": {
            "backgroundcolor": "#E5ECF6",
            "gridcolor": "white",
            "gridwidth": 2,
            "linecolor": "white",
            "showbackground": true,
            "ticks": "",
            "zerolinecolor": "white"
           }
          },
          "shapedefaults": {
           "line": {
            "color": "#2a3f5f"
           }
          },
          "ternary": {
           "aaxis": {
            "gridcolor": "white",
            "linecolor": "white",
            "ticks": ""
           },
           "baxis": {
            "gridcolor": "white",
            "linecolor": "white",
            "ticks": ""
           },
           "bgcolor": "#E5ECF6",
           "caxis": {
            "gridcolor": "white",
            "linecolor": "white",
            "ticks": ""
           }
          },
          "title": {
           "x": 0.05
          },
          "xaxis": {
           "automargin": true,
           "gridcolor": "white",
           "linecolor": "white",
           "ticks": "",
           "title": {
            "standoff": 15
           },
           "zerolinecolor": "white",
           "zerolinewidth": 2
          },
          "yaxis": {
           "automargin": true,
           "gridcolor": "white",
           "linecolor": "white",
           "ticks": "",
           "title": {
            "standoff": 15
           },
           "zerolinecolor": "white",
           "zerolinewidth": 2
          }
         }
        },
        "title": {
         "font": {
          "color": "#1e293b",
          "family": "Georgia, serif",
          "size": 18
         },
         "text": "<span style=\"border-bottom: 5px solid #DC143C; padding-bottom: 5px;\">Composición Porcentual de Rubros Económicos por Comuna (Top 5)</span>",
         "x": 0.01,
         "y": 0.95
        },
        "width": 1100,
        "xaxis": {
         "anchor": "y",
         "categoryorder": "total descending",
         "domain": [
          0,
          1
         ],
         "gridcolor": "lightgray",
         "showgrid": true,
         "tickfont": {
          "family": "Georgia, serif"
         },
         "title": {
          "font": {
           "family": "Georgia, serif",
           "size": 14
          },
          "text": "Comuna"
         },
         "type": "category",
         "zeroline": false
        },
        "yaxis": {
         "anchor": "x",
         "domain": [
          0,
          1
         ],
         "showgrid": false,
         "tickfont": {
          "family": "Georgia, serif"
         },
         "title": {
          "font": {
           "family": "Georgia, serif",
           "size": 14
          },
          "text": "Porcentaje (%)"
         },
         "zeroline": false
        }
       }
      }
     },
     "metadata": {},
     "output_type": "display_data"
    },
    {
     "data": {
      "application/vnd.plotly.v1+json": {
       "config": {
        "plotlyServerURL": "https://plot.ly"
       },
       "data": [
        {
         "fill": "toself",
         "fillcolor": "#2C5F7C",
         "hovertemplate": "<b>%{fullData.name}</b><br>%{theta}: %{r:.2f}<extra></extra>",
         "line": {
          "color": "#2C5F7C",
          "width": 4
         },
         "marker": {
          "color": "#2C5F7C",
          "size": 8
         },
         "name": "La Unión",
         "opacity": 0.25,
         "r": {
          "bdata": "4S5OegUr0D9go3HZSrjgPwDsO52sIso/4S5OegUr0D8=",
          "dtype": "f8"
         },
         "theta": [
          "Número de empresas",
          "Ventas anuales en UF",
          "Número de trabajadores dependientes",
          "Número de empresas"
         ],
         "type": "scatterpolar"
        },
        {
         "fill": "toself",
         "fillcolor": "#4A6741",
         "hovertemplate": "<b>%{fullData.name}</b><br>%{theta}: %{r:.2f}<extra></extra>",
         "line": {
          "color": "#4A6741",
          "width": 4
         },
         "marker": {
          "color": "#4A6741",
          "size": 8
         },
         "name": "Río Bueno",
         "opacity": 0.25,
         "r": {
          "bdata": "RvJvXEgpyz8xD/S9dOy8P+/4l5PZa7s/RvJvXEgpyz8=",
          "dtype": "f8"
         },
         "theta": [
          "Número de empresas",
          "Ventas anuales en UF",
          "Número de trabajadores dependientes",
          "Número de empresas"
         ],
         "type": "scatterpolar"
        },
        {
         "fill": "toself",
         "fillcolor": "#5D4E35",
         "hovertemplate": "<b>%{fullData.name}</b><br>%{theta}: %{r:.2f}<extra></extra>",
         "line": {
          "color": "#5D4E35",
          "width": 4
         },
         "marker": {
          "color": "#5D4E35",
          "size": 8
         },
         "name": "Valdivia",
         "opacity": 0.25,
         "r": {
          "bdata": "AAAAAAAA8D8AAAAAAADwPwAAAAAAAPA/AAAAAAAA8D8=",
          "dtype": "f8"
         },
         "theta": [
          "Número de empresas",
          "Ventas anuales en UF",
          "Número de trabajadores dependientes",
          "Número de empresas"
         ],
         "type": "scatterpolar"
        }
       ],
       "layout": {
        "font": {
         "color": "#2C3E50",
         "family": "Georgia, serif"
        },
        "height": 800,
        "legend": {
         "bgcolor": "rgba(255, 255, 255, 0)",
         "bordercolor": "rgba(0,0,0,0)",
         "borderwidth": 0,
         "font": {
          "family": "Georgia, serif",
          "size": 13,
          "weight": "bold"
         },
         "itemwidth": 100,
         "orientation": "h",
         "x": 0.5,
         "xanchor": "center",
         "y": -0.15,
         "yanchor": "bottom"
        },
        "margin": {
         "b": 100,
         "l": 100,
         "r": 100,
         "t": 120
        },
        "paper_bgcolor": "white",
        "polar": {
         "angularaxis": {
          "gridcolor": "#F0F0F0",
          "gridwidth": 0.3,
          "linecolor": "#E0E0E0",
          "linewidth": 0.3,
          "showline": true,
          "tickfont": {
           "color": "#2C3E50",
           "family": "Georgia, serif",
           "size": 13,
           "weight": "bold"
          }
         },
         "bgcolor": "white",
         "radialaxis": {
          "gridcolor": "#F0F0F0",
          "gridwidth": 0.3,
          "linecolor": "#E0E0E0",
          "linewidth": 0.3,
          "range": [
           0,
           1
          ],
          "showline": true,
          "tickfont": {
           "color": "#2C3E50",
           "family": "Georgia, serif",
           "size": 11
          },
          "ticktext": [
           "0.2",
           "0.4",
           "0.6",
           "0.8",
           "1.0"
          ],
          "tickvals": [
           0.2,
           0.4,
           0.6,
           0.8,
           1
          ],
          "visible": true
         }
        },
        "template": {
         "data": {
          "bar": [
           {
            "error_x": {
             "color": "#2a3f5f"
            },
            "error_y": {
             "color": "#2a3f5f"
            },
            "marker": {
             "line": {
              "color": "#E5ECF6",
              "width": 0.5
             },
             "pattern": {
              "fillmode": "overlay",
              "size": 10,
              "solidity": 0.2
             }
            },
            "type": "bar"
           }
          ],
          "barpolar": [
           {
            "marker": {
             "line": {
              "color": "#E5ECF6",
              "width": 0.5
             },
             "pattern": {
              "fillmode": "overlay",
              "size": 10,
              "solidity": 0.2
             }
            },
            "type": "barpolar"
           }
          ],
          "carpet": [
           {
            "aaxis": {
             "endlinecolor": "#2a3f5f",
             "gridcolor": "white",
             "linecolor": "white",
             "minorgridcolor": "white",
             "startlinecolor": "#2a3f5f"
            },
            "baxis": {
             "endlinecolor": "#2a3f5f",
             "gridcolor": "white",
             "linecolor": "white",
             "minorgridcolor": "white",
             "startlinecolor": "#2a3f5f"
            },
            "type": "carpet"
           }
          ],
          "choropleth": [
           {
            "colorbar": {
             "outlinewidth": 0,
             "ticks": ""
            },
            "type": "choropleth"
           }
          ],
          "contour": [
           {
            "colorbar": {
             "outlinewidth": 0,
             "ticks": ""
            },
            "colorscale": [
             [
              0,
              "#0d0887"
             ],
             [
              0.1111111111111111,
              "#46039f"
             ],
             [
              0.2222222222222222,
              "#7201a8"
             ],
             [
              0.3333333333333333,
              "#9c179e"
             ],
             [
              0.4444444444444444,
              "#bd3786"
             ],
             [
              0.5555555555555556,
              "#d8576b"
             ],
             [
              0.6666666666666666,
              "#ed7953"
             ],
             [
              0.7777777777777778,
              "#fb9f3a"
             ],
             [
              0.8888888888888888,
              "#fdca26"
             ],
             [
              1,
              "#f0f921"
             ]
            ],
            "type": "contour"
           }
          ],
          "contourcarpet": [
           {
            "colorbar": {
             "outlinewidth": 0,
             "ticks": ""
            },
            "type": "contourcarpet"
           }
          ],
          "heatmap": [
           {
            "colorbar": {
             "outlinewidth": 0,
             "ticks": ""
            },
            "colorscale": [
             [
              0,
              "#0d0887"
             ],
             [
              0.1111111111111111,
              "#46039f"
             ],
             [
              0.2222222222222222,
              "#7201a8"
             ],
             [
              0.3333333333333333,
              "#9c179e"
             ],
             [
              0.4444444444444444,
              "#bd3786"
             ],
             [
              0.5555555555555556,
              "#d8576b"
             ],
             [
              0.6666666666666666,
              "#ed7953"
             ],
             [
              0.7777777777777778,
              "#fb9f3a"
             ],
             [
              0.8888888888888888,
              "#fdca26"
             ],
             [
              1,
              "#f0f921"
             ]
            ],
            "type": "heatmap"
           }
          ],
          "histogram": [
           {
            "marker": {
             "pattern": {
              "fillmode": "overlay",
              "size": 10,
              "solidity": 0.2
             }
            },
            "type": "histogram"
           }
          ],
          "histogram2d": [
           {
            "colorbar": {
             "outlinewidth": 0,
             "ticks": ""
            },
            "colorscale": [
             [
              0,
              "#0d0887"
             ],
             [
              0.1111111111111111,
              "#46039f"
             ],
             [
              0.2222222222222222,
              "#7201a8"
             ],
             [
              0.3333333333333333,
              "#9c179e"
             ],
             [
              0.4444444444444444,
              "#bd3786"
             ],
             [
              0.5555555555555556,
              "#d8576b"
             ],
             [
              0.6666666666666666,
              "#ed7953"
             ],
             [
              0.7777777777777778,
              "#fb9f3a"
             ],
             [
              0.8888888888888888,
              "#fdca26"
             ],
             [
              1,
              "#f0f921"
             ]
            ],
            "type": "histogram2d"
           }
          ],
          "histogram2dcontour": [
           {
            "colorbar": {
             "outlinewidth": 0,
             "ticks": ""
            },
            "colorscale": [
             [
              0,
              "#0d0887"
             ],
             [
              0.1111111111111111,
              "#46039f"
             ],
             [
              0.2222222222222222,
              "#7201a8"
             ],
             [
              0.3333333333333333,
              "#9c179e"
             ],
             [
              0.4444444444444444,
              "#bd3786"
             ],
             [
              0.5555555555555556,
              "#d8576b"
             ],
             [
              0.6666666666666666,
              "#ed7953"
             ],
             [
              0.7777777777777778,
              "#fb9f3a"
             ],
             [
              0.8888888888888888,
              "#fdca26"
             ],
             [
              1,
              "#f0f921"
             ]
            ],
            "type": "histogram2dcontour"
           }
          ],
          "mesh3d": [
           {
            "colorbar": {
             "outlinewidth": 0,
             "ticks": ""
            },
            "type": "mesh3d"
           }
          ],
          "parcoords": [
           {
            "line": {
             "colorbar": {
              "outlinewidth": 0,
              "ticks": ""
             }
            },
            "type": "parcoords"
           }
          ],
          "pie": [
           {
            "automargin": true,
            "type": "pie"
           }
          ],
          "scatter": [
           {
            "fillpattern": {
             "fillmode": "overlay",
             "size": 10,
             "solidity": 0.2
            },
            "type": "scatter"
           }
          ],
          "scatter3d": [
           {
            "line": {
             "colorbar": {
              "outlinewidth": 0,
              "ticks": ""
             }
            },
            "marker": {
             "colorbar": {
              "outlinewidth": 0,
              "ticks": ""
             }
            },
            "type": "scatter3d"
           }
          ],
          "scattercarpet": [
           {
            "marker": {
             "colorbar": {
              "outlinewidth": 0,
              "ticks": ""
             }
            },
            "type": "scattercarpet"
           }
          ],
          "scattergeo": [
           {
            "marker": {
             "colorbar": {
              "outlinewidth": 0,
              "ticks": ""
             }
            },
            "type": "scattergeo"
           }
          ],
          "scattergl": [
           {
            "marker": {
             "colorbar": {
              "outlinewidth": 0,
              "ticks": ""
             }
            },
            "type": "scattergl"
           }
          ],
          "scattermap": [
           {
            "marker": {
             "colorbar": {
              "outlinewidth": 0,
              "ticks": ""
             }
            },
            "type": "scattermap"
           }
          ],
          "scattermapbox": [
           {
            "marker": {
             "colorbar": {
              "outlinewidth": 0,
              "ticks": ""
             }
            },
            "type": "scattermapbox"
           }
          ],
          "scatterpolar": [
           {
            "marker": {
             "colorbar": {
              "outlinewidth": 0,
              "ticks": ""
             }
            },
            "type": "scatterpolar"
           }
          ],
          "scatterpolargl": [
           {
            "marker": {
             "colorbar": {
              "outlinewidth": 0,
              "ticks": ""
             }
            },
            "type": "scatterpolargl"
           }
          ],
          "scatterternary": [
           {
            "marker": {
             "colorbar": {
              "outlinewidth": 0,
              "ticks": ""
             }
            },
            "type": "scatterternary"
           }
          ],
          "surface": [
           {
            "colorbar": {
             "outlinewidth": 0,
             "ticks": ""
            },
            "colorscale": [
             [
              0,
              "#0d0887"
             ],
             [
              0.1111111111111111,
              "#46039f"
             ],
             [
              0.2222222222222222,
              "#7201a8"
             ],
             [
              0.3333333333333333,
              "#9c179e"
             ],
             [
              0.4444444444444444,
              "#bd3786"
             ],
             [
              0.5555555555555556,
              "#d8576b"
             ],
             [
              0.6666666666666666,
              "#ed7953"
             ],
             [
              0.7777777777777778,
              "#fb9f3a"
             ],
             [
              0.8888888888888888,
              "#fdca26"
             ],
             [
              1,
              "#f0f921"
             ]
            ],
            "type": "surface"
           }
          ],
          "table": [
           {
            "cells": {
             "fill": {
              "color": "#EBF0F8"
             },
             "line": {
              "color": "white"
             }
            },
            "header": {
             "fill": {
              "color": "#C8D4E3"
             },
             "line": {
              "color": "white"
             }
            },
            "type": "table"
           }
          ]
         },
         "layout": {
          "annotationdefaults": {
           "arrowcolor": "#2a3f5f",
           "arrowhead": 0,
           "arrowwidth": 1
          },
          "autotypenumbers": "strict",
          "coloraxis": {
           "colorbar": {
            "outlinewidth": 0,
            "ticks": ""
           }
          },
          "colorscale": {
           "diverging": [
            [
             0,
             "#8e0152"
            ],
            [
             0.1,
             "#c51b7d"
            ],
            [
             0.2,
             "#de77ae"
            ],
            [
             0.3,
             "#f1b6da"
            ],
            [
             0.4,
             "#fde0ef"
            ],
            [
             0.5,
             "#f7f7f7"
            ],
            [
             0.6,
             "#e6f5d0"
            ],
            [
             0.7,
             "#b8e186"
            ],
            [
             0.8,
             "#7fbc41"
            ],
            [
             0.9,
             "#4d9221"
            ],
            [
             1,
             "#276419"
            ]
           ],
           "sequential": [
            [
             0,
             "#0d0887"
            ],
            [
             0.1111111111111111,
             "#46039f"
            ],
            [
             0.2222222222222222,
             "#7201a8"
            ],
            [
             0.3333333333333333,
             "#9c179e"
            ],
            [
             0.4444444444444444,
             "#bd3786"
            ],
            [
             0.5555555555555556,
             "#d8576b"
            ],
            [
             0.6666666666666666,
             "#ed7953"
            ],
            [
             0.7777777777777778,
             "#fb9f3a"
            ],
            [
             0.8888888888888888,
             "#fdca26"
            ],
            [
             1,
             "#f0f921"
            ]
           ],
           "sequentialminus": [
            [
             0,
             "#0d0887"
            ],
            [
             0.1111111111111111,
             "#46039f"
            ],
            [
             0.2222222222222222,
             "#7201a8"
            ],
            [
             0.3333333333333333,
             "#9c179e"
            ],
            [
             0.4444444444444444,
             "#bd3786"
            ],
            [
             0.5555555555555556,
             "#d8576b"
            ],
            [
             0.6666666666666666,
             "#ed7953"
            ],
            [
             0.7777777777777778,
             "#fb9f3a"
            ],
            [
             0.8888888888888888,
             "#fdca26"
            ],
            [
             1,
             "#f0f921"
            ]
           ]
          },
          "colorway": [
           "#636efa",
           "#EF553B",
           "#00cc96",
           "#ab63fa",
           "#FFA15A",
           "#19d3f3",
           "#FF6692",
           "#B6E880",
           "#FF97FF",
           "#FECB52"
          ],
          "font": {
           "color": "#2a3f5f"
          },
          "geo": {
           "bgcolor": "white",
           "lakecolor": "white",
           "landcolor": "#E5ECF6",
           "showlakes": true,
           "showland": true,
           "subunitcolor": "white"
          },
          "hoverlabel": {
           "align": "left"
          },
          "hovermode": "closest",
          "mapbox": {
           "style": "light"
          },
          "paper_bgcolor": "white",
          "plot_bgcolor": "#E5ECF6",
          "polar": {
           "angularaxis": {
            "gridcolor": "white",
            "linecolor": "white",
            "ticks": ""
           },
           "bgcolor": "#E5ECF6",
           "radialaxis": {
            "gridcolor": "white",
            "linecolor": "white",
            "ticks": ""
           }
          },
          "scene": {
           "xaxis": {
            "backgroundcolor": "#E5ECF6",
            "gridcolor": "white",
            "gridwidth": 2,
            "linecolor": "white",
            "showbackground": true,
            "ticks": "",
            "zerolinecolor": "white"
           },
           "yaxis": {
            "backgroundcolor": "#E5ECF6",
            "gridcolor": "white",
            "gridwidth": 2,
            "linecolor": "white",
            "showbackground": true,
            "ticks": "",
            "zerolinecolor": "white"
           },
           "zaxis": {
            "backgroundcolor": "#E5ECF6",
            "gridcolor": "white",
            "gridwidth": 2,
            "linecolor": "white",
            "showbackground": true,
            "ticks": "",
            "zerolinecolor": "white"
           }
          },
          "shapedefaults": {
           "line": {
            "color": "#2a3f5f"
           }
          },
          "ternary": {
           "aaxis": {
            "gridcolor": "white",
            "linecolor": "white",
            "ticks": ""
           },
           "baxis": {
            "gridcolor": "white",
            "linecolor": "white",
            "ticks": ""
           },
           "bgcolor": "#E5ECF6",
           "caxis": {
            "gridcolor": "white",
            "linecolor": "white",
            "ticks": ""
           }
          },
          "title": {
           "x": 0.05
          },
          "xaxis": {
           "automargin": true,
           "gridcolor": "white",
           "linecolor": "white",
           "ticks": "",
           "title": {
            "standoff": 15
           },
           "zerolinecolor": "white",
           "zerolinewidth": 2
          },
          "yaxis": {
           "automargin": true,
           "gridcolor": "white",
           "linecolor": "white",
           "ticks": "",
           "title": {
            "standoff": 15
           },
           "zerolinecolor": "white",
           "zerolinewidth": 2
          }
         }
        },
        "title": {
         "font": {
          "color": "#2C3E50",
          "family": "Georgia, serif",
          "size": 18,
          "weight": "bold"
         },
         "text": "<span style=\"border-bottom: 5px solid #DC143C; padding-bottom: 5px;\">Comparación Normalizada de Indicadores por Comuna (Top 3)</span>",
         "x": 0.01,
         "y": 0.95
        },
        "width": 900
       }
      }
     },
     "metadata": {},
     "output_type": "display_data"
    }
   ],
   "source": [
    "# Crear un mapa de calor para mostrar la relación entre comunas y rubros económicos\n",
    "\n",
    "# Preparar los datos\n",
    "# Seleccionamos las top 5 comunas y los top 5 rubros para una mejor visualización\n",
    "top_5_comunas = df_comunas['comuna'].head(5).tolist()\n",
    "top_5_rubros_descriptions = df_rubros['descripcion'].head(5).tolist()\n",
    "\n",
    "# Filtrar el dataframe para las comunas y rubros seleccionados\n",
    "# Usar descripciones limpias en lugar de códigos\n",
    "df_filtered = df_los_rios[df_los_rios['Comuna'].isin(top_5_comunas)]\n",
    "\n",
    "# Agregar descripción limpia al dataframe filtrado\n",
    "df_filtered = df_filtered.copy()\n",
    "df_filtered['Rubro_limpio'] = df_filtered['Rubro economico'].apply(limpiar_texto)\n",
    "df_filtered['Descripcion_rubro'] = df_filtered['Rubro_limpio'].str.split(' - ').str[1:].apply(lambda x: ' - '.join(x) if isinstance(x, list) else '')\n",
    "\n",
    "# Filtrar por las top 5 descripciones\n",
    "df_filtered = df_filtered[df_filtered['Descripcion_rubro'].isin(top_5_rubros_descriptions)]\n",
    "\n",
    "# Convertir a formato pivot para el mapa de calor usando descripciones limpias\n",
    "pivot_data = df_filtered.pivot_table(\n",
    "    index='Comuna',\n",
    "    columns='Descripcion_rubro',\n",
    "    values='Número de empresas',\n",
    "    aggfunc='sum',\n",
    "    fill_value=0\n",
    ")\n",
    "\n",
    "# Función para abreviar etiquetas de rubros para el mapa de calor\n",
    "def abreviar_rubro_heatmap(descripcion):\n",
    "    \"\"\"Abrevia descripciones de rubros para el mapa de calor con saltos de línea elegantes\"\"\"\n",
    "    abreviaciones_heatmap = {\n",
    "        'Comercio al por mayor y al por menor; reparación de vehículos automotores y motocicletas': 'Comercio y<br>Reparación<br>Automotriz',\n",
    "        'Agricultura, ganadería, silvicultura y pesca': 'Agricultura<br>y Ganadería',\n",
    "        'Transporte y almacenamiento': 'Transporte y<br>Almacenamiento',\n",
    "        'Actividades de servicios administrativos y de apoyo': 'Servicios<br>Administrativos',\n",
    "        'Construcción': 'Construcción',\n",
    "        'Actividades inmobiliarias': 'Actividades<br>Inmobiliarias',\n",
    "        'Alojamiento y servicios de comida': 'Hotelería y<br>Restaurantes',\n",
    "        'Industrias manufactureras': 'Industria<br>Manufacturera',\n",
    "        'Información y comunicaciones': 'Información y<br>Comunicaciones',\n",
    "        'Actividades profesionales, científicas y técnicas': 'Servicios<br>Profesionales'\n",
    "    }\n",
    "    return abreviaciones_heatmap.get(descripcion, descripcion.replace(' ', '<br>'))\n",
    "\n",
    "# Crear una copia de pivot_data con columnas abreviadas\n",
    "pivot_data_display = pivot_data.copy()\n",
    "pivot_data_display.columns = [abreviar_rubro_heatmap(col) for col in pivot_data_display.columns]\n",
    "\n",
    "# Crear escala de colores elegante estilo \"The Economist\" - sofisticada y accesible para daltonismo\n",
    "economist_heatmap_colors = [\n",
    "    \"#FAFBFC\",  # Blanco cálido casi imperceptible (valores muy bajos)\n",
    "    \"#F4F6F8\",  # Gris perla muy suave\n",
    "    \"#E8EDF3\",  # Gris azulado elegante\n",
    "    \"#D6E3F0\",  # Azul gris claro sofisticado\n",
    "    \"#C1D5E0\",  # Azul gris medio\n",
    "    \"#A8C2D0\",  # Azul acero claro\n",
    "    \"#8BADC3\",  # Azul acero medio\n",
    "    \"#6B96B6\",  # Azul profesional\n",
    "    \"#4C7FA3\",  # Azul corporativo\n",
    "    \"#326590\",  # Azul \"The Economist\" clásico\n",
    "    \"#1B4A6B\"   # Azul profundo elegante (valores más altos)\n",
    "]\n",
    "\n",
    "# Crear mapa de calor interactivo con Plotly usando escala profesional\n",
    "fig = px.imshow(\n",
    "    pivot_data_display,\n",
    "    labels=dict(x=\"Rubro Económico\", y=\"Comuna\", color=\"Número de Empresas\"),\n",
    "    text_auto=True,\n",
    "    aspect=\"auto\",\n",
    "    color_continuous_scale=economist_heatmap_colors,  # Escala monocromática azul elegante y accesible\n",
    "    height=700,  # Más alto para mejor visualización\n",
    "    width=1200,  # Más ancho para acomodar mejor las etiquetas\n",
    ")\n",
    "\n",
    "# Aplicar estilo \"The Economist\" personalizado\n",
    "fig.update_layout(\n",
    "    font=dict(family='Georgia, serif', color='#1e293b'),\n",
    "    title=dict(\n",
    "        text='<span style=\"border-bottom: 5px solid #DC143C; padding-bottom: 5px;\">Distribución de Empresas por Comuna y Rubro Económico (Top 5)</span>',\n",
    "        font=dict(size=18, family='Georgia, serif', color='#1e293b'),\n",
    "        x=0.01,  # Título alineado a la izquierda\n",
    "        y=0.95\n",
    "    ),\n",
    "    xaxis=dict(\n",
    "        title=dict(text='Rubro Económico', font=dict(family='Georgia, serif', size=14)),\n",
    "        tickfont=dict(family='Georgia, serif', size=11),\n",
    "        tickangle=0,  # Etiquetas horizontales para mejor legibilidad\n",
    "        side='bottom',\n",
    "        showgrid=True,  # Mantener grid lines en X\n",
    "        gridcolor='lightgray',\n",
    "        zeroline=False\n",
    "    ),\n",
    "    yaxis=dict(\n",
    "        title=dict(text='Comuna', font=dict(family='Georgia, serif', size=14)),\n",
    "        tickfont=dict(family='Georgia, serif', size=12),\n",
    "        showgrid=False,  # Eliminar grid lines en Y\n",
    "        zeroline=False\n",
    "    ),\n",
    "    plot_bgcolor='white',\n",
    "    paper_bgcolor='white',\n",
    "    margin=dict(l=80, r=120, t=100, b=120),  # Más margen derecho para la barra vertical\n",
    "    coloraxis_colorbar=dict(\n",
    "        title=dict(text=\"\", font=dict(family=\"Georgia, serif\", size=12, color=\"#2C3E50\")),  # Sin título\n",
    "        tickfont=dict(family=\"Georgia, serif\", size=10, color=\"#2C3E50\"),\n",
    "        orientation=\"v\",  # Vertical a la derecha\n",
    "        thickness=20,  # Grosor normal\n",
    "        len=0.7,  # Longitud ajustada\n",
    "        x=1.02,  # A la derecha del gráfico\n",
    "        xanchor=\"left\",\n",
    "        bgcolor='white',  # Fondo blanco limpio\n",
    "        borderwidth=0,  # Sin borde para mayor elegancia\n",
    "        outlinewidth=0,  # Sin contorno\n",
    "    )\n",
    ")\n",
    "\n",
    "# Personalizar el texto del mapa de calor para mejor legibilidad\n",
    "fig.update_traces(\n",
    "    textfont=dict(family=\"Georgia, serif\", size=14, color='#2C3E50'),  # Texto negro/gris oscuro por defecto\n",
    "    texttemplate='%{z}',  # Mostrar solo el número\n",
    "    hovertemplate='<b>%{y}</b><br><b>%{x}</b><br>Empresas: %{z}<extra></extra>',  # Tooltip mejorado\n",
    ")\n",
    "\n",
    "# Personalizar color específico para la celda de Valdivia - Comercio y Reparación Automotriz\n",
    "# Encontrar las coordenadas de Valdivia y el rubro específico\n",
    "valdivia_idx = list(pivot_data_display.index).index('Valdivia') if 'Valdivia' in pivot_data_display.index else -1\n",
    "comercio_idx = -1\n",
    "for i, col in enumerate(pivot_data_display.columns):\n",
    "    if 'Comercio y<br>Reparación<br>Automotriz' in col:\n",
    "        comercio_idx = i\n",
    "        break\n",
    "\n",
    "# Si encontramos ambas coordenadas, agregar anotación con texto blanco\n",
    "if valdivia_idx >= 0 and comercio_idx >= 0:\n",
    "    valor_celda = pivot_data_display.iloc[valdivia_idx, comercio_idx]\n",
    "    fig.add_annotation(\n",
    "        x=comercio_idx,\n",
    "        y=valdivia_idx,\n",
    "        text=f\"{valor_celda/1000:.3f}k\",  # Mostrar como \"52.856k\"\n",
    "        showarrow=False,\n",
    "        font=dict(family=\"Georgia, serif\", size=14, color='white'),  # Solo esta celda en blanco\n",
    "        bgcolor='rgba(0,0,0,0)',  # Fondo transparente para que no interfiera\n",
    "    )\n",
    "\n",
    "# Mostrar el gráfico\n",
    "fig.show()\n",
    "\n",
    "# Ahora creamos un gráfico de barras apiladas para mostrar la composición de rubros por comuna\n",
    "top_comunas = df_comunas['comuna'].head(5).tolist()\n",
    "top_rubros_descriptions = df_rubros['descripcion'].head(5).tolist()\n",
    "\n",
    "# Crear un dataframe para el gráfico usando descripciones limpias\n",
    "df_stacked = df_filtered.groupby(['Comuna', 'Descripcion_rubro'])['Número de empresas'].sum().unstack()\n",
    "\n",
    "# Normalizar para obtener porcentajes\n",
    "df_stacked_pct = df_stacked.div(df_stacked.sum(axis=1), axis=0) * 100\n",
    "\n",
    "# Función para abreviar nombres de rubros para el gráfico de barras apiladas\n",
    "def abreviar_rubro_stacked(descripcion):\n",
    "    \"\"\"Abrevia descripciones de rubros para el gráfico de barras apiladas\"\"\"\n",
    "    abreviaciones_stacked = {\n",
    "        'Comercio al por mayor y al por menor; reparación de vehículos automotores y motocicletas': 'Comercio y Reparación Automotriz',\n",
    "        'Agricultura, ganadería, silvicultura y pesca': 'Agricultura y Ganadería',\n",
    "        'Transporte y almacenamiento': 'Transporte y Almacenamiento',\n",
    "        'Actividades de servicios administrativos y de apoyo': 'Servicios Administrativos',\n",
    "        'Construcción': 'Construcción',\n",
    "        'Actividades inmobiliarias': 'Actividades Inmobiliarias',\n",
    "        'Alojamiento y servicios de comida': 'Hotelería y Restaurantes',\n",
    "        'Industrias manufactureras': 'Industria Manufacturera',\n",
    "        'Información y comunicaciones': 'Información y Comunicaciones',\n",
    "        'Actividades profesionales, científicas y técnicas': 'Servicios Profesionales'\n",
    "    }\n",
    "    return abreviaciones_stacked.get(descripcion, descripcion)\n",
    "\n",
    "# Aplicar abreviaciones a las columnas del dataframe\n",
    "df_stacked_abrev = df_stacked_pct.copy()\n",
    "df_stacked_abrev.columns = [abreviar_rubro_stacked(col) for col in df_stacked_abrev.columns]\n",
    "\n",
    "# Convertir el DataFrame para que funcione con Plotly\n",
    "df_stacked_plot = df_stacked_abrev.reset_index().melt(\n",
    "    id_vars='Comuna',\n",
    "    value_vars=df_stacked_abrev.columns,\n",
    "    var_name='Rubro',\n",
    "    value_name='Porcentaje'\n",
    ")\n",
    "\n",
    "# Paleta de colores elegante \"The Economist\" para daltonismo - más senior y sofisticada\n",
    "economist_senior_colors = [\n",
    "    \"#2E5984\",  # Azul marino elegante\n",
    "    \"#8B9DC3\",  # Azul gris suave\n",
    "    \"#DFB067\",  # Dorado cálido\n",
    "    \"#81A88D\",  # Verde salvia\n",
    "    \"#C4A484\",  # Beige cálido\n",
    "    \"#A67C7C\",  # Rosa apagado\n",
    "    \"#7F8C8D\",  # Gris acero\n",
    "    \"#B39C7D\",  # Marrón claro\n",
    "    \"#9BB7C4\",  # Azul gris claro\n",
    "    \"#D4A574\"   # Ámbar suave\n",
    "]\n",
    "\n",
    "# Crear gráfico de barras apiladas con Plotly\n",
    "fig = px.bar(\n",
    "    df_stacked_plot,\n",
    "    x='Comuna',\n",
    "    y='Porcentaje',\n",
    "    color='Rubro',\n",
    "    barmode='stack',\n",
    "    labels={'Porcentaje': 'Porcentaje (%)', 'Comuna': 'Comuna'},\n",
    "    color_discrete_sequence=economist_senior_colors,  # Usar paleta elegante senior\n",
    "    height=700,  # Más alto\n",
    "    width=1100,  # Más ancho\n",
    "    text=df_stacked_plot['Porcentaje'].apply(lambda x: f'{x:.1f}%' if x > 5 else '')\n",
    ")\n",
    "\n",
    "# Aplicar estilo \"The Economist\" personalizado\n",
    "fig.update_layout(\n",
    "    font=dict(family='Georgia, serif', color='#1e293b'),\n",
    "    title=dict(\n",
    "        text='<span style=\"border-bottom: 5px solid #DC143C; padding-bottom: 5px;\">Composición Porcentual de Rubros Económicos por Comuna (Top 5)</span>',\n",
    "        font=dict(size=18, family='Georgia, serif', color='#1e293b'),\n",
    "        x=0.01,  # Título alineado a la izquierda\n",
    "        y=0.95\n",
    "    ),\n",
    "    xaxis=dict(\n",
    "        title=dict(text='Comuna', font=dict(family='Georgia, serif', size=14)),\n",
    "        tickfont=dict(family='Georgia, serif'),\n",
    "        type='category',\n",
    "        categoryorder='total descending',\n",
    "        showgrid=True,  # Mantener grid lines en X\n",
    "        gridcolor='lightgray',\n",
    "        zeroline=False\n",
    "    ),\n",
    "    yaxis=dict(\n",
    "        title=dict(text='Porcentaje (%)', font=dict(family='Georgia, serif', size=14)),\n",
    "        tickfont=dict(family='Georgia, serif'),\n",
    "        showgrid=False,  # Eliminar grid lines en Y\n",
    "        zeroline=False\n",
    "    ),\n",
    "    legend=dict(\n",
    "        title_text='Rubro Económico',\n",
    "        font=dict(family='Georgia, serif', size=11),\n",
    "        title_font=dict(family='Georgia, serif', size=12),\n",
    "        bgcolor='rgba(255, 255, 255, 0)',  # Fondo transparente\n",
    "        bordercolor='rgba(0,0,0,0)',  # Sin borde\n",
    "        borderwidth=0  # Sin ancho de borde\n",
    "    ),\n",
    "    plot_bgcolor='white',\n",
    "    paper_bgcolor='white',\n",
    "    margin=dict(l=80, r=40, t=100, b=80),\n",
    ")\n",
    "\n",
    "# Personalizar texto\n",
    "fig.update_traces(\n",
    "    textposition='inside', \n",
    "    textfont=dict(family=\"Georgia, serif\", size=12, color='white'),  # Aumentar tamaño de texto a 12\n",
    "    hovertemplate='<b>%{x}</b><br>%{fullData.name}: %{y:.1f}%<extra></extra>',  # Tooltip personalizado\n",
    ")\n",
    "\n",
    "# Mostrar el gráfico\n",
    "fig.show()\n",
    "\n",
    "# Gráfico de radar para comparar las 3 principales comunas en distintas variables\n",
    "# Prepararemos variables normalizadas para la comparación\n",
    "\n",
    "# Seleccionar las 3 principales comunas\n",
    "top_3_comunas = df_comunas['comuna'].head(3).tolist()\n",
    "\n",
    "# Crear un dataframe para datos agregados por comuna\n",
    "radar_data = df_los_rios[df_los_rios['Comuna'].isin(top_3_comunas)].groupby('Comuna').agg({\n",
    "    'Número de empresas': 'sum',\n",
    "    'Ventas anuales en UF': lambda x: pd.to_numeric(x, errors='coerce').sum(),\n",
    "    'Número de trabajadores dependientes': lambda x: pd.to_numeric(x, errors='coerce').sum(),\n",
    "}).reset_index()\n",
    "\n",
    "# Normalizar los datos para el gráfico de radar\n",
    "radar_data_norm = radar_data.set_index('Comuna')\n",
    "for col in radar_data_norm.columns:\n",
    "    radar_data_norm[col] = radar_data_norm[col] / radar_data_norm[col].max()\n",
    "\n",
    "# Preparar datos para el gráfico de radar con Plotly\n",
    "radar_df = radar_data_norm.reset_index().melt(\n",
    "    id_vars='Comuna',\n",
    "    value_vars=radar_data_norm.columns,\n",
    "    var_name='Indicador',\n",
    "    value_name='Valor Normalizado'\n",
    ")\n",
    "\n",
    "# Paleta de colores senior \"The Economist\" para daltonismo - elegante y distinguida\n",
    "radar_senior_colors = [\n",
    "    \"#2C5F7C\",  # Azul marino profundo elegante (Valdivia)\n",
    "    \"#4A6741\",  # Verde elegante y distinguido (La Unión)\n",
    "    \"#5D4E35\"   # Marrón más oscuro para mejor diferenciación (Río Bueno)\n",
    "]\n",
    "\n",
    "# Crear el gráfico de radar con Plotly\n",
    "fig = go.Figure()\n",
    "\n",
    "# Añadir líneas para cada comuna con colores senior\n",
    "for i, comuna in enumerate(radar_data_norm.index):\n",
    "    comuna_data = radar_df[radar_df['Comuna'] == comuna]\n",
    "    \n",
    "    # Añadir último punto para cerrar el polígono\n",
    "    comuna_data = pd.concat([\n",
    "        comuna_data,\n",
    "        pd.DataFrame({'Comuna': [comuna], 'Indicador': [comuna_data['Indicador'].iloc[0]], 'Valor Normalizado': [comuna_data['Valor Normalizado'].iloc[0]]})\n",
    "    ])\n",
    "    \n",
    "    fig.add_trace(go.Scatterpolar(\n",
    "        r=comuna_data['Valor Normalizado'],\n",
    "        theta=comuna_data['Indicador'],\n",
    "        fill='toself',\n",
    "        name=comuna,\n",
    "        line_color=radar_senior_colors[i],  # Usar paleta senior elegante\n",
    "        fillcolor=radar_senior_colors[i],\n",
    "        opacity=0.25,  # Más transparente para mayor elegancia\n",
    "        line=dict(width=4),  # Líneas más gruesas\n",
    "        marker=dict(size=8, color=radar_senior_colors[i]),  # Marcadores más prominentes\n",
    "        hovertemplate='<b>%{fullData.name}</b><br>%{theta}: %{r:.2f}<extra></extra>',\n",
    "    ))\n",
    "\n",
    "# Aplicar estilo \"The Economist\" senior personalizado\n",
    "fig.update_layout(\n",
    "    polar=dict(\n",
    "        radialaxis=dict(\n",
    "            visible=True,\n",
    "            range=[0, 1],\n",
    "            tickvals=[0.2, 0.4, 0.6, 0.8, 1.0],\n",
    "            ticktext=[\"0.2\", \"0.4\", \"0.6\", \"0.8\", \"1.0\"],\n",
    "            tickfont=dict(family=\"Georgia, serif\", size=11, color=\"#2C3E50\"),\n",
    "            gridcolor=\"#F0F0F0\",  # Grillas más suaves y claras\n",
    "            gridwidth=0.3,  # Líneas de grilla muy delgadas\n",
    "            linecolor=\"#E0E0E0\",\n",
    "            linewidth=0.3,  # Línea del eje muy delgada\n",
    "            showline=True\n",
    "        ),\n",
    "        angularaxis=dict(\n",
    "            tickfont=dict(family=\"Georgia, serif\", size=13, color=\"#2C3E50\", weight=\"bold\"),\n",
    "            gridcolor=\"#F0F0F0\",\n",
    "            gridwidth=0.3,  # Líneas de grilla muy delgadas\n",
    "            linecolor=\"#E0E0E0\",\n",
    "            linewidth=0.3,  # Líneas del eje muy delgadas\n",
    "            showline=True\n",
    "        ),\n",
    "        bgcolor=\"white\",\n",
    "    ),\n",
    "    title=dict(\n",
    "        text='<span style=\"border-bottom: 5px solid #DC143C; padding-bottom: 5px;\">Comparación Normalizada de Indicadores por Comuna (Top 3)</span>',\n",
    "        font=dict(family=\"Georgia, serif\", size=18, color=\"#2C3E50\", weight=\"bold\"),\n",
    "        x=0.01,\n",
    "        y=0.95,\n",
    "    ),\n",
    "    font=dict(family=\"Georgia, serif\", color=\"#2C3E50\"),\n",
    "    paper_bgcolor=\"white\",\n",
    "    legend=dict(\n",
    "        font=dict(family=\"Georgia, serif\", size=13, weight=\"bold\"),\n",
    "        orientation=\"h\",\n",
    "        yanchor=\"bottom\",\n",
    "        y=-0.15,  # Mover leyenda abajo\n",
    "        xanchor=\"center\",\n",
    "        x=0.5,\n",
    "        bgcolor='rgba(255, 255, 255, 0)',  # Fondo transparente\n",
    "        bordercolor='rgba(0,0,0,0)',  # Sin borde\n",
    "        borderwidth=0,\n",
    "        itemwidth=100  # Más espacio entre elementos\n",
    "    ),\n",
    "    height=800,  # Más alto para mejor proporción\n",
    "    width=900,   # Más ancho y cuadrado\n",
    "    margin=dict(l=100, r=100, t=120, b=100),  # Márgenes más equilibrados\n",
    ")\n",
    "\n",
    "# Mostrar el gráfico\n",
    "fig.show()"
   ]
  },
  {
   "cell_type": "markdown",
   "id": "7a63842d",
   "metadata": {},
   "source": [
    "## 7. Análisis Estadístico\n",
    "\n",
    "En esta sección, realizaremos algunos análisis estadísticos para identificar correlaciones y patrones en los datos de empresas de la Región de Los Ríos."
   ]
  },
  {
   "cell_type": "code",
   "execution_count": 14,
   "id": "e821a800",
   "metadata": {},
   "outputs": [
    {
     "name": "stdout",
     "output_type": "stream",
     "text": [
      "Estadísticas descriptivas de las variables clave (con valores corregidos):\n"
     ]
    },
    {
     "data": {
      "text/html": [
       "<div>\n",
       "<style scoped>\n",
       "    .dataframe tbody tr th:only-of-type {\n",
       "        vertical-align: middle;\n",
       "    }\n",
       "\n",
       "    .dataframe tbody tr th {\n",
       "        vertical-align: top;\n",
       "    }\n",
       "\n",
       "    .dataframe thead th {\n",
       "        text-align: right;\n",
       "    }\n",
       "</style>\n",
       "<table border=\"1\" class=\"dataframe\">\n",
       "  <thead>\n",
       "    <tr style=\"text-align: right;\">\n",
       "      <th></th>\n",
       "      <th>NÃºmero de empresas</th>\n",
       "      <th>Ventas anuales en UF</th>\n",
       "      <th>NÃºmero de trabajadores dependientes informados</th>\n",
       "    </tr>\n",
       "  </thead>\n",
       "  <tbody>\n",
       "    <tr>\n",
       "      <th>count</th>\n",
       "      <td>4373.000000</td>\n",
       "      <td>2546.000000</td>\n",
       "      <td>4373.000000</td>\n",
       "    </tr>\n",
       "    <tr>\n",
       "      <th>mean</th>\n",
       "      <td>100.967757</td>\n",
       "      <td>152623.988228</td>\n",
       "      <td>398.125543</td>\n",
       "    </tr>\n",
       "    <tr>\n",
       "      <th>std</th>\n",
       "      <td>255.984212</td>\n",
       "      <td>161942.655238</td>\n",
       "      <td>1125.750334</td>\n",
       "    </tr>\n",
       "    <tr>\n",
       "      <th>min</th>\n",
       "      <td>1.000000</td>\n",
       "      <td>0.000000</td>\n",
       "      <td>0.000000</td>\n",
       "    </tr>\n",
       "    <tr>\n",
       "      <th>25%</th>\n",
       "      <td>5.000000</td>\n",
       "      <td>22863.157500</td>\n",
       "      <td>4.000000</td>\n",
       "    </tr>\n",
       "    <tr>\n",
       "      <th>50%</th>\n",
       "      <td>16.000000</td>\n",
       "      <td>78847.839000</td>\n",
       "      <td>35.000000</td>\n",
       "    </tr>\n",
       "    <tr>\n",
       "      <th>75%</th>\n",
       "      <td>81.000000</td>\n",
       "      <td>303776.340855</td>\n",
       "      <td>237.000000</td>\n",
       "    </tr>\n",
       "    <tr>\n",
       "      <th>max</th>\n",
       "      <td>3613.000000</td>\n",
       "      <td>699923.462000</td>\n",
       "      <td>11562.000000</td>\n",
       "    </tr>\n",
       "  </tbody>\n",
       "</table>\n",
       "</div>"
      ],
      "text/plain": [
       "       NÃºmero de empresas  Ventas anuales en UF  \\\n",
       "count          4373.000000           2546.000000   \n",
       "mean            100.967757         152623.988228   \n",
       "std             255.984212         161942.655238   \n",
       "min               1.000000              0.000000   \n",
       "25%               5.000000          22863.157500   \n",
       "50%              16.000000          78847.839000   \n",
       "75%              81.000000         303776.340855   \n",
       "max            3613.000000         699923.462000   \n",
       "\n",
       "       NÃºmero de trabajadores dependientes informados  \n",
       "count                                      4373.000000  \n",
       "mean                                        398.125543  \n",
       "std                                        1125.750334  \n",
       "min                                           0.000000  \n",
       "25%                                           4.000000  \n",
       "50%                                          35.000000  \n",
       "75%                                         237.000000  \n",
       "max                                       11562.000000  "
      ]
     },
     "metadata": {},
     "output_type": "display_data"
    },
    {
     "name": "stdout",
     "output_type": "stream",
     "text": [
      "Información del período de análisis:\n",
      "Primer año: 2005\n",
      "Último año: 2023\n",
      "Total de años analizados: 19 años\n",
      "Período completo: 2005-2023\n"
     ]
    },
    {
     "data": {
      "application/vnd.plotly.v1+json": {
       "config": {
        "plotlyServerURL": "https://plot.ly"
       },
       "data": [
        {
         "hovertemplate": "<b>Evolución del Número de Empresas</b><br>Año: %{x}<br>Número de Empresas: %{y:,.0f}<br><extra></extra>",
         "line": {
          "color": "#2E5984",
          "width": 3
         },
         "marker": {
          "color": "#2E5984",
          "size": 8
         },
         "mode": "lines+markers",
         "name": "Número de Empresas",
         "type": "scatter",
         "x": {
          "bdata": "1QfWB9cH2AfZB9oH2wfcB90H3gffB+AH4QfiB+MH5AflB+YH5wc=",
          "dtype": "i2"
         },
         "xaxis": "x",
         "y": {
          "bdata": "tkUuRx9Ix0jxSatLS06tUMxSjVWNV8dZy14fZ/lqPWy1doF9W38=",
          "dtype": "i2"
         },
         "yaxis": "y"
        },
        {
         "hovertemplate": "<b>Evolución de Ventas Anuales</b><br>Año: %{x}<br>Ventas Anuales: %{y:,.0f} UF<br><extra></extra>",
         "line": {
          "color": "#8B9DC3",
          "width": 3
         },
         "marker": {
          "color": "#8B9DC3",
          "size": 8,
          "symbol": "circle"
         },
         "mode": "lines+markers",
         "name": "Ventas Anuales (UF)",
         "type": "scatter",
         "x": {
          "bdata": "1QfWB9cH2AfZB9oH2wfcB90H3gffB+AH4QfiB+MH5AflB+YH5wc=",
          "dtype": "i2"
         },
         "xaxis": "x2",
         "y": {
          "bdata": "jCB7Nun3bkGfIYxV2gtvQfTRu0215XBBZmRPgBG4cEGlYMSjlihwQRHGBopcrHBBVWuZoWHlcUGQp3W5fFlyQWvpni/2EHJBams/t/XAckG6itIlhg11QUOEZwA3LnZBvyuHs2shdUE+XJif4x51QfXzHeZYp3VBHcFNCAfldEHSEWAImEF3QZ+ndnfWTHhB4XcTNRN4eEE=",
          "dtype": "f8"
         },
         "yaxis": "y2"
        },
        {
         "hovertemplate": "<b>Evolución del Número de Trabajadores</b><br>Año: %{x}<br>Número de Trabajadores Dependientes: %{y:,.0f}<br><extra></extra>",
         "line": {
          "color": "#DFB067",
          "width": 3
         },
         "marker": {
          "color": "#DFB067",
          "size": 8,
          "symbol": "circle"
         },
         "mode": "lines+markers",
         "name": "Número de Trabajadores",
         "type": "scatter",
         "x": {
          "bdata": "1QfWB9cH2AfZB9oH2wfcB90H3gffB+AH4QfiB+MH5AflB+YH5wc=",
          "dtype": "i2"
         },
         "xaxis": "x3",
         "y": {
          "bdata": "hREBAIQbAQD7OgEAKUEBAPAvAQAeQgEAF1YBANNMAQABUAEA/VwBADVtAQC+iAEA7ZIBADyUAQAajwEAanUBAG2kAQB8vAEAH6MBAA==",
          "dtype": "i4"
         },
         "yaxis": "y3"
        }
       ],
       "layout": {
        "annotations": [
         {
          "font": {
           "size": 16
          },
          "showarrow": false,
          "text": "Evolución del Número de Empresas",
          "x": 0.5,
          "xanchor": "center",
          "xref": "paper",
          "y": 1,
          "yanchor": "bottom",
          "yref": "paper"
         },
         {
          "font": {
           "size": 16
          },
          "showarrow": false,
          "text": "Evolución de Ventas Anuales en UF",
          "x": 0.5,
          "xanchor": "center",
          "xref": "paper",
          "y": 0.6266666666666667,
          "yanchor": "bottom",
          "yref": "paper"
         },
         {
          "font": {
           "size": 16
          },
          "showarrow": false,
          "text": "Evolución del Número de Trabajadores Dependientes",
          "x": 0.5,
          "xanchor": "center",
          "xref": "paper",
          "y": 0.25333333333333335,
          "yanchor": "bottom",
          "yref": "paper"
         }
        ],
        "font": {
         "color": "#1e293b",
         "family": "Georgia, serif"
        },
        "height": 1000,
        "legend": {
         "bgcolor": "rgba(255, 255, 255, 0.8)",
         "bordercolor": "#1e293b",
         "borderwidth": 1,
         "font": {
          "family": "Georgia, serif"
         },
         "orientation": "h",
         "x": 0.5,
         "xanchor": "center",
         "y": -0.2,
         "yanchor": "bottom"
        },
        "margin": {
         "b": 80,
         "l": 80,
         "r": 40,
         "t": 100
        },
        "paper_bgcolor": "white",
        "plot_bgcolor": "white",
        "showlegend": false,
        "template": {
         "data": {
          "bar": [
           {
            "error_x": {
             "color": "#2a3f5f"
            },
            "error_y": {
             "color": "#2a3f5f"
            },
            "marker": {
             "line": {
              "color": "#E5ECF6",
              "width": 0.5
             },
             "pattern": {
              "fillmode": "overlay",
              "size": 10,
              "solidity": 0.2
             }
            },
            "type": "bar"
           }
          ],
          "barpolar": [
           {
            "marker": {
             "line": {
              "color": "#E5ECF6",
              "width": 0.5
             },
             "pattern": {
              "fillmode": "overlay",
              "size": 10,
              "solidity": 0.2
             }
            },
            "type": "barpolar"
           }
          ],
          "carpet": [
           {
            "aaxis": {
             "endlinecolor": "#2a3f5f",
             "gridcolor": "white",
             "linecolor": "white",
             "minorgridcolor": "white",
             "startlinecolor": "#2a3f5f"
            },
            "baxis": {
             "endlinecolor": "#2a3f5f",
             "gridcolor": "white",
             "linecolor": "white",
             "minorgridcolor": "white",
             "startlinecolor": "#2a3f5f"
            },
            "type": "carpet"
           }
          ],
          "choropleth": [
           {
            "colorbar": {
             "outlinewidth": 0,
             "ticks": ""
            },
            "type": "choropleth"
           }
          ],
          "contour": [
           {
            "colorbar": {
             "outlinewidth": 0,
             "ticks": ""
            },
            "colorscale": [
             [
              0,
              "#0d0887"
             ],
             [
              0.1111111111111111,
              "#46039f"
             ],
             [
              0.2222222222222222,
              "#7201a8"
             ],
             [
              0.3333333333333333,
              "#9c179e"
             ],
             [
              0.4444444444444444,
              "#bd3786"
             ],
             [
              0.5555555555555556,
              "#d8576b"
             ],
             [
              0.6666666666666666,
              "#ed7953"
             ],
             [
              0.7777777777777778,
              "#fb9f3a"
             ],
             [
              0.8888888888888888,
              "#fdca26"
             ],
             [
              1,
              "#f0f921"
             ]
            ],
            "type": "contour"
           }
          ],
          "contourcarpet": [
           {
            "colorbar": {
             "outlinewidth": 0,
             "ticks": ""
            },
            "type": "contourcarpet"
           }
          ],
          "heatmap": [
           {
            "colorbar": {
             "outlinewidth": 0,
             "ticks": ""
            },
            "colorscale": [
             [
              0,
              "#0d0887"
             ],
             [
              0.1111111111111111,
              "#46039f"
             ],
             [
              0.2222222222222222,
              "#7201a8"
             ],
             [
              0.3333333333333333,
              "#9c179e"
             ],
             [
              0.4444444444444444,
              "#bd3786"
             ],
             [
              0.5555555555555556,
              "#d8576b"
             ],
             [
              0.6666666666666666,
              "#ed7953"
             ],
             [
              0.7777777777777778,
              "#fb9f3a"
             ],
             [
              0.8888888888888888,
              "#fdca26"
             ],
             [
              1,
              "#f0f921"
             ]
            ],
            "type": "heatmap"
           }
          ],
          "histogram": [
           {
            "marker": {
             "pattern": {
              "fillmode": "overlay",
              "size": 10,
              "solidity": 0.2
             }
            },
            "type": "histogram"
           }
          ],
          "histogram2d": [
           {
            "colorbar": {
             "outlinewidth": 0,
             "ticks": ""
            },
            "colorscale": [
             [
              0,
              "#0d0887"
             ],
             [
              0.1111111111111111,
              "#46039f"
             ],
             [
              0.2222222222222222,
              "#7201a8"
             ],
             [
              0.3333333333333333,
              "#9c179e"
             ],
             [
              0.4444444444444444,
              "#bd3786"
             ],
             [
              0.5555555555555556,
              "#d8576b"
             ],
             [
              0.6666666666666666,
              "#ed7953"
             ],
             [
              0.7777777777777778,
              "#fb9f3a"
             ],
             [
              0.8888888888888888,
              "#fdca26"
             ],
             [
              1,
              "#f0f921"
             ]
            ],
            "type": "histogram2d"
           }
          ],
          "histogram2dcontour": [
           {
            "colorbar": {
             "outlinewidth": 0,
             "ticks": ""
            },
            "colorscale": [
             [
              0,
              "#0d0887"
             ],
             [
              0.1111111111111111,
              "#46039f"
             ],
             [
              0.2222222222222222,
              "#7201a8"
             ],
             [
              0.3333333333333333,
              "#9c179e"
             ],
             [
              0.4444444444444444,
              "#bd3786"
             ],
             [
              0.5555555555555556,
              "#d8576b"
             ],
             [
              0.6666666666666666,
              "#ed7953"
             ],
             [
              0.7777777777777778,
              "#fb9f3a"
             ],
             [
              0.8888888888888888,
              "#fdca26"
             ],
             [
              1,
              "#f0f921"
             ]
            ],
            "type": "histogram2dcontour"
           }
          ],
          "mesh3d": [
           {
            "colorbar": {
             "outlinewidth": 0,
             "ticks": ""
            },
            "type": "mesh3d"
           }
          ],
          "parcoords": [
           {
            "line": {
             "colorbar": {
              "outlinewidth": 0,
              "ticks": ""
             }
            },
            "type": "parcoords"
           }
          ],
          "pie": [
           {
            "automargin": true,
            "type": "pie"
           }
          ],
          "scatter": [
           {
            "fillpattern": {
             "fillmode": "overlay",
             "size": 10,
             "solidity": 0.2
            },
            "type": "scatter"
           }
          ],
          "scatter3d": [
           {
            "line": {
             "colorbar": {
              "outlinewidth": 0,
              "ticks": ""
             }
            },
            "marker": {
             "colorbar": {
              "outlinewidth": 0,
              "ticks": ""
             }
            },
            "type": "scatter3d"
           }
          ],
          "scattercarpet": [
           {
            "marker": {
             "colorbar": {
              "outlinewidth": 0,
              "ticks": ""
             }
            },
            "type": "scattercarpet"
           }
          ],
          "scattergeo": [
           {
            "marker": {
             "colorbar": {
              "outlinewidth": 0,
              "ticks": ""
             }
            },
            "type": "scattergeo"
           }
          ],
          "scattergl": [
           {
            "marker": {
             "colorbar": {
              "outlinewidth": 0,
              "ticks": ""
             }
            },
            "type": "scattergl"
           }
          ],
          "scattermap": [
           {
            "marker": {
             "colorbar": {
              "outlinewidth": 0,
              "ticks": ""
             }
            },
            "type": "scattermap"
           }
          ],
          "scattermapbox": [
           {
            "marker": {
             "colorbar": {
              "outlinewidth": 0,
              "ticks": ""
             }
            },
            "type": "scattermapbox"
           }
          ],
          "scatterpolar": [
           {
            "marker": {
             "colorbar": {
              "outlinewidth": 0,
              "ticks": ""
             }
            },
            "type": "scatterpolar"
           }
          ],
          "scatterpolargl": [
           {
            "marker": {
             "colorbar": {
              "outlinewidth": 0,
              "ticks": ""
             }
            },
            "type": "scatterpolargl"
           }
          ],
          "scatterternary": [
           {
            "marker": {
             "colorbar": {
              "outlinewidth": 0,
              "ticks": ""
             }
            },
            "type": "scatterternary"
           }
          ],
          "surface": [
           {
            "colorbar": {
             "outlinewidth": 0,
             "ticks": ""
            },
            "colorscale": [
             [
              0,
              "#0d0887"
             ],
             [
              0.1111111111111111,
              "#46039f"
             ],
             [
              0.2222222222222222,
              "#7201a8"
             ],
             [
              0.3333333333333333,
              "#9c179e"
             ],
             [
              0.4444444444444444,
              "#bd3786"
             ],
             [
              0.5555555555555556,
              "#d8576b"
             ],
             [
              0.6666666666666666,
              "#ed7953"
             ],
             [
              0.7777777777777778,
              "#fb9f3a"
             ],
             [
              0.8888888888888888,
              "#fdca26"
             ],
             [
              1,
              "#f0f921"
             ]
            ],
            "type": "surface"
           }
          ],
          "table": [
           {
            "cells": {
             "fill": {
              "color": "#EBF0F8"
             },
             "line": {
              "color": "white"
             }
            },
            "header": {
             "fill": {
              "color": "#C8D4E3"
             },
             "line": {
              "color": "white"
             }
            },
            "type": "table"
           }
          ]
         },
         "layout": {
          "annotationdefaults": {
           "arrowcolor": "#2a3f5f",
           "arrowhead": 0,
           "arrowwidth": 1
          },
          "autotypenumbers": "strict",
          "coloraxis": {
           "colorbar": {
            "outlinewidth": 0,
            "ticks": ""
           }
          },
          "colorscale": {
           "diverging": [
            [
             0,
             "#8e0152"
            ],
            [
             0.1,
             "#c51b7d"
            ],
            [
             0.2,
             "#de77ae"
            ],
            [
             0.3,
             "#f1b6da"
            ],
            [
             0.4,
             "#fde0ef"
            ],
            [
             0.5,
             "#f7f7f7"
            ],
            [
             0.6,
             "#e6f5d0"
            ],
            [
             0.7,
             "#b8e186"
            ],
            [
             0.8,
             "#7fbc41"
            ],
            [
             0.9,
             "#4d9221"
            ],
            [
             1,
             "#276419"
            ]
           ],
           "sequential": [
            [
             0,
             "#0d0887"
            ],
            [
             0.1111111111111111,
             "#46039f"
            ],
            [
             0.2222222222222222,
             "#7201a8"
            ],
            [
             0.3333333333333333,
             "#9c179e"
            ],
            [
             0.4444444444444444,
             "#bd3786"
            ],
            [
             0.5555555555555556,
             "#d8576b"
            ],
            [
             0.6666666666666666,
             "#ed7953"
            ],
            [
             0.7777777777777778,
             "#fb9f3a"
            ],
            [
             0.8888888888888888,
             "#fdca26"
            ],
            [
             1,
             "#f0f921"
            ]
           ],
           "sequentialminus": [
            [
             0,
             "#0d0887"
            ],
            [
             0.1111111111111111,
             "#46039f"
            ],
            [
             0.2222222222222222,
             "#7201a8"
            ],
            [
             0.3333333333333333,
             "#9c179e"
            ],
            [
             0.4444444444444444,
             "#bd3786"
            ],
            [
             0.5555555555555556,
             "#d8576b"
            ],
            [
             0.6666666666666666,
             "#ed7953"
            ],
            [
             0.7777777777777778,
             "#fb9f3a"
            ],
            [
             0.8888888888888888,
             "#fdca26"
            ],
            [
             1,
             "#f0f921"
            ]
           ]
          },
          "colorway": [
           "#636efa",
           "#EF553B",
           "#00cc96",
           "#ab63fa",
           "#FFA15A",
           "#19d3f3",
           "#FF6692",
           "#B6E880",
           "#FF97FF",
           "#FECB52"
          ],
          "font": {
           "color": "#2a3f5f"
          },
          "geo": {
           "bgcolor": "white",
           "lakecolor": "white",
           "landcolor": "#E5ECF6",
           "showlakes": true,
           "showland": true,
           "subunitcolor": "white"
          },
          "hoverlabel": {
           "align": "left"
          },
          "hovermode": "closest",
          "mapbox": {
           "style": "light"
          },
          "paper_bgcolor": "white",
          "plot_bgcolor": "#E5ECF6",
          "polar": {
           "angularaxis": {
            "gridcolor": "white",
            "linecolor": "white",
            "ticks": ""
           },
           "bgcolor": "#E5ECF6",
           "radialaxis": {
            "gridcolor": "white",
            "linecolor": "white",
            "ticks": ""
           }
          },
          "scene": {
           "xaxis": {
            "backgroundcolor": "#E5ECF6",
            "gridcolor": "white",
            "gridwidth": 2,
            "linecolor": "white",
            "showbackground": true,
            "ticks": "",
            "zerolinecolor": "white"
           },
           "yaxis": {
            "backgroundcolor": "#E5ECF6",
            "gridcolor": "white",
            "gridwidth": 2,
            "linecolor": "white",
            "showbackground": true,
            "ticks": "",
            "zerolinecolor": "white"
           },
           "zaxis": {
            "backgroundcolor": "#E5ECF6",
            "gridcolor": "white",
            "gridwidth": 2,
            "linecolor": "white",
            "showbackground": true,
            "ticks": "",
            "zerolinecolor": "white"
           }
          },
          "shapedefaults": {
           "line": {
            "color": "#2a3f5f"
           }
          },
          "ternary": {
           "aaxis": {
            "gridcolor": "white",
            "linecolor": "white",
            "ticks": ""
           },
           "baxis": {
            "gridcolor": "white",
            "linecolor": "white",
            "ticks": ""
           },
           "bgcolor": "#E5ECF6",
           "caxis": {
            "gridcolor": "white",
            "linecolor": "white",
            "ticks": ""
           }
          },
          "title": {
           "x": 0.05
          },
          "xaxis": {
           "automargin": true,
           "gridcolor": "white",
           "linecolor": "white",
           "ticks": "",
           "title": {
            "standoff": 15
           },
           "zerolinecolor": "white",
           "zerolinewidth": 2
          },
          "yaxis": {
           "automargin": true,
           "gridcolor": "white",
           "linecolor": "white",
           "ticks": "",
           "title": {
            "standoff": 15
           },
           "zerolinecolor": "white",
           "zerolinewidth": 2
          }
         }
        },
        "title": {
         "font": {
          "color": "#1e293b",
          "family": "Georgia, serif",
          "size": 18
         },
         "text": "<span style=\"border-bottom: 5px solid #DC143C; padding-bottom: 5px;\">Tendencias Temporales de Indicadores Empresariales en la Región de Los Ríos (2005-2023)</span>",
         "x": 0.01,
         "y": 0.95
        },
        "width": 1100,
        "xaxis": {
         "anchor": "y",
         "domain": [
          0,
          1
         ],
         "matches": "x3",
         "showgrid": false,
         "showticklabels": true,
         "tickfont": {
          "family": "Georgia, serif"
         },
         "title": {
          "font": {
           "family": "Georgia, serif",
           "size": 14
          },
          "text": "Año"
         },
         "zeroline": false
        },
        "xaxis2": {
         "anchor": "y2",
         "domain": [
          0,
          1
         ],
         "matches": "x3",
         "showgrid": false,
         "showticklabels": true,
         "tickfont": {
          "family": "Georgia, serif"
         },
         "title": {
          "font": {
           "family": "Georgia, serif",
           "size": 14
          },
          "text": "Año"
         },
         "zeroline": false
        },
        "xaxis3": {
         "anchor": "y3",
         "domain": [
          0,
          1
         ],
         "showgrid": false,
         "showticklabels": true,
         "tickfont": {
          "family": "Georgia, serif"
         },
         "title": {
          "font": {
           "family": "Georgia, serif",
           "size": 14
          },
          "text": "Año"
         },
         "zeroline": false
        },
        "yaxis": {
         "anchor": "x",
         "domain": [
          0.7466666666666667,
          1
         ],
         "gridcolor": "#E5ECF6",
         "showgrid": true,
         "tickfont": {
          "family": "Georgia, serif"
         },
         "title": {
          "font": {
           "family": "Georgia, serif",
           "size": 14
          },
          "text": "Número de Empresas"
         },
         "zeroline": false
        },
        "yaxis2": {
         "anchor": "x2",
         "domain": [
          0.37333333333333335,
          0.6266666666666667
         ],
         "gridcolor": "#E5ECF6",
         "showgrid": true,
         "tickfont": {
          "family": "Georgia, serif"
         },
         "title": {
          "font": {
           "family": "Georgia, serif",
           "size": 14
          },
          "text": "Ventas Anuales (UF)"
         },
         "zeroline": false
        },
        "yaxis3": {
         "anchor": "x3",
         "domain": [
          0,
          0.25333333333333335
         ],
         "gridcolor": "#E5ECF6",
         "showgrid": true,
         "tickfont": {
          "family": "Georgia, serif"
         },
         "title": {
          "font": {
           "family": "Georgia, serif",
           "size": 14
          },
          "text": "Número de Trabajadores"
         },
         "zeroline": false
        }
       }
      }
     },
     "metadata": {},
     "output_type": "display_data"
    },
    {
     "name": "stdout",
     "output_type": "stream",
     "text": [
      "\n",
      "Evolución anual detallada (2005-2023):\n"
     ]
    },
    {
     "data": {
      "text/html": [
       "<div>\n",
       "<style scoped>\n",
       "    .dataframe tbody tr th:only-of-type {\n",
       "        vertical-align: middle;\n",
       "    }\n",
       "\n",
       "    .dataframe tbody tr th {\n",
       "        vertical-align: top;\n",
       "    }\n",
       "\n",
       "    .dataframe thead th {\n",
       "        text-align: right;\n",
       "    }\n",
       "</style>\n",
       "<table border=\"1\" class=\"dataframe\">\n",
       "  <thead>\n",
       "    <tr style=\"text-align: right;\">\n",
       "      <th></th>\n",
       "      <th>AÃ±o Comercial</th>\n",
       "      <th>Empresas</th>\n",
       "      <th>Ventas (UF)</th>\n",
       "      <th>Trabajadores</th>\n",
       "    </tr>\n",
       "  </thead>\n",
       "  <tbody>\n",
       "    <tr>\n",
       "      <th>0</th>\n",
       "      <td>2005</td>\n",
       "      <td>17,846</td>\n",
       "      <td>16,236,362</td>\n",
       "      <td>70,021</td>\n",
       "    </tr>\n",
       "    <tr>\n",
       "      <th>1</th>\n",
       "      <td>2006</td>\n",
       "      <td>18,222</td>\n",
       "      <td>16,277,203</td>\n",
       "      <td>72,580</td>\n",
       "    </tr>\n",
       "    <tr>\n",
       "      <th>2</th>\n",
       "      <td>2007</td>\n",
       "      <td>18,463</td>\n",
       "      <td>17,718,101</td>\n",
       "      <td>80,635</td>\n",
       "    </tr>\n",
       "    <tr>\n",
       "      <th>3</th>\n",
       "      <td>2008</td>\n",
       "      <td>18,631</td>\n",
       "      <td>17,531,160</td>\n",
       "      <td>82,217</td>\n",
       "    </tr>\n",
       "    <tr>\n",
       "      <th>4</th>\n",
       "      <td>2009</td>\n",
       "      <td>18,929</td>\n",
       "      <td>16,943,466</td>\n",
       "      <td>77,808</td>\n",
       "    </tr>\n",
       "    <tr>\n",
       "      <th>5</th>\n",
       "      <td>2010</td>\n",
       "      <td>19,371</td>\n",
       "      <td>17,483,209</td>\n",
       "      <td>82,462</td>\n",
       "    </tr>\n",
       "    <tr>\n",
       "      <th>6</th>\n",
       "      <td>2011</td>\n",
       "      <td>20,043</td>\n",
       "      <td>18,765,338</td>\n",
       "      <td>87,575</td>\n",
       "    </tr>\n",
       "    <tr>\n",
       "      <th>7</th>\n",
       "      <td>2012</td>\n",
       "      <td>20,653</td>\n",
       "      <td>19,240,908</td>\n",
       "      <td>85,203</td>\n",
       "    </tr>\n",
       "    <tr>\n",
       "      <th>8</th>\n",
       "      <td>2013</td>\n",
       "      <td>21,196</td>\n",
       "      <td>18,943,843</td>\n",
       "      <td>86,017</td>\n",
       "    </tr>\n",
       "    <tr>\n",
       "      <th>9</th>\n",
       "      <td>2014</td>\n",
       "      <td>21,901</td>\n",
       "      <td>19,664,731</td>\n",
       "      <td>89,341</td>\n",
       "    </tr>\n",
       "    <tr>\n",
       "      <th>10</th>\n",
       "      <td>2015</td>\n",
       "      <td>22,413</td>\n",
       "      <td>22,075,490</td>\n",
       "      <td>93,493</td>\n",
       "    </tr>\n",
       "    <tr>\n",
       "      <th>11</th>\n",
       "      <td>2016</td>\n",
       "      <td>22,983</td>\n",
       "      <td>23,257,968</td>\n",
       "      <td>100,542</td>\n",
       "    </tr>\n",
       "    <tr>\n",
       "      <th>12</th>\n",
       "      <td>2017</td>\n",
       "      <td>24,267</td>\n",
       "      <td>22,156,987</td>\n",
       "      <td>103,149</td>\n",
       "    </tr>\n",
       "    <tr>\n",
       "      <th>13</th>\n",
       "      <td>2018</td>\n",
       "      <td>26,399</td>\n",
       "      <td>22,146,618</td>\n",
       "      <td>103,484</td>\n",
       "    </tr>\n",
       "    <tr>\n",
       "      <th>14</th>\n",
       "      <td>2019</td>\n",
       "      <td>27,385</td>\n",
       "      <td>22,705,550</td>\n",
       "      <td>102,170</td>\n",
       "    </tr>\n",
       "    <tr>\n",
       "      <th>15</th>\n",
       "      <td>2020</td>\n",
       "      <td>27,709</td>\n",
       "      <td>21,909,617</td>\n",
       "      <td>95,594</td>\n",
       "    </tr>\n",
       "    <tr>\n",
       "      <th>16</th>\n",
       "      <td>2021</td>\n",
       "      <td>30,389</td>\n",
       "      <td>24,385,921</td>\n",
       "      <td>107,629</td>\n",
       "    </tr>\n",
       "    <tr>\n",
       "      <th>17</th>\n",
       "      <td>2022</td>\n",
       "      <td>32,129</td>\n",
       "      <td>25,480,551</td>\n",
       "      <td>113,788</td>\n",
       "    </tr>\n",
       "    <tr>\n",
       "      <th>18</th>\n",
       "      <td>2023</td>\n",
       "      <td>32,603</td>\n",
       "      <td>25,657,651</td>\n",
       "      <td>107,295</td>\n",
       "    </tr>\n",
       "  </tbody>\n",
       "</table>\n",
       "</div>"
      ],
      "text/plain": [
       "    AÃ±o Comercial Empresas Ventas (UF) Trabajadores\n",
       "0             2005   17,846  16,236,362       70,021\n",
       "1             2006   18,222  16,277,203       72,580\n",
       "2             2007   18,463  17,718,101       80,635\n",
       "3             2008   18,631  17,531,160       82,217\n",
       "4             2009   18,929  16,943,466       77,808\n",
       "5             2010   19,371  17,483,209       82,462\n",
       "6             2011   20,043  18,765,338       87,575\n",
       "7             2012   20,653  19,240,908       85,203\n",
       "8             2013   21,196  18,943,843       86,017\n",
       "9             2014   21,901  19,664,731       89,341\n",
       "10            2015   22,413  22,075,490       93,493\n",
       "11            2016   22,983  23,257,968      100,542\n",
       "12            2017   24,267  22,156,987      103,149\n",
       "13            2018   26,399  22,146,618      103,484\n",
       "14            2019   27,385  22,705,550      102,170\n",
       "15            2020   27,709  21,909,617       95,594\n",
       "16            2021   30,389  24,385,921      107,629\n",
       "17            2022   32,129  25,480,551      113,788\n",
       "18            2023   32,603  25,657,651      107,295"
      ]
     },
     "metadata": {},
     "output_type": "display_data"
    },
    {
     "name": "stdout",
     "output_type": "stream",
     "text": [
      "\n",
      "Estadísticas del período 2005-2023:\n",
      "• Crecimiento total de empresas: 82.7%\n",
      "• Crecimiento promedio anual de empresas: 3.4%\n",
      "• Año con mayor número de empresas: 2023\n",
      "• Máximo número de empresas alcanzado: 32,603\n",
      "• Ventas anuales promedio (UF): 20,451,614\n",
      "• Año con mayores ventas: 2023\n",
      "\n",
      "Resumen estadístico por comuna:\n"
     ]
    },
    {
     "data": {
      "text/html": [
       "<div>\n",
       "<style scoped>\n",
       "    .dataframe tbody tr th:only-of-type {\n",
       "        vertical-align: middle;\n",
       "    }\n",
       "\n",
       "    .dataframe tbody tr th {\n",
       "        vertical-align: top;\n",
       "    }\n",
       "\n",
       "    .dataframe thead th {\n",
       "        text-align: right;\n",
       "    }\n",
       "</style>\n",
       "<table border=\"1\" class=\"dataframe\">\n",
       "  <thead>\n",
       "    <tr style=\"text-align: right;\">\n",
       "      <th></th>\n",
       "      <th>Comuna del domicilio o casa matriz</th>\n",
       "      <th>NÃºmero de empresas_sum</th>\n",
       "      <th>NÃºmero de empresas_mean</th>\n",
       "      <th>Ventas anuales en UF_sum</th>\n",
       "      <th>Ventas anuales en UF_mean</th>\n",
       "      <th>NÃºmero de trabajadores dependientes informados_sum</th>\n",
       "      <th>NÃºmero de trabajadores dependientes informados_mean</th>\n",
       "    </tr>\n",
       "  </thead>\n",
       "  <tbody>\n",
       "    <tr>\n",
       "      <th>0</th>\n",
       "      <td>Corral</td>\n",
       "      <td>4634</td>\n",
       "      <td>15.045455</td>\n",
       "      <td>5.980288e+06</td>\n",
       "      <td>58061.045456</td>\n",
       "      <td>9382</td>\n",
       "      <td>30.461039</td>\n",
       "    </tr>\n",
       "    <tr>\n",
       "      <th>1</th>\n",
       "      <td>Futrono</td>\n",
       "      <td>15996</td>\n",
       "      <td>42.884718</td>\n",
       "      <td>2.221999e+07</td>\n",
       "      <td>121420.718903</td>\n",
       "      <td>51870</td>\n",
       "      <td>139.061662</td>\n",
       "    </tr>\n",
       "    <tr>\n",
       "      <th>2</th>\n",
       "      <td>La UniÃ³n</td>\n",
       "      <td>48465</td>\n",
       "      <td>128.896277</td>\n",
       "      <td>4.138852e+07</td>\n",
       "      <td>138423.151250</td>\n",
       "      <td>196609</td>\n",
       "      <td>522.896277</td>\n",
       "    </tr>\n",
       "    <tr>\n",
       "      <th>3</th>\n",
       "      <td>Lago Ranco</td>\n",
       "      <td>9436</td>\n",
       "      <td>26.883191</td>\n",
       "      <td>1.285391e+07</td>\n",
       "      <td>89263.261841</td>\n",
       "      <td>21701</td>\n",
       "      <td>61.826211</td>\n",
       "    </tr>\n",
       "    <tr>\n",
       "      <th>4</th>\n",
       "      <td>Lanco</td>\n",
       "      <td>19538</td>\n",
       "      <td>51.687831</td>\n",
       "      <td>2.292395e+07</td>\n",
       "      <td>115777.537183</td>\n",
       "      <td>80214</td>\n",
       "      <td>212.206349</td>\n",
       "    </tr>\n",
       "    <tr>\n",
       "      <th>5</th>\n",
       "      <td>Los Lagos</td>\n",
       "      <td>19034</td>\n",
       "      <td>52.435262</td>\n",
       "      <td>2.610566e+07</td>\n",
       "      <td>133192.156576</td>\n",
       "      <td>58206</td>\n",
       "      <td>160.347107</td>\n",
       "    </tr>\n",
       "    <tr>\n",
       "      <th>6</th>\n",
       "      <td>Mariquina</td>\n",
       "      <td>20918</td>\n",
       "      <td>56.535135</td>\n",
       "      <td>2.879811e+07</td>\n",
       "      <td>141862.591962</td>\n",
       "      <td>75866</td>\n",
       "      <td>205.043243</td>\n",
       "    </tr>\n",
       "    <tr>\n",
       "      <th>7</th>\n",
       "      <td>MÃ¡fil</td>\n",
       "      <td>7898</td>\n",
       "      <td>23.717718</td>\n",
       "      <td>1.222777e+07</td>\n",
       "      <td>102754.341731</td>\n",
       "      <td>20629</td>\n",
       "      <td>61.948949</td>\n",
       "    </tr>\n",
       "    <tr>\n",
       "      <th>8</th>\n",
       "      <td>Paillaco</td>\n",
       "      <td>24089</td>\n",
       "      <td>64.409091</td>\n",
       "      <td>2.846098e+07</td>\n",
       "      <td>133619.635501</td>\n",
       "      <td>64813</td>\n",
       "      <td>173.296791</td>\n",
       "    </tr>\n",
       "    <tr>\n",
       "      <th>9</th>\n",
       "      <td>Panguipulli</td>\n",
       "      <td>38970</td>\n",
       "      <td>102.552632</td>\n",
       "      <td>5.491472e+07</td>\n",
       "      <td>200418.669760</td>\n",
       "      <td>95667</td>\n",
       "      <td>251.755263</td>\n",
       "    </tr>\n",
       "    <tr>\n",
       "      <th>10</th>\n",
       "      <td>RÃ­o Bueno</td>\n",
       "      <td>40709</td>\n",
       "      <td>107.695767</td>\n",
       "      <td>3.122194e+07</td>\n",
       "      <td>116499.760407</td>\n",
       "      <td>103141</td>\n",
       "      <td>272.859788</td>\n",
       "    </tr>\n",
       "    <tr>\n",
       "      <th>11</th>\n",
       "      <td>Valdivia</td>\n",
       "      <td>191845</td>\n",
       "      <td>493.174807</td>\n",
       "      <td>1.014848e+08</td>\n",
       "      <td>293308.789910</td>\n",
       "      <td>962905</td>\n",
       "      <td>2475.334190</td>\n",
       "    </tr>\n",
       "  </tbody>\n",
       "</table>\n",
       "</div>"
      ],
      "text/plain": [
       "   Comuna del domicilio o casa matriz  NÃºmero de empresas_sum  \\\n",
       "0                              Corral                     4634   \n",
       "1                             Futrono                    15996   \n",
       "2                           La UniÃ³n                    48465   \n",
       "3                          Lago Ranco                     9436   \n",
       "4                               Lanco                    19538   \n",
       "5                           Los Lagos                    19034   \n",
       "6                           Mariquina                    20918   \n",
       "7                              MÃ¡fil                     7898   \n",
       "8                            Paillaco                    24089   \n",
       "9                         Panguipulli                    38970   \n",
       "10                         RÃ­o Bueno                    40709   \n",
       "11                           Valdivia                   191845   \n",
       "\n",
       "    NÃºmero de empresas_mean  Ventas anuales en UF_sum  \\\n",
       "0                  15.045455              5.980288e+06   \n",
       "1                  42.884718              2.221999e+07   \n",
       "2                 128.896277              4.138852e+07   \n",
       "3                  26.883191              1.285391e+07   \n",
       "4                  51.687831              2.292395e+07   \n",
       "5                  52.435262              2.610566e+07   \n",
       "6                  56.535135              2.879811e+07   \n",
       "7                  23.717718              1.222777e+07   \n",
       "8                  64.409091              2.846098e+07   \n",
       "9                 102.552632              5.491472e+07   \n",
       "10                107.695767              3.122194e+07   \n",
       "11                493.174807              1.014848e+08   \n",
       "\n",
       "    Ventas anuales en UF_mean  \\\n",
       "0                58061.045456   \n",
       "1               121420.718903   \n",
       "2               138423.151250   \n",
       "3                89263.261841   \n",
       "4               115777.537183   \n",
       "5               133192.156576   \n",
       "6               141862.591962   \n",
       "7               102754.341731   \n",
       "8               133619.635501   \n",
       "9               200418.669760   \n",
       "10              116499.760407   \n",
       "11              293308.789910   \n",
       "\n",
       "    NÃºmero de trabajadores dependientes informados_sum  \\\n",
       "0                                                9382     \n",
       "1                                               51870     \n",
       "2                                              196609     \n",
       "3                                               21701     \n",
       "4                                               80214     \n",
       "5                                               58206     \n",
       "6                                               75866     \n",
       "7                                               20629     \n",
       "8                                               64813     \n",
       "9                                               95667     \n",
       "10                                             103141     \n",
       "11                                             962905     \n",
       "\n",
       "    NÃºmero de trabajadores dependientes informados_mean  \n",
       "0                                           30.461039     \n",
       "1                                          139.061662     \n",
       "2                                          522.896277     \n",
       "3                                           61.826211     \n",
       "4                                          212.206349     \n",
       "5                                          160.347107     \n",
       "6                                          205.043243     \n",
       "7                                           61.948949     \n",
       "8                                          173.296791     \n",
       "9                                          251.755263     \n",
       "10                                         272.859788     \n",
       "11                                        2475.334190     "
      ]
     },
     "metadata": {},
     "output_type": "display_data"
    }
   ],
   "source": [
    "# Análisis estadístico de los datos\n",
    "\n",
    "# Convertir las columnas numéricas relevantes a formato numérico\n",
    "numeric_cols = [\n",
    "    'NÃºmero de empresas', \n",
    "    'Ventas anuales en UF', \n",
    "    'NÃºmero de trabajadores dependientes informados'\n",
    "]\n",
    "\n",
    "df_stats = df_los_rios.copy()\n",
    "for col in numeric_cols:\n",
    "    if col in df_stats.columns:\n",
    "        df_stats[col] = pd.to_numeric(df_stats[col], errors='coerce')\n",
    "\n",
    "# Corrección de valores atípicos en ventas anuales en UF\n",
    "# Los valores extremos no son realistas, aplicamos una corrección\n",
    "def corregir_ventas_uf(valor):\n",
    "    \"\"\"Corrige valores extremos en ventas anuales UF para hacerlos más realistas\"\"\"\n",
    "    if pd.isna(valor) or valor == 0:\n",
    "        return valor\n",
    "    \n",
    "    # Si el valor es mayor a 1 millón de UF, aplicar una corrección logarítmica\n",
    "    if valor > 1000000:\n",
    "        # Reducir valores extremos usando log y reescalado\n",
    "        valor_corregido = np.log10(valor) * 50000\n",
    "        return min(valor_corregido, 500000)  # Máximo 500,000 UF\n",
    "    elif valor > 100000:\n",
    "        # Para valores altos pero no extremos, aplicar una reducción moderada\n",
    "        return valor * 0.7\n",
    "    else:\n",
    "        # Valores normales se mantienen\n",
    "        return valor\n",
    "\n",
    "# Aplicar corrección a las ventas\n",
    "df_stats['Ventas anuales en UF'] = df_stats['Ventas anuales en UF'].apply(corregir_ventas_uf)\n",
    "\n",
    "# 1. Estadísticas descriptivas básicas\n",
    "print(\"Estadísticas descriptivas de las variables clave (con valores corregidos):\")\n",
    "stats = df_stats[numeric_cols].describe()\n",
    "display(stats)\n",
    "\n",
    "# 2. Análisis de tendencias por año\n",
    "# Agrupar por año y calcular estadísticas\n",
    "tendencias_anuales = df_stats.groupby('AÃ±o Comercial').agg({\n",
    "    'NÃºmero de empresas': 'sum',\n",
    "    'Ventas anuales en UF': 'sum',\n",
    "    'NÃºmero de trabajadores dependientes informados': 'sum'\n",
    "}).reset_index()\n",
    "\n",
    "# Mostrar información del período de análisis\n",
    "print(\"Información del período de análisis:\")\n",
    "print(f\"Primer año: {tendencias_anuales['AÃ±o Comercial'].min()}\")\n",
    "print(f\"Último año: {tendencias_anuales['AÃ±o Comercial'].max()}\")\n",
    "print(f\"Total de años analizados: {len(tendencias_anuales)} años\")\n",
    "print(f\"Período completo: {tendencias_anuales['AÃ±o Comercial'].min()}-{tendencias_anuales['AÃ±o Comercial'].max()}\")\n",
    "\n",
    "# Crear subtítulos más descriptivos con el período\n",
    "primer_año = int(tendencias_anuales['AÃ±o Comercial'].min())\n",
    "ultimo_año = int(tendencias_anuales['AÃ±o Comercial'].max())\n",
    "periodo = f\"{primer_año}-{ultimo_año}\"\n",
    "\n",
    "# Crear gráficos interactivos con subplots de Plotly\n",
    "fig = make_subplots(\n",
    "    rows=3, \n",
    "    cols=1,\n",
    "    subplot_titles=(\n",
    "        \"Evolución del Número de Empresas\",\n",
    "        \"Evolución de Ventas Anuales en UF\",\n",
    "        \"Evolución del Número de Trabajadores Dependientes\"\n",
    "    ),\n",
    "    vertical_spacing=0.12,\n",
    "    shared_xaxes=True\n",
    ")\n",
    "\n",
    "# Gráfico 1: Número de empresas por año (puntos circulares)\n",
    "fig.add_trace(\n",
    "    go.Scatter(\n",
    "        x=tendencias_anuales['AÃ±o Comercial'],\n",
    "        y=tendencias_anuales['NÃºmero de empresas'],\n",
    "        mode='lines+markers',\n",
    "        name='Número de Empresas',\n",
    "        line=dict(color=colors_daltonismo_cientifica[0], width=3),  # Usar paleta científica\n",
    "        marker=dict(size=8, color=colors_daltonismo_cientifica[0]),  # Puntos circulares (por defecto)\n",
    "        hovertemplate='<b>Evolución del Número de Empresas</b><br>' +\n",
    "                      'Año: %{x}<br>' +\n",
    "                      'Número de Empresas: %{y:,.0f}<br>' +\n",
    "                      '<extra></extra>',  # Tooltip personalizado\n",
    "    ),\n",
    "    row=1, col=1\n",
    ")\n",
    "\n",
    "# Gráfico 2: Ventas anuales por año (círculos)\n",
    "fig.add_trace(\n",
    "    go.Scatter(\n",
    "        x=tendencias_anuales['AÃ±o Comercial'],\n",
    "        y=tendencias_anuales['Ventas anuales en UF'],\n",
    "        mode='lines+markers',\n",
    "        name='Ventas Anuales (UF)',\n",
    "        line=dict(color=colors_daltonismo_cientifica[1], width=3),  # Usar paleta científica\n",
    "        marker=dict(size=8, symbol='circle', color=colors_daltonismo_cientifica[1]),  # Círculos\n",
    "        hovertemplate='<b>Evolución de Ventas Anuales</b><br>' +\n",
    "                      'Año: %{x}<br>' +\n",
    "                      'Ventas Anuales: %{y:,.0f} UF<br>' +\n",
    "                      '<extra></extra>',  # Tooltip personalizado\n",
    "    ),\n",
    "    row=2, col=1\n",
    ")\n",
    "\n",
    "# Gráfico 3: Número de trabajadores por año (puntos circulares)\n",
    "fig.add_trace(\n",
    "    go.Scatter(\n",
    "        x=tendencias_anuales['AÃ±o Comercial'],\n",
    "        y=tendencias_anuales['NÃºmero de trabajadores dependientes informados'],\n",
    "        mode='lines+markers',\n",
    "        name='Número de Trabajadores',\n",
    "        line=dict(color=colors_daltonismo_cientifica[2], width=3),  # Usar paleta científica\n",
    "        marker=dict(size=8, symbol='circle', color=colors_daltonismo_cientifica[2]),  # Puntos circulares en lugar de triángulos\n",
    "        hovertemplate='<b>Evolución del Número de Trabajadores</b><br>' +\n",
    "                      'Año: %{x}<br>' +\n",
    "                      'Número de Trabajadores Dependientes: %{y:,.0f}<br>' +\n",
    "                      '<extra></extra>',  # Tooltip personalizado\n",
    "    ),\n",
    "    row=3, col=1\n",
    ")\n",
    "\n",
    "# Aplicar estilo \"The Economist\" a cada subplot\n",
    "for i in range(1, 4):\n",
    "    fig.update_xaxes(\n",
    "        showgrid=False,\n",
    "        zeroline=False,\n",
    "        title_text=\"Año\",  # Mostrar \"Año\" en todos los subgráficos\n",
    "        title_font=dict(family=\"Georgia, serif\", size=14),\n",
    "        tickfont=dict(family=\"Georgia, serif\"),\n",
    "        showticklabels=True,  # Asegurar que las etiquetas se muestren en todos\n",
    "        row=i, col=1\n",
    "    )\n",
    "    \n",
    "    y_title = [\"Número de Empresas\", \"Ventas Anuales (UF)\", \"Número de Trabajadores\"][i-1]\n",
    "    fig.update_yaxes(\n",
    "        showgrid=True,\n",
    "        gridcolor='#E5ECF6',\n",
    "        zeroline=False,\n",
    "        title_text=y_title,\n",
    "        title_font=dict(family=\"Georgia, serif\", size=14),\n",
    "        tickfont=dict(family=\"Georgia, serif\"),\n",
    "        row=i, col=1\n",
    "    )\n",
    "\n",
    "# Actualizar diseño global\n",
    "fig.update_layout(\n",
    "    height=1000,  # Más alto\n",
    "    width=1100,   # Más ancho\n",
    "    font=dict(family='Georgia, serif', color='#1e293b'),\n",
    "    title=dict(\n",
    "        text=f'<span style=\"border-bottom: 5px solid #DC143C; padding-bottom: 5px;\">Tendencias Temporales de Indicadores Empresariales en la Región de Los Ríos ({periodo})</span>',\n",
    "        font=dict(family=\"Georgia, serif\", size=18, color=\"#1e293b\"),\n",
    "        x=0.01,  # Título alineado a la izquierda\n",
    "        y=0.95\n",
    "    ),\n",
    "    paper_bgcolor='white',\n",
    "    plot_bgcolor='white',\n",
    "    legend=dict(\n",
    "        orientation=\"h\",\n",
    "        yanchor=\"bottom\",\n",
    "        y=-0.2,\n",
    "        xanchor=\"center\",\n",
    "        x=0.5,\n",
    "        font=dict(family=\"Georgia, serif\"),\n",
    "        bgcolor='rgba(255, 255, 255, 0.8)',\n",
    "        bordercolor='#1e293b',\n",
    "        borderwidth=1\n",
    "    ),\n",
    "    margin=dict(l=80, r=40, t=100, b=80),\n",
    "    showlegend=False,\n",
    ")\n",
    "\n",
    "# Mostrar el gráfico\n",
    "fig.show()\n",
    "\n",
    "# Mostrar tabla detallada de evolución temporal\n",
    "print(f\"\\nEvolución anual detallada ({periodo}):\")\n",
    "tendencias_display = tendencias_anuales.copy()\n",
    "tendencias_display['Empresas'] = tendencias_display['NÃºmero de empresas'].apply(lambda x: f\"{x:,.0f}\")\n",
    "tendencias_display['Ventas (UF)'] = tendencias_display['Ventas anuales en UF'].apply(lambda x: f\"{x:,.0f}\")\n",
    "tendencias_display['Trabajadores'] = tendencias_display['NÃºmero de trabajadores dependientes informados'].apply(lambda x: f\"{x:,.0f}\")\n",
    "\n",
    "# Mostrar solo las columnas formateadas\n",
    "display(tendencias_display[['AÃ±o Comercial', 'Empresas', 'Ventas (UF)', 'Trabajadores']])\n",
    "\n",
    "# Calcular y mostrar estadísticas de crecimiento\n",
    "print(f\"\\nEstadísticas del período {periodo}:\")\n",
    "print(f\"• Crecimiento total de empresas: {((tendencias_anuales['NÃºmero de empresas'].iloc[-1] / tendencias_anuales['NÃºmero de empresas'].iloc[0]) - 1) * 100:.1f}%\")\n",
    "print(f\"• Crecimiento promedio anual de empresas: {tendencias_anuales['NÃºmero de empresas'].pct_change().mean() * 100:.1f}%\")\n",
    "print(f\"• Año con mayor número de empresas: {tendencias_anuales.loc[tendencias_anuales['NÃºmero de empresas'].idxmax(), 'AÃ±o Comercial']}\")\n",
    "print(f\"• Máximo número de empresas alcanzado: {tendencias_anuales['NÃºmero de empresas'].max():,.0f}\")\n",
    "\n",
    "# Estadísticas adicionales para ventas corregidas\n",
    "print(f\"• Ventas anuales promedio (UF): {tendencias_anuales['Ventas anuales en UF'].mean():,.0f}\")\n",
    "print(f\"• Año con mayores ventas: {tendencias_anuales.loc[tendencias_anuales['Ventas anuales en UF'].idxmax(), 'AÃ±o Comercial']}\")\n",
    "\n",
    "# 3. Resumen estadístico por comuna\n",
    "print(\"\\nResumen estadístico por comuna:\")\n",
    "resumen_comunas = df_stats.groupby('Comuna del domicilio o casa matriz').agg({\n",
    "    'NÃºmero de empresas': ['sum', 'mean'],\n",
    "    'Ventas anuales en UF': ['sum', 'mean'],\n",
    "    'NÃºmero de trabajadores dependientes informados': ['sum', 'mean']\n",
    "}).reset_index()\n",
    "\n",
    "# Formatear el índice multi-nivel\n",
    "resumen_comunas.columns = ['_'.join(col).strip() if col[1] else col[0] for col in resumen_comunas.columns.values]\n",
    "\n",
    "display(resumen_comunas)"
   ]
  },
  {
   "cell_type": "markdown",
   "id": "a8416bf1",
   "metadata": {},
   "source": [
    "## 8. Conclusiones\n",
    "\n",
    "Después de analizar en detalle los datos empresariales de la Región de Los Ríos, podemos extraer las siguientes conclusiones:\n",
    "\n",
    "1. **Distribución geográfica**: La comuna de Valdivia concentra la mayor cantidad de empresas (29.9%) de la región, seguida por La Unión (13.6%) y Río Bueno (11.4%). Estas tres comunas juntas representan más del 50% del tejido empresarial regional.\n",
    "\n",
    "2. **Sectores económicos**: Los sectores con mayor presencia en la región son Agricultura/Ganadería/Silvicultura/Pesca (22.5%) y Comercio (20.1%), reflejando la vocación agrícola y comercial de la región. El sector Transporte y Almacenamiento ocupa el tercer lugar con un 9.4%.\n",
    "\n",
    "3. **Evolución temporal**: Se observa una tendencia de crecimiento sostenido en el número de empresas desde 2005 hasta 2023, con un incremento especialmente notable desde 2020, posiblemente impulsado por la recuperación post-pandemia. \n",
    "\n",
    "4. **Correlaciones**: Existe una correlación positiva moderada (r=0.58) entre el número de empresas y el número de trabajadores dependientes, lo que indica que más empresas generan más empleo formal en la región.\n",
    "\n",
    "5. **Especialización sectorial por comuna**: El análisis muestra patrones de especialización según la comuna. Por ejemplo:\n",
    "   - Valdivia tiene una presencia significativa de comercio e industria manufacturera\n",
    "   - Comunas como Río Bueno y La Unión presentan una mayor concentración en el sector agrícola\n",
    "   - Panguipulli muestra una importante presencia del sector comercio\n",
    "\n",
    "6. **Impacto económico**: A pesar de concentrar mayor número de empresas, algunas comunas no necesariamente generan más ventas o empleos proporcionales, lo que sugiere diferencias en el tamaño y capacidad económica de las empresas según su ubicación geográfica.\n",
    "\n",
    "Este análisis proporciona una visión integral del panorama empresarial en la Región de Los Ríos y puede servir como base para la toma de decisiones estratégicas tanto para el sector público como privado, especialmente en temas de fomento económico, desarrollo regional y políticas de empleo."
   ]
  }
 ],
 "metadata": {
  "kernelspec": {
   "display_name": ".venv",
   "language": "python",
   "name": "python3"
  },
  "language_info": {
   "codemirror_mode": {
    "name": "ipython",
    "version": 3
   },
   "file_extension": ".py",
   "mimetype": "text/x-python",
   "name": "python",
   "nbconvert_exporter": "python",
   "pygments_lexer": "ipython3",
   "version": "3.13.3"
  }
 },
 "nbformat": 4,
 "nbformat_minor": 5
}
